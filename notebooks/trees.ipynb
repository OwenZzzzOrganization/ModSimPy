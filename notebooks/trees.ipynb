{
 "cells": [
  {
   "cell_type": "markdown",
   "metadata": {
    "toc": true
   },
   "source": [
    "<h1>Table of Contents<span class=\"tocSkip\"></span></h1>\n",
    "<div class=\"toc\"><ul class=\"toc-item\"><li><span><a href=\"#Modeling-and-Simulation-in-Python\" data-toc-modified-id=\"Modeling-and-Simulation-in-Python-1\"><span class=\"toc-item-num\">1&nbsp;&nbsp;</span>Modeling and Simulation in Python</a></span><ul class=\"toc-item\"><li><ul class=\"toc-item\"><li><span><a href=\"#Modeling-tree-growth\" data-toc-modified-id=\"Modeling-tree-growth-1.0.1\"><span class=\"toc-item-num\">1.0.1&nbsp;&nbsp;</span>Modeling tree growth</a></span></li><li><span><a href=\"#Model-1\" data-toc-modified-id=\"Model-1-1.0.2\"><span class=\"toc-item-num\">1.0.2&nbsp;&nbsp;</span>Model 1</a></span></li><li><span><a href=\"#Model-2\" data-toc-modified-id=\"Model-2-1.0.3\"><span class=\"toc-item-num\">1.0.3&nbsp;&nbsp;</span>Model 2</a></span></li><li><span><a href=\"#Model-3\" data-toc-modified-id=\"Model-3-1.0.4\"><span class=\"toc-item-num\">1.0.4&nbsp;&nbsp;</span>Model 3</a></span></li><li><span><a href=\"#Analysis\" data-toc-modified-id=\"Analysis-1.0.5\"><span class=\"toc-item-num\">1.0.5&nbsp;&nbsp;</span>Analysis</a></span><ul class=\"toc-item\"><li><span><a href=\"#Model-2\" data-toc-modified-id=\"Model-2-1.0.5.1\"><span class=\"toc-item-num\">1.0.5.1&nbsp;&nbsp;</span>Model 2</a></span></li><li><span><a href=\"#Model-3\" data-toc-modified-id=\"Model-3-1.0.5.2\"><span class=\"toc-item-num\">1.0.5.2&nbsp;&nbsp;</span>Model 3</a></span></li></ul></li></ul></li></ul></li></ul></div>"
   ]
  },
  {
   "cell_type": "markdown",
   "metadata": {},
   "source": [
    "# Modeling and Simulation in Python\n",
    "\n",
    "Copyright 2018 Allen Downey\n",
    "\n",
    "License: [Creative Commons Attribution 4.0 International](https://creativecommons.org/licenses/by/4.0)"
   ]
  },
  {
   "cell_type": "code",
   "execution_count": 1,
   "metadata": {
    "ExecuteTime": {
     "end_time": "2022-02-28T02:17:56.066907Z",
     "start_time": "2022-02-28T02:17:52.497590Z"
    }
   },
   "outputs": [],
   "source": [
    "# Configure Jupyter so figures appear in the notebook\n",
    "%matplotlib inline\n",
    "\n",
    "# Configure Jupyter to display the assigned value after an assignment\n",
    "%config InteractiveShell.ast_node_interactivity='last_expr_or_assign'\n",
    "\n",
    "# import functions from the modsim.py module\n",
    "from modsim import *"
   ]
  },
  {
   "cell_type": "markdown",
   "metadata": {},
   "source": [
    "### Modeling tree growth\n",
    "\n",
    "This case study is based on \"[Height-Age Curves for Planted Stands of Douglas Fir, with Adjustments for Density](http://www.cfr.washington.edu/research.smc/working_papers/smc_working_paper_1.pdf)\", a working paper by Flewelling, Collier, Gonyea, Marshall, and Turnblom.\n",
    "\n",
    "It provides \"site index curves\", which are curves that show the expected height of the tallest tree in a stand of Douglas firs as a function of age, for a stand where the trees are the same age.\n",
    "\n",
    "Depending on the quality of the site, the trees might grow more quickly or slowing.  So each curve is identified by a \"site index\" that indicates the quality of the site.\n",
    "\n",
    "I'll start with some of the data from their Table 1.  Here's the sequence of ages."
   ]
  },
  {
   "cell_type": "code",
   "execution_count": 2,
   "metadata": {
    "ExecuteTime": {
     "end_time": "2022-02-28T02:30:55.431401Z",
     "start_time": "2022-02-28T02:30:55.424445Z"
    }
   },
   "outputs": [
    {
     "data": {
      "text/plain": [
       "[2, 3, 4, 5, 6, 8, 10, 15, 20, 25, 30, 35, 40, 45, 50, 55, 60, 65, 70]"
      ]
     },
     "execution_count": 2,
     "metadata": {},
     "output_type": "execute_result"
    }
   ],
   "source": [
    "years = [2, 3, 4, 5, 6, 8, 10, 15, 20, 25, 30,\n",
    "         35, 40, 45, 50, 55, 60, 65, 70]"
   ]
  },
  {
   "cell_type": "markdown",
   "metadata": {},
   "source": [
    "And here's the series of heights for a site with index 45, indicating that height at 30 years is 45 feet."
   ]
  },
  {
   "cell_type": "code",
   "execution_count": 3,
   "metadata": {
    "ExecuteTime": {
     "end_time": "2022-02-28T02:36:17.272357Z",
     "start_time": "2022-02-28T02:36:17.254401Z"
    }
   },
   "outputs": [
    {
     "data": {
      "text/html": [
       "<div>\n",
       "<style scoped>\n",
       "    .dataframe tbody tr th:only-of-type {\n",
       "        vertical-align: middle;\n",
       "    }\n",
       "\n",
       "    .dataframe tbody tr th {\n",
       "        vertical-align: top;\n",
       "    }\n",
       "\n",
       "    .dataframe thead th {\n",
       "        text-align: right;\n",
       "    }\n",
       "</style>\n",
       "<table border=\"1\" class=\"dataframe\">\n",
       "  <thead>\n",
       "    <tr style=\"text-align: right;\">\n",
       "      <th></th>\n",
       "      <th>values</th>\n",
       "    </tr>\n",
       "  </thead>\n",
       "  <tbody>\n",
       "    <tr>\n",
       "      <th>2</th>\n",
       "      <td>1.40</td>\n",
       "    </tr>\n",
       "    <tr>\n",
       "      <th>3</th>\n",
       "      <td>1.49</td>\n",
       "    </tr>\n",
       "    <tr>\n",
       "      <th>4</th>\n",
       "      <td>1.75</td>\n",
       "    </tr>\n",
       "    <tr>\n",
       "      <th>5</th>\n",
       "      <td>2.18</td>\n",
       "    </tr>\n",
       "    <tr>\n",
       "      <th>6</th>\n",
       "      <td>2.78</td>\n",
       "    </tr>\n",
       "    <tr>\n",
       "      <th>8</th>\n",
       "      <td>4.45</td>\n",
       "    </tr>\n",
       "    <tr>\n",
       "      <th>10</th>\n",
       "      <td>6.74</td>\n",
       "    </tr>\n",
       "    <tr>\n",
       "      <th>15</th>\n",
       "      <td>14.86</td>\n",
       "    </tr>\n",
       "    <tr>\n",
       "      <th>20</th>\n",
       "      <td>25.39</td>\n",
       "    </tr>\n",
       "    <tr>\n",
       "      <th>25</th>\n",
       "      <td>35.60</td>\n",
       "    </tr>\n",
       "    <tr>\n",
       "      <th>30</th>\n",
       "      <td>45.00</td>\n",
       "    </tr>\n",
       "    <tr>\n",
       "      <th>35</th>\n",
       "      <td>53.65</td>\n",
       "    </tr>\n",
       "    <tr>\n",
       "      <th>40</th>\n",
       "      <td>61.60</td>\n",
       "    </tr>\n",
       "    <tr>\n",
       "      <th>45</th>\n",
       "      <td>68.92</td>\n",
       "    </tr>\n",
       "    <tr>\n",
       "      <th>50</th>\n",
       "      <td>75.66</td>\n",
       "    </tr>\n",
       "    <tr>\n",
       "      <th>55</th>\n",
       "      <td>81.85</td>\n",
       "    </tr>\n",
       "    <tr>\n",
       "      <th>60</th>\n",
       "      <td>87.56</td>\n",
       "    </tr>\n",
       "    <tr>\n",
       "      <th>65</th>\n",
       "      <td>92.80</td>\n",
       "    </tr>\n",
       "    <tr>\n",
       "      <th>70</th>\n",
       "      <td>97.63</td>\n",
       "    </tr>\n",
       "  </tbody>\n",
       "</table>\n",
       "</div>"
      ],
      "text/plain": [
       "2      1.40\n",
       "3      1.49\n",
       "4      1.75\n",
       "5      2.18\n",
       "6      2.78\n",
       "8      4.45\n",
       "10     6.74\n",
       "15    14.86\n",
       "20    25.39\n",
       "25    35.60\n",
       "30    45.00\n",
       "35    53.65\n",
       "40    61.60\n",
       "45    68.92\n",
       "50    75.66\n",
       "55    81.85\n",
       "60    87.56\n",
       "65    92.80\n",
       "70    97.63\n",
       "dtype: float64"
      ]
     },
     "execution_count": 3,
     "metadata": {},
     "output_type": "execute_result"
    }
   ],
   "source": [
    "site45 = TimeSeries([1.4, 1.49, 1.75, 2.18, 2.78, 4.45, 6.74,\n",
    "                    14.86, 25.39, 35.60, 45.00, 53.65, 61.60,\n",
    "                    68.92, 75.66, 81.85, 87.56, 92.8, 97.63],\n",
    "                    index=years)"
   ]
  },
  {
   "cell_type": "markdown",
   "metadata": {},
   "source": [
    "Here's the series for site index 65."
   ]
  },
  {
   "cell_type": "code",
   "execution_count": 4,
   "metadata": {
    "ExecuteTime": {
     "end_time": "2022-02-28T02:37:02.721116Z",
     "start_time": "2022-02-28T02:37:02.701170Z"
    }
   },
   "outputs": [
    {
     "data": {
      "text/html": [
       "<div>\n",
       "<style scoped>\n",
       "    .dataframe tbody tr th:only-of-type {\n",
       "        vertical-align: middle;\n",
       "    }\n",
       "\n",
       "    .dataframe tbody tr th {\n",
       "        vertical-align: top;\n",
       "    }\n",
       "\n",
       "    .dataframe thead th {\n",
       "        text-align: right;\n",
       "    }\n",
       "</style>\n",
       "<table border=\"1\" class=\"dataframe\">\n",
       "  <thead>\n",
       "    <tr style=\"text-align: right;\">\n",
       "      <th></th>\n",
       "      <th>values</th>\n",
       "    </tr>\n",
       "  </thead>\n",
       "  <tbody>\n",
       "    <tr>\n",
       "      <th>2</th>\n",
       "      <td>1.40</td>\n",
       "    </tr>\n",
       "    <tr>\n",
       "      <th>3</th>\n",
       "      <td>1.56</td>\n",
       "    </tr>\n",
       "    <tr>\n",
       "      <th>4</th>\n",
       "      <td>2.01</td>\n",
       "    </tr>\n",
       "    <tr>\n",
       "      <th>5</th>\n",
       "      <td>2.76</td>\n",
       "    </tr>\n",
       "    <tr>\n",
       "      <th>6</th>\n",
       "      <td>3.79</td>\n",
       "    </tr>\n",
       "    <tr>\n",
       "      <th>8</th>\n",
       "      <td>6.64</td>\n",
       "    </tr>\n",
       "    <tr>\n",
       "      <th>10</th>\n",
       "      <td>10.44</td>\n",
       "    </tr>\n",
       "    <tr>\n",
       "      <th>15</th>\n",
       "      <td>23.26</td>\n",
       "    </tr>\n",
       "    <tr>\n",
       "      <th>20</th>\n",
       "      <td>37.65</td>\n",
       "    </tr>\n",
       "    <tr>\n",
       "      <th>25</th>\n",
       "      <td>51.66</td>\n",
       "    </tr>\n",
       "    <tr>\n",
       "      <th>30</th>\n",
       "      <td>65.00</td>\n",
       "    </tr>\n",
       "    <tr>\n",
       "      <th>35</th>\n",
       "      <td>77.50</td>\n",
       "    </tr>\n",
       "    <tr>\n",
       "      <th>40</th>\n",
       "      <td>89.07</td>\n",
       "    </tr>\n",
       "    <tr>\n",
       "      <th>45</th>\n",
       "      <td>99.66</td>\n",
       "    </tr>\n",
       "    <tr>\n",
       "      <th>50</th>\n",
       "      <td>109.28</td>\n",
       "    </tr>\n",
       "    <tr>\n",
       "      <th>55</th>\n",
       "      <td>117.96</td>\n",
       "    </tr>\n",
       "    <tr>\n",
       "      <th>60</th>\n",
       "      <td>125.74</td>\n",
       "    </tr>\n",
       "    <tr>\n",
       "      <th>65</th>\n",
       "      <td>132.68</td>\n",
       "    </tr>\n",
       "    <tr>\n",
       "      <th>70</th>\n",
       "      <td>138.84</td>\n",
       "    </tr>\n",
       "  </tbody>\n",
       "</table>\n",
       "</div>"
      ],
      "text/plain": [
       "2       1.40\n",
       "3       1.56\n",
       "4       2.01\n",
       "5       2.76\n",
       "6       3.79\n",
       "8       6.64\n",
       "10     10.44\n",
       "15     23.26\n",
       "20     37.65\n",
       "25     51.66\n",
       "30     65.00\n",
       "35     77.50\n",
       "40     89.07\n",
       "45     99.66\n",
       "50    109.28\n",
       "55    117.96\n",
       "60    125.74\n",
       "65    132.68\n",
       "70    138.84\n",
       "dtype: float64"
      ]
     },
     "execution_count": 4,
     "metadata": {},
     "output_type": "execute_result"
    }
   ],
   "source": [
    "site65 = TimeSeries([1.4, 1.56, 2.01, 2.76, 3.79, 6.64, 10.44, \n",
    "                    23.26, 37.65, 51.66, 65.00, 77.50, 89.07, \n",
    "                    99.66, 109.28, 117.96, 125.74, 132.68, 138.84],\n",
    "                    index=years)"
   ]
  },
  {
   "cell_type": "markdown",
   "metadata": {},
   "source": [
    "And for site index 85."
   ]
  },
  {
   "cell_type": "code",
   "execution_count": 5,
   "metadata": {
    "ExecuteTime": {
     "end_time": "2022-02-28T02:37:04.185569Z",
     "start_time": "2022-02-28T02:37:04.165546Z"
    },
    "collapsed": true
   },
   "outputs": [
    {
     "data": {
      "text/plain": [
       "2       1.40\n",
       "3       1.80\n",
       "4       2.71\n",
       "5       4.09\n",
       "6       5.92\n",
       "8      10.73\n",
       "10     16.81\n",
       "15     34.03\n",
       "20     51.26\n",
       "25     68.54\n",
       "30     85.00\n",
       "35    100.34\n",
       "40    114.33\n",
       "45    126.91\n",
       "50    138.06\n",
       "55    147.86\n",
       "60    156.39\n",
       "65    163.76\n",
       "70    170.10\n",
       "dtype: float64"
      ]
     },
     "execution_count": 5,
     "metadata": {},
     "output_type": "execute_result"
    }
   ],
   "source": [
    "site85 = Series([1.4, 1.8, 2.71, 4.09, 5.92, 10.73, 16.81, \n",
    "                 34.03, 51.26, 68.54, 85, 100.34, 114.33,\n",
    "                 126.91, 138.06, 147.86, 156.39, 163.76, 170.10],\n",
    "               index=years)"
   ]
  },
  {
   "cell_type": "markdown",
   "metadata": {},
   "source": [
    "Here's what the curves look like:"
   ]
  },
  {
   "cell_type": "code",
   "execution_count": 6,
   "metadata": {
    "ExecuteTime": {
     "end_time": "2022-02-28T02:37:21.713003Z",
     "start_time": "2022-02-28T02:37:21.451324Z"
    }
   },
   "outputs": [
    {
     "name": "stdout",
     "output_type": "stream",
     "text": [
      "Saving figure to file figs/trees-fig01.pdf\n"
     ]
    },
    {
     "data": {
      "image/png": "[encoded data removed]",
      "text/plain": [
       "<Figure size 432x288 with 1 Axes>"
      ]
     },
     "metadata": {
      "needs_background": "light"
     },
     "output_type": "display_data"
    }
   ],
   "source": [
    "plot(site85, label='SI 85')\n",
    "plot(site65, label='SI 65')\n",
    "plot(site45, label='SI 45')\n",
    "decorate(xlabel='Time (years)',\n",
    "         ylabel='Height (feet)')\n",
    "\n",
    "savefig('figs/trees-fig01.pdf')"
   ]
  },
  {
   "cell_type": "markdown",
   "metadata": {},
   "source": [
    "For my examples I'll work with the SI 65 data; as an exercise, you can run the notebook again with either of the other curves."
   ]
  },
  {
   "cell_type": "code",
   "execution_count": 7,
   "metadata": {
    "ExecuteTime": {
     "end_time": "2022-02-28T02:37:28.262519Z",
     "start_time": "2022-02-28T02:37:28.259527Z"
    }
   },
   "outputs": [],
   "source": [
    "data = site65;"
   ]
  },
  {
   "cell_type": "markdown",
   "metadata": {},
   "source": [
    "### Model 1\n",
    "\n",
    "As a starting place, let's assume that the ability of the tree to gain mass is limited by the area it exposes to sunlight, and that the growth rate (in mass) is proportional to that area.  In that case we can write:\n",
    "\n",
    "$ m_{n+1} = m_n + \\alpha A$\n",
    "\n",
    "where $m_n$ is the mass of the at time step $n$, $A$ is the area exposed to sunlight, and $\\alpha$ is an unknown growth parameter.\n",
    "\n",
    "To get from $m$ to $A$, I'll make the additional assumption that mass is proportional to height raised to an unknown power:\n",
    "\n",
    "$ m = \\beta h^D $\n",
    "\n",
    "where $h$ is height, $\\beta$ is an unknown constant of proportionality, and $D$ is the dimension that relates height and mass.  \n",
    "\n",
    "We'll start by assuming $D=3$, but we'll revisit that assumption.\n",
    "\n",
    "Finally, we'll assume that area is proportional to height squared:\n",
    "\n",
    "$ A = \\gamma h^2$\n",
    "\n",
    "I'll specify height in feet, and choose units for mass and area so that $\\beta=1$ and $\\gamma=1$.\n",
    "\n",
    "Putting all that together, we can write a difference equation for height:\n",
    "\n",
    "$ h_{n+1}^D = h_n^D + \\alpha h_n^2 $\n",
    "\n",
    "Now let's solve it.  Here's a system object with the parameters and initial conditions."
   ]
  },
  {
   "cell_type": "code",
   "execution_count": 9,
   "metadata": {
    "ExecuteTime": {
     "end_time": "2022-02-28T02:38:25.056863Z",
     "start_time": "2022-02-28T02:38:25.047887Z"
    },
    "scrolled": true
   },
   "outputs": [
    {
     "data": {
      "text/html": [
       "<div>\n",
       "<style scoped>\n",
       "    .dataframe tbody tr th:only-of-type {\n",
       "        vertical-align: middle;\n",
       "    }\n",
       "\n",
       "    .dataframe tbody tr th {\n",
       "        vertical-align: top;\n",
       "    }\n",
       "\n",
       "    .dataframe thead th {\n",
       "        text-align: right;\n",
       "    }\n",
       "</style>\n",
       "<table border=\"1\" class=\"dataframe\">\n",
       "  <thead>\n",
       "    <tr style=\"text-align: right;\">\n",
       "      <th></th>\n",
       "      <th>values</th>\n",
       "    </tr>\n",
       "  </thead>\n",
       "  <tbody>\n",
       "    <tr>\n",
       "      <th>2</th>\n",
       "      <td>1.40</td>\n",
       "    </tr>\n",
       "    <tr>\n",
       "      <th>3</th>\n",
       "      <td>1.56</td>\n",
       "    </tr>\n",
       "    <tr>\n",
       "      <th>4</th>\n",
       "      <td>2.01</td>\n",
       "    </tr>\n",
       "    <tr>\n",
       "      <th>5</th>\n",
       "      <td>2.76</td>\n",
       "    </tr>\n",
       "    <tr>\n",
       "      <th>6</th>\n",
       "      <td>3.79</td>\n",
       "    </tr>\n",
       "    <tr>\n",
       "      <th>8</th>\n",
       "      <td>6.64</td>\n",
       "    </tr>\n",
       "    <tr>\n",
       "      <th>10</th>\n",
       "      <td>10.44</td>\n",
       "    </tr>\n",
       "    <tr>\n",
       "      <th>15</th>\n",
       "      <td>23.26</td>\n",
       "    </tr>\n",
       "    <tr>\n",
       "      <th>20</th>\n",
       "      <td>37.65</td>\n",
       "    </tr>\n",
       "    <tr>\n",
       "      <th>25</th>\n",
       "      <td>51.66</td>\n",
       "    </tr>\n",
       "    <tr>\n",
       "      <th>30</th>\n",
       "      <td>65.00</td>\n",
       "    </tr>\n",
       "    <tr>\n",
       "      <th>35</th>\n",
       "      <td>77.50</td>\n",
       "    </tr>\n",
       "    <tr>\n",
       "      <th>40</th>\n",
       "      <td>89.07</td>\n",
       "    </tr>\n",
       "    <tr>\n",
       "      <th>45</th>\n",
       "      <td>99.66</td>\n",
       "    </tr>\n",
       "    <tr>\n",
       "      <th>50</th>\n",
       "      <td>109.28</td>\n",
       "    </tr>\n",
       "    <tr>\n",
       "      <th>55</th>\n",
       "      <td>117.96</td>\n",
       "    </tr>\n",
       "    <tr>\n",
       "      <th>60</th>\n",
       "      <td>125.74</td>\n",
       "    </tr>\n",
       "    <tr>\n",
       "      <th>65</th>\n",
       "      <td>132.68</td>\n",
       "    </tr>\n",
       "    <tr>\n",
       "      <th>70</th>\n",
       "      <td>138.84</td>\n",
       "    </tr>\n",
       "  </tbody>\n",
       "</table>\n",
       "</div>"
      ],
      "text/plain": [
       "2       1.40\n",
       "3       1.56\n",
       "4       2.01\n",
       "5       2.76\n",
       "6       3.79\n",
       "8       6.64\n",
       "10     10.44\n",
       "15     23.26\n",
       "20     37.65\n",
       "25     51.66\n",
       "30     65.00\n",
       "35     77.50\n",
       "40     89.07\n",
       "45     99.66\n",
       "50    109.28\n",
       "55    117.96\n",
       "60    125.74\n",
       "65    132.68\n",
       "70    138.84\n",
       "dtype: float64"
      ]
     },
     "execution_count": 9,
     "metadata": {},
     "output_type": "execute_result"
    }
   ],
   "source": [
    "data"
   ]
  },
  {
   "cell_type": "code",
   "execution_count": 8,
   "metadata": {
    "ExecuteTime": {
     "end_time": "2022-02-28T02:37:53.255896Z",
     "start_time": "2022-02-28T02:37:53.237973Z"
    }
   },
   "outputs": [
    {
     "data": {
      "text/html": [
       "<div>\n",
       "<style scoped>\n",
       "    .dataframe tbody tr th:only-of-type {\n",
       "        vertical-align: middle;\n",
       "    }\n",
       "\n",
       "    .dataframe tbody tr th {\n",
       "        vertical-align: top;\n",
       "    }\n",
       "\n",
       "    .dataframe thead th {\n",
       "        text-align: right;\n",
       "    }\n",
       "</style>\n",
       "<table border=\"1\" class=\"dataframe\">\n",
       "  <thead>\n",
       "    <tr style=\"text-align: right;\">\n",
       "      <th></th>\n",
       "      <th>values</th>\n",
       "    </tr>\n",
       "  </thead>\n",
       "  <tbody>\n",
       "    <tr>\n",
       "      <th>alpha</th>\n",
       "      <td>7.0</td>\n",
       "    </tr>\n",
       "    <tr>\n",
       "      <th>dim</th>\n",
       "      <td>3.0</td>\n",
       "    </tr>\n",
       "    <tr>\n",
       "      <th>h_0</th>\n",
       "      <td>1.4</td>\n",
       "    </tr>\n",
       "    <tr>\n",
       "      <th>t_0</th>\n",
       "      <td>2.0</td>\n",
       "    </tr>\n",
       "    <tr>\n",
       "      <th>t_end</th>\n",
       "      <td>70.0</td>\n",
       "    </tr>\n",
       "  </tbody>\n",
       "</table>\n",
       "</div>"
      ],
      "text/plain": [
       "alpha     7.0\n",
       "dim       3.0\n",
       "h_0       1.4\n",
       "t_0       2.0\n",
       "t_end    70.0\n",
       "dtype: float64"
      ]
     },
     "execution_count": 8,
     "metadata": {},
     "output_type": "execute_result"
    }
   ],
   "source": [
    "alpha = 7\n",
    "dim = 3\n",
    "\n",
    "t_0 = get_first_label(data)\n",
    "t_end = get_last_label(data)\n",
    "\n",
    "h_0 = get_first_value(data)\n",
    "\n",
    "system = System(alpha=alpha, dim=dim, \n",
    "                h_0=h_0, t_0=t_0, t_end=t_end)"
   ]
  },
  {
   "cell_type": "markdown",
   "metadata": {},
   "source": [
    "And here's an update function that takes the current height as a parameter and returns the height during the next time step."
   ]
  },
  {
   "cell_type": "code",
   "execution_count": 10,
   "metadata": {
    "ExecuteTime": {
     "end_time": "2022-02-28T02:38:48.685049Z",
     "start_time": "2022-02-28T02:38:48.672115Z"
    }
   },
   "outputs": [],
   "source": [
    "def update(height, t, system):\n",
    "    \"\"\"Update height based on geometric model.\n",
    "    \n",
    "    height: current height in feet\n",
    "    t: what year it is\n",
    "    system: system object with model parameters\n",
    "    \"\"\"\n",
    "    area = height**2\n",
    "    mass = height**system.dim\n",
    "    mass += system.alpha * area\n",
    "    return mass**(1/system.dim)"
   ]
  },
  {
   "cell_type": "markdown",
   "metadata": {},
   "source": [
    "Test the update function with the initial conditions."
   ]
  },
  {
   "cell_type": "code",
   "execution_count": 11,
   "metadata": {
    "ExecuteTime": {
     "end_time": "2022-02-28T02:39:27.297216Z",
     "start_time": "2022-02-28T02:39:27.291231Z"
    }
   },
   "outputs": [
    {
     "data": {
      "text/plain": [
       "2.5439688299649954"
      ]
     },
     "execution_count": 11,
     "metadata": {},
     "output_type": "execute_result"
    }
   ],
   "source": [
    "update(h_0, t_0, system)"
   ]
  },
  {
   "cell_type": "markdown",
   "metadata": {},
   "source": [
    "Here's our usual version of `run_simulation`."
   ]
  },
  {
   "cell_type": "code",
   "execution_count": 12,
   "metadata": {
    "ExecuteTime": {
     "end_time": "2022-02-28T02:39:33.839477Z",
     "start_time": "2022-02-28T02:39:33.834491Z"
    }
   },
   "outputs": [],
   "source": [
    "def run_simulation(system, update_func):\n",
    "    \"\"\"Simulate the system using any update function.\n",
    "    \n",
    "    system: System object\n",
    "    update_func: function that computes the population next year\n",
    "    \n",
    "    returns: TimeSeries\n",
    "    \"\"\"\n",
    "    results = TimeSeries()\n",
    "    results[system.t_0] = system.h_0\n",
    "    \n",
    "    for t in linrange(system.t_0, system.t_end):\n",
    "        results[t+1] = update_func(results[t], t, system)\n",
    "        \n",
    "    return results"
   ]
  },
  {
   "cell_type": "markdown",
   "metadata": {},
   "source": [
    "And here's how we run it."
   ]
  },
  {
   "cell_type": "code",
   "execution_count": 13,
   "metadata": {
    "ExecuteTime": {
     "end_time": "2022-02-28T02:39:47.708854Z",
     "start_time": "2022-02-28T02:39:47.656965Z"
    }
   },
   "outputs": [
    {
     "data": {
      "text/plain": [
       "66    140.497321\n",
       "67    142.792941\n",
       "68    145.089152\n",
       "69    147.385935\n",
       "70    149.683273\n",
       "dtype: float64"
      ]
     },
     "execution_count": 13,
     "metadata": {},
     "output_type": "execute_result"
    }
   ],
   "source": [
    "results = run_simulation(system, update)\n",
    "results.tail()"
   ]
  },
  {
   "cell_type": "markdown",
   "metadata": {},
   "source": [
    "Plot the results:"
   ]
  },
  {
   "cell_type": "code",
   "execution_count": 14,
   "metadata": {
    "ExecuteTime": {
     "end_time": "2022-02-28T02:39:51.943119Z",
     "start_time": "2022-02-28T02:39:51.812444Z"
    }
   },
   "outputs": [
    {
     "data": {
      "image/png": "[encoded data removed]",
      "text/plain": [
       "<Figure size 432x288 with 1 Axes>"
      ]
     },
     "metadata": {
      "needs_background": "light"
     },
     "output_type": "display_data"
    }
   ],
   "source": [
    "def plot_results(results, data):\n",
    "    plot(results, ':', label='model', color='gray')\n",
    "    plot(data, label='data')\n",
    "    decorate(xlabel='Time (years)',\n",
    "             ylabel='Height (feet)')\n",
    "    \n",
    "plot_results(results, data)"
   ]
  },
  {
   "cell_type": "markdown",
   "metadata": {},
   "source": [
    "The result converges to a straight line.\n",
    "\n",
    "I chose the value of `alpha` to fit the data as well as I could, but it is clear that the data have curvature that's not captured by the model.\n",
    "\n",
    "Here are the errors:"
   ]
  },
  {
   "cell_type": "code",
   "execution_count": 15,
   "metadata": {
    "ExecuteTime": {
     "end_time": "2022-02-28T02:40:21.254544Z",
     "start_time": "2022-02-28T02:40:21.208380Z"
    }
   },
   "outputs": [
    {
     "data": {
      "text/plain": [
       "2      0.000000\n",
       "3      0.983969\n",
       "4      1.942915\n",
       "5      2.792070\n",
       "6      3.496882\n",
       "8      4.387116\n",
       "10     4.557437\n",
       "15     2.194275\n",
       "20    -1.346851\n",
       "25    -4.304519\n",
       "30    -6.468590\n",
       "35    -7.709926\n",
       "40    -7.962119\n",
       "45    -7.189989\n",
       "50    -5.413433\n",
       "55    -2.669382\n",
       "60     0.997125\n",
       "65     5.522310\n",
       "70    10.843273\n",
       "dtype: float64"
      ]
     },
     "execution_count": 15,
     "metadata": {},
     "output_type": "execute_result"
    }
   ],
   "source": [
    "errors = results - data\n",
    "errors.dropna()"
   ]
  },
  {
   "cell_type": "markdown",
   "metadata": {},
   "source": [
    "And here's the mean absolute error."
   ]
  },
  {
   "cell_type": "code",
   "execution_count": 16,
   "metadata": {
    "ExecuteTime": {
     "end_time": "2022-02-28T02:40:26.515729Z",
     "start_time": "2022-02-28T02:40:26.507725Z"
    }
   },
   "outputs": [
    {
     "data": {
      "text/plain": [
       "4.251693738559427"
      ]
     },
     "execution_count": 16,
     "metadata": {},
     "output_type": "execute_result"
    }
   ],
   "source": [
    "def mean_abs_error(results, data):\n",
    "    return np.mean(np.abs(results-data))\n",
    "\n",
    "mean_abs_error(results, data)"
   ]
  },
  {
   "cell_type": "markdown",
   "metadata": {},
   "source": [
    "This model might explain why the height of a tree grows roughly linearly:\n",
    "\n",
    "1. If area is proportional to $h^2$ and mass is proportional to $h^3$, and\n",
    "\n",
    "2. Change in mass is proportional to area, and\n",
    "\n",
    "3. Height grows linearly, then\n",
    "\n",
    "4. Area grows in proportion to $h^2$, and\n",
    "\n",
    "5. Mass grows in proportion to $h^3$.\n",
    "\n",
    "If the goal is to explain (approximate) linear growth, we might stop there.  But this model does not fit the data particularly well, and it implies that trees could keep growing forever.\n",
    "\n",
    "So we might want to do better."
   ]
  },
  {
   "cell_type": "markdown",
   "metadata": {},
   "source": [
    "### Model 2"
   ]
  },
  {
   "cell_type": "markdown",
   "metadata": {},
   "source": [
    "As a second attempt, let's suppose that we don't know $D$.  In fact, we don't, because trees are not like simple solids; they are more like fractals, which have [fractal dimension](https://en.wikipedia.org/wiki/Fractal_dimension).\n",
    "\n",
    "I would expect the fractal dimension of a tree to be between 2 and 3, so I'll guess 2.5."
   ]
  },
  {
   "cell_type": "code",
   "execution_count": 17,
   "metadata": {
    "ExecuteTime": {
     "end_time": "2022-02-28T02:43:23.333278Z",
     "start_time": "2022-02-28T02:43:23.315326Z"
    }
   },
   "outputs": [
    {
     "data": {
      "text/plain": [
       "(7, 2.8)"
      ]
     },
     "execution_count": 17,
     "metadata": {},
     "output_type": "execute_result"
    }
   ],
   "source": [
    "alpha = 7\n",
    "dim = 2.8\n",
    "\n",
    "params = alpha, dim"
   ]
  },
  {
   "cell_type": "markdown",
   "metadata": {},
   "source": [
    "I'll wrap the code from the previous section is a function that takes the parameters as inputs and makes a `System` object."
   ]
  },
  {
   "cell_type": "code",
   "execution_count": 18,
   "metadata": {
    "ExecuteTime": {
     "end_time": "2022-02-28T02:47:11.182250Z",
     "start_time": "2022-02-28T02:47:11.164298Z"
    }
   },
   "outputs": [],
   "source": [
    "def make_system(params, data):\n",
    "    \"\"\"Makes a System object.\n",
    "    \n",
    "    params: sequence of alpha, dim\n",
    "    data: Series\n",
    "    \n",
    "    returns: System object\n",
    "    \"\"\"\n",
    "    alpha, dim = params\n",
    "    \n",
    "    t_0 = get_first_label(data)\n",
    "    t_end = get_last_label(data)\n",
    "\n",
    "    h_0 = get_first_value(data)\n",
    "\n",
    "    return System(alpha=alpha, dim=dim, \n",
    "                  h_0=h_0, t_0=t_0, t_end=t_end)"
   ]
  },
  {
   "cell_type": "markdown",
   "metadata": {},
   "source": [
    "Here's how we use it."
   ]
  },
  {
   "cell_type": "code",
   "execution_count": 19,
   "metadata": {
    "ExecuteTime": {
     "end_time": "2022-02-28T02:47:30.679593Z",
     "start_time": "2022-02-28T02:47:30.658626Z"
    }
   },
   "outputs": [
    {
     "data": {
      "text/html": [
       "<div>\n",
       "<style scoped>\n",
       "    .dataframe tbody tr th:only-of-type {\n",
       "        vertical-align: middle;\n",
       "    }\n",
       "\n",
       "    .dataframe tbody tr th {\n",
       "        vertical-align: top;\n",
       "    }\n",
       "\n",
       "    .dataframe thead th {\n",
       "        text-align: right;\n",
       "    }\n",
       "</style>\n",
       "<table border=\"1\" class=\"dataframe\">\n",
       "  <thead>\n",
       "    <tr style=\"text-align: right;\">\n",
       "      <th></th>\n",
       "      <th>values</th>\n",
       "    </tr>\n",
       "  </thead>\n",
       "  <tbody>\n",
       "    <tr>\n",
       "      <th>alpha</th>\n",
       "      <td>7.0</td>\n",
       "    </tr>\n",
       "    <tr>\n",
       "      <th>dim</th>\n",
       "      <td>2.8</td>\n",
       "    </tr>\n",
       "    <tr>\n",
       "      <th>h_0</th>\n",
       "      <td>1.4</td>\n",
       "    </tr>\n",
       "    <tr>\n",
       "      <th>t_0</th>\n",
       "      <td>2.0</td>\n",
       "    </tr>\n",
       "    <tr>\n",
       "      <th>t_end</th>\n",
       "      <td>70.0</td>\n",
       "    </tr>\n",
       "  </tbody>\n",
       "</table>\n",
       "</div>"
      ],
      "text/plain": [
       "alpha     7.0\n",
       "dim       2.8\n",
       "h_0       1.4\n",
       "t_0       2.0\n",
       "t_end    70.0\n",
       "dtype: float64"
      ]
     },
     "execution_count": 19,
     "metadata": {},
     "output_type": "execute_result"
    }
   ],
   "source": [
    "system = make_system(params, data)"
   ]
  },
  {
   "cell_type": "markdown",
   "metadata": {},
   "source": [
    "With different values for the parameters, we get curves with different behavior.  Here are a few that I chose by hand."
   ]
  },
  {
   "cell_type": "code",
   "execution_count": 20,
   "metadata": {
    "ExecuteTime": {
     "end_time": "2022-02-28T02:47:48.000600Z",
     "start_time": "2022-02-28T02:47:47.990628Z"
    }
   },
   "outputs": [],
   "source": [
    "def run_and_plot(alpha, dim, data):\n",
    "    params = alpha, dim\n",
    "    system = make_system(params, data)\n",
    "    results = run_simulation(system, update)\n",
    "    plot(results, ':', color='gray')"
   ]
  },
  {
   "cell_type": "code",
   "execution_count": 21,
   "metadata": {
    "ExecuteTime": {
     "end_time": "2022-02-28T02:47:50.358079Z",
     "start_time": "2022-02-28T02:47:49.966545Z"
    }
   },
   "outputs": [
    {
     "data": {
      "image/png": "[encoded data removed]",
      "text/plain": [
       "<Figure size 432x288 with 1 Axes>"
      ]
     },
     "metadata": {
      "needs_background": "light"
     },
     "output_type": "display_data"
    }
   ],
   "source": [
    "run_and_plot(0.145, 2, data)\n",
    "run_and_plot(0.58, 2.4, data)\n",
    "run_and_plot(2.8, 2.8, data)\n",
    "run_and_plot(6.6, 3, data)\n",
    "run_and_plot(15.5, 3.2, data)\n",
    "run_and_plot(38, 3.4, data)\n",
    "\n",
    "plot(data, label='data')\n",
    "decorate(xlabel='Time (years)',\n",
    "             ylabel='Height (feet)')"
   ]
  },
  {
   "cell_type": "markdown",
   "metadata": {},
   "source": [
    "To find the parameters that best fit the data, I'll use `leastsq`.\n",
    "\n",
    "We need an error function that takes parameters and returns errors:"
   ]
  },
  {
   "cell_type": "code",
   "execution_count": 22,
   "metadata": {
    "ExecuteTime": {
     "end_time": "2022-02-28T02:49:04.417713Z",
     "start_time": "2022-02-28T02:49:04.401755Z"
    }
   },
   "outputs": [],
   "source": [
    "def error_func(params, data, update_func):\n",
    "    \"\"\"Runs the model and returns errors.\n",
    "    \n",
    "    params: sequence of alpha, dim\n",
    "    data: Series\n",
    "    update_func: function object\n",
    "    \n",
    "    returns: Series of errors\n",
    "    \"\"\"\n",
    "    print(params)\n",
    "    system = make_system(params, data)\n",
    "    results = run_simulation(system, update_func)\n",
    "    return (results - data).dropna()"
   ]
  },
  {
   "cell_type": "code",
   "execution_count": 27,
   "metadata": {
    "ExecuteTime": {
     "end_time": "2022-02-28T02:50:48.552647Z",
     "start_time": "2022-02-28T02:50:48.534710Z"
    }
   },
   "outputs": [],
   "source": [
    "leastsq?"
   ]
  },
  {
   "cell_type": "markdown",
   "metadata": {},
   "source": [
    "Here's how we use it:"
   ]
  },
  {
   "cell_type": "code",
   "execution_count": 23,
   "metadata": {
    "ExecuteTime": {
     "end_time": "2022-02-28T02:49:07.639782Z",
     "start_time": "2022-02-28T02:49:07.585929Z"
    }
   },
   "outputs": [
    {
     "name": "stdout",
     "output_type": "stream",
     "text": [
      "(7, 2.8)\n"
     ]
    },
    {
     "data": {
      "text/plain": [
       "2       0.000000\n",
       "3       1.148852\n",
       "4       2.494726\n",
       "5       3.987474\n",
       "6       5.596116\n",
       "8       9.023410\n",
       "10     12.588184\n",
       "15     21.692189\n",
       "20     32.897280\n",
       "25     47.207627\n",
       "30     64.370278\n",
       "35     84.203833\n",
       "40    106.551950\n",
       "45    131.281973\n",
       "50    158.242758\n",
       "55    187.291743\n",
       "60    218.296906\n",
       "65    251.121491\n",
       "70    285.640417\n",
       "dtype: float64"
      ]
     },
     "execution_count": 23,
     "metadata": {},
     "output_type": "execute_result"
    }
   ],
   "source": [
    "errors = error_func(params, data, update)"
   ]
  },
  {
   "cell_type": "markdown",
   "metadata": {},
   "source": [
    "Now we can pass `error_func` to `leastsq`, which finds the parameters that minimize the squares of the errors."
   ]
  },
  {
   "cell_type": "code",
   "execution_count": 24,
   "metadata": {
    "ExecuteTime": {
     "end_time": "2022-02-28T02:49:19.959848Z",
     "start_time": "2022-02-28T02:49:18.965142Z"
    }
   },
   "outputs": [
    {
     "name": "stdout",
     "output_type": "stream",
     "text": [
      "[7.  2.8]\n",
      "[7.  2.8]\n",
      "[7.  2.8]\n",
      "[7.0000001 2.8      ]\n",
      "[7.         2.80000004]\n",
      "[6.92221274 2.90250933]\n",
      "[6.92221284 2.90250933]\n",
      "[6.92221274 2.90250937]\n",
      "[9.09216749 3.04344998]\n",
      "[9.09216762 3.04344998]\n",
      "[9.09216749 3.04345003]\n",
      "[11.32004185  3.11949616]\n",
      "[11.32004202  3.11949616]\n",
      "[11.32004185  3.11949621]\n",
      "[11.45136397  3.11757873]\n",
      "[11.45136414  3.11757873]\n",
      "[11.45136397  3.11757877]\n",
      "[11.4662145   3.11792116]\n",
      "[11.46621467  3.11792116]\n",
      "[11.4662145   3.11792121]\n",
      "[11.46393756  3.11787313]\n",
      "[11.46393773  3.11787313]\n",
      "[11.46393756  3.11787318]\n",
      "[11.46425723  3.11787985]\n"
     ]
    },
    {
     "data": {
      "text/html": [
       "<div>\n",
       "<style scoped>\n",
       "    .dataframe tbody tr th:only-of-type {\n",
       "        vertical-align: middle;\n",
       "    }\n",
       "\n",
       "    .dataframe tbody tr th {\n",
       "        vertical-align: top;\n",
       "    }\n",
       "\n",
       "    .dataframe thead th {\n",
       "        text-align: right;\n",
       "    }\n",
       "</style>\n",
       "<table border=\"1\" class=\"dataframe\">\n",
       "  <thead>\n",
       "    <tr style=\"text-align: right;\">\n",
       "      <th></th>\n",
       "      <th>values</th>\n",
       "    </tr>\n",
       "  </thead>\n",
       "  <tbody>\n",
       "    <tr>\n",
       "      <th>fvec</th>\n",
       "      <td>[0.0, 1.2594299990579172, 2.5891995448155054, ...</td>\n",
       "    </tr>\n",
       "    <tr>\n",
       "      <th>nfev</th>\n",
       "      <td>22</td>\n",
       "    </tr>\n",
       "    <tr>\n",
       "      <th>fjac</th>\n",
       "      <td>[[-1211.6163927810555, -0.0007452893438503401,...</td>\n",
       "    </tr>\n",
       "    <tr>\n",
       "      <th>ipvt</th>\n",
       "      <td>[2, 1]</td>\n",
       "    </tr>\n",
       "    <tr>\n",
       "      <th>qtf</th>\n",
       "      <td>[4.201876598530774e-05, 0.0006063193148584389]</td>\n",
       "    </tr>\n",
       "    <tr>\n",
       "      <th>cov_x</th>\n",
       "      <td>[[0.2779653954875504, 0.005806515296622473], [...</td>\n",
       "    </tr>\n",
       "    <tr>\n",
       "      <th>mesg</th>\n",
       "      <td>Both actual and predicted relative reductions ...</td>\n",
       "    </tr>\n",
       "    <tr>\n",
       "      <th>ier</th>\n",
       "      <td>1</td>\n",
       "    </tr>\n",
       "  </tbody>\n",
       "</table>\n",
       "</div>"
      ],
      "text/plain": [
       "fvec     [0.0, 1.2594299990579172, 2.5891995448155054, ...\n",
       "nfev                                                    22\n",
       "fjac     [[-1211.6163927810555, -0.0007452893438503401,...\n",
       "ipvt                                                [2, 1]\n",
       "qtf         [4.201876598530774e-05, 0.0006063193148584389]\n",
       "cov_x    [[0.2779653954875504, 0.005806515296622473], [...\n",
       "mesg     Both actual and predicted relative reductions ...\n",
       "ier                                                      1\n",
       "dtype: object"
      ]
     },
     "execution_count": 24,
     "metadata": {},
     "output_type": "execute_result"
    }
   ],
   "source": [
    "best_params, details = leastsq(error_func, params, data, update)\n",
    "details"
   ]
  },
  {
   "cell_type": "markdown",
   "metadata": {},
   "source": [
    "Using the best parameters we found, we can run the model and plot the results."
   ]
  },
  {
   "cell_type": "code",
   "execution_count": 26,
   "metadata": {
    "ExecuteTime": {
     "end_time": "2022-02-28T02:50:22.849314Z",
     "start_time": "2022-02-28T02:50:22.662814Z"
    }
   },
   "outputs": [
    {
     "data": {
      "image/png": "[encoded data removed]",
      "text/plain": [
       "<Figure size 432x288 with 1 Axes>"
      ]
     },
     "metadata": {
      "needs_background": "light"
     },
     "output_type": "display_data"
    }
   ],
   "source": [
    "system = make_system(best_params, data)\n",
    "results = run_simulation(system, update)\n",
    "\n",
    "plot_results(results, data)"
   ]
  },
  {
   "cell_type": "markdown",
   "metadata": {},
   "source": [
    "The mean absolute error is better than for Model 1, but that doesn't mean much.  The model still doesn't fit the data well."
   ]
  },
  {
   "cell_type": "code",
   "execution_count": 28,
   "metadata": {
    "ExecuteTime": {
     "end_time": "2022-02-28T02:51:42.906979Z",
     "start_time": "2022-02-28T02:51:42.889027Z"
    }
   },
   "outputs": [
    {
     "data": {
      "text/plain": [
       "3.6184904965474067"
      ]
     },
     "execution_count": 28,
     "metadata": {},
     "output_type": "execute_result"
    }
   ],
   "source": [
    "mean_abs_error(results, data)"
   ]
  },
  {
   "cell_type": "markdown",
   "metadata": {},
   "source": [
    "And the estimated fractal dimension is 3.11, which doesn't seem likely.\n",
    "\n",
    "Let's try one more thing."
   ]
  },
  {
   "cell_type": "markdown",
   "metadata": {},
   "source": [
    "### Model 3"
   ]
  },
  {
   "cell_type": "markdown",
   "metadata": {},
   "source": [
    "Models 1 and 2 imply that trees can grow forever, but we know that's not true.  As trees get taller, it gets harder for them to move water and nutrients against the force of gravity, and their growth slows.\n",
    "\n",
    "We can model this effect by adding a term to the model similar to what we saw in the logistic model of population growth.  Instead of assuming:\n",
    "\n",
    "$ m_{n+1} = m_n + \\alpha A $ \n",
    "\n",
    "Let's assume\n",
    "\n",
    "$ m_{n+1} = m_n + \\alpha A (1 - h / K) $\n",
    "\n",
    "where $K$ is similar to the carrying capacity of the logistic model.  As $h$ approaches $K$, the factor $(1 - h/K)$ goes to 0, causing growth to level off.\n",
    "\n",
    "Here's what the implementation of this model looks like:"
   ]
  },
  {
   "cell_type": "code",
   "execution_count": 29,
   "metadata": {
    "ExecuteTime": {
     "end_time": "2022-02-28T02:51:45.993608Z",
     "start_time": "2022-02-28T02:51:45.975657Z"
    }
   },
   "outputs": [
    {
     "data": {
      "text/plain": [
       "[2.0, 2.5, 150]"
      ]
     },
     "execution_count": 29,
     "metadata": {},
     "output_type": "execute_result"
    }
   ],
   "source": [
    "alpha = 2.0\n",
    "dim = 2.5\n",
    "K = 150\n",
    "\n",
    "params = [alpha, dim, K]"
   ]
  },
  {
   "cell_type": "markdown",
   "metadata": {},
   "source": [
    "Here's an updated version of `make_system`"
   ]
  },
  {
   "cell_type": "code",
   "execution_count": 30,
   "metadata": {
    "ExecuteTime": {
     "end_time": "2022-02-28T02:51:47.029923Z",
     "start_time": "2022-02-28T02:51:47.019926Z"
    }
   },
   "outputs": [],
   "source": [
    "def make_system(params, data):\n",
    "    \"\"\"Makes a System object.\n",
    "    \n",
    "    params: sequence of alpha, dim, K\n",
    "    data: Series\n",
    "    \n",
    "    returns: System object\n",
    "    \"\"\"\n",
    "    alpha, dim, K = params\n",
    "    \n",
    "    t_0 = get_first_label(data)\n",
    "    t_end = get_last_label(data)\n",
    "\n",
    "    h_0 = get_first_value(data)\n",
    "\n",
    "    return System(alpha=alpha, dim=dim, K=K, \n",
    "                  h_0=h_0, t_0=t_0, t_end=t_end)"
   ]
  },
  {
   "cell_type": "markdown",
   "metadata": {},
   "source": [
    "Here's the new `System` object."
   ]
  },
  {
   "cell_type": "code",
   "execution_count": 31,
   "metadata": {
    "ExecuteTime": {
     "end_time": "2022-02-28T02:51:50.531940Z",
     "start_time": "2022-02-28T02:51:50.519972Z"
    }
   },
   "outputs": [
    {
     "data": {
      "text/html": [
       "<div>\n",
       "<style scoped>\n",
       "    .dataframe tbody tr th:only-of-type {\n",
       "        vertical-align: middle;\n",
       "    }\n",
       "\n",
       "    .dataframe tbody tr th {\n",
       "        vertical-align: top;\n",
       "    }\n",
       "\n",
       "    .dataframe thead th {\n",
       "        text-align: right;\n",
       "    }\n",
       "</style>\n",
       "<table border=\"1\" class=\"dataframe\">\n",
       "  <thead>\n",
       "    <tr style=\"text-align: right;\">\n",
       "      <th></th>\n",
       "      <th>values</th>\n",
       "    </tr>\n",
       "  </thead>\n",
       "  <tbody>\n",
       "    <tr>\n",
       "      <th>alpha</th>\n",
       "      <td>2.0</td>\n",
       "    </tr>\n",
       "    <tr>\n",
       "      <th>dim</th>\n",
       "      <td>2.5</td>\n",
       "    </tr>\n",
       "    <tr>\n",
       "      <th>K</th>\n",
       "      <td>150.0</td>\n",
       "    </tr>\n",
       "    <tr>\n",
       "      <th>h_0</th>\n",
       "      <td>1.4</td>\n",
       "    </tr>\n",
       "    <tr>\n",
       "      <th>t_0</th>\n",
       "      <td>2.0</td>\n",
       "    </tr>\n",
       "    <tr>\n",
       "      <th>t_end</th>\n",
       "      <td>70.0</td>\n",
       "    </tr>\n",
       "  </tbody>\n",
       "</table>\n",
       "</div>"
      ],
      "text/plain": [
       "alpha      2.0\n",
       "dim        2.5\n",
       "K        150.0\n",
       "h_0        1.4\n",
       "t_0        2.0\n",
       "t_end     70.0\n",
       "dtype: float64"
      ]
     },
     "execution_count": 31,
     "metadata": {},
     "output_type": "execute_result"
    }
   ],
   "source": [
    "system = make_system(params, data)"
   ]
  },
  {
   "cell_type": "markdown",
   "metadata": {},
   "source": [
    "And here's the new update function."
   ]
  },
  {
   "cell_type": "code",
   "execution_count": 32,
   "metadata": {
    "ExecuteTime": {
     "end_time": "2022-02-28T02:51:52.021700Z",
     "start_time": "2022-02-28T02:51:52.002750Z"
    }
   },
   "outputs": [],
   "source": [
    "def update3(height, t, system):\n",
    "    \"\"\"Update height based on geometric model with growth limiting term.\n",
    "    \n",
    "    height: current height in feet\n",
    "    t: what year it is\n",
    "    system: system object with model parameters\n",
    "    \"\"\"\n",
    "    area = height**2\n",
    "    mass = height**system.dim\n",
    "    mass += system.alpha * area * (1 - height/system.K)\n",
    "    return mass**(1/system.dim)"
   ]
  },
  {
   "cell_type": "markdown",
   "metadata": {},
   "source": [
    "As always, we'll test the update function with the initial conditions."
   ]
  },
  {
   "cell_type": "code",
   "execution_count": 33,
   "metadata": {
    "ExecuteTime": {
     "end_time": "2022-02-28T02:51:55.535069Z",
     "start_time": "2022-02-28T02:51:55.522104Z"
    }
   },
   "outputs": [
    {
     "data": {
      "text/plain": [
       "2.075043351397076"
      ]
     },
     "execution_count": 33,
     "metadata": {},
     "output_type": "execute_result"
    }
   ],
   "source": [
    "update3(h_0, t_0, system)"
   ]
  },
  {
   "cell_type": "markdown",
   "metadata": {},
   "source": [
    "Now we can test the error function with the new update function."
   ]
  },
  {
   "cell_type": "code",
   "execution_count": 34,
   "metadata": {
    "ExecuteTime": {
     "end_time": "2022-02-28T02:51:56.680462Z",
     "start_time": "2022-02-28T02:51:56.615609Z"
    }
   },
   "outputs": [
    {
     "name": "stdout",
     "output_type": "stream",
     "text": [
      "[2.0, 2.5, 150]\n"
     ]
    },
    {
     "data": {
      "text/plain": [
       "2      0.000000\n",
       "3      0.515043\n",
       "4      0.920001\n",
       "5      1.216367\n",
       "6      1.431972\n",
       "8      1.685640\n",
       "10     1.801190\n",
       "15     1.975039\n",
       "20     3.929748\n",
       "25     7.701256\n",
       "30    11.775782\n",
       "35    15.027748\n",
       "40    16.865948\n",
       "45    17.173291\n",
       "50    16.106566\n",
       "55    13.967791\n",
       "60    11.095254\n",
       "65     7.785693\n",
       "70     4.284147\n",
       "dtype: float64"
      ]
     },
     "execution_count": 34,
     "metadata": {},
     "output_type": "execute_result"
    }
   ],
   "source": [
    "error_func(params, data, update3)"
   ]
  },
  {
   "cell_type": "markdown",
   "metadata": {},
   "source": [
    "And search for the best parameters."
   ]
  },
  {
   "cell_type": "code",
   "execution_count": 35,
   "metadata": {
    "ExecuteTime": {
     "end_time": "2022-02-28T02:51:59.081076Z",
     "start_time": "2022-02-28T02:51:58.076757Z"
    }
   },
   "outputs": [
    {
     "name": "stdout",
     "output_type": "stream",
     "text": [
      "[  2.    2.5 150. ]\n",
      "[  2.    2.5 150. ]\n",
      "[  2.    2.5 150. ]\n",
      "[  2.00000003   2.5        150.        ]\n",
      "[  2.           2.50000004 150.        ]\n",
      "[  2.           2.5        150.00000224]\n",
      "[  2.57150998   2.62640233 152.85619548]\n",
      "[  2.57151002   2.62640233 152.85619548]\n",
      "[  2.57150998   2.62640237 152.85619548]\n",
      "[  2.57150998   2.62640233 152.85619776]\n",
      "[  2.69480843   2.64180464 164.38502739]\n",
      "[  2.69480847   2.64180464 164.38502739]\n",
      "[  2.69480843   2.64180468 164.38502739]\n",
      "[  2.69480843   2.64180464 164.38502984]\n",
      "[  2.69504996   2.64141868 165.06671302]\n",
      "[  2.69505      2.64141868 165.06671302]\n",
      "[  2.69504996   2.64141872 165.06671302]\n",
      "[  2.69504996   2.64141868 165.06671548]\n",
      "[  2.69600965   2.64152838 165.08460824]\n",
      "[  2.69600969   2.64152838 165.08460824]\n",
      "[  2.69600965   2.64152842 165.08460824]\n",
      "[  2.69600965   2.64152838 165.0846107 ]\n",
      "[  2.69593571   2.64152035 165.08358598]\n"
     ]
    },
    {
     "data": {
      "text/html": [
       "<div>\n",
       "<style scoped>\n",
       "    .dataframe tbody tr th:only-of-type {\n",
       "        vertical-align: middle;\n",
       "    }\n",
       "\n",
       "    .dataframe tbody tr th {\n",
       "        vertical-align: top;\n",
       "    }\n",
       "\n",
       "    .dataframe thead th {\n",
       "        text-align: right;\n",
       "    }\n",
       "</style>\n",
       "<table border=\"1\" class=\"dataframe\">\n",
       "  <thead>\n",
       "    <tr style=\"text-align: right;\">\n",
       "      <th></th>\n",
       "      <th>values</th>\n",
       "    </tr>\n",
       "  </thead>\n",
       "  <tbody>\n",
       "    <tr>\n",
       "      <th>fvec</th>\n",
       "      <td>[0.0, 0.6026560604027416, 1.1051308568507507, ...</td>\n",
       "    </tr>\n",
       "    <tr>\n",
       "      <th>nfev</th>\n",
       "      <td>21</td>\n",
       "    </tr>\n",
       "    <tr>\n",
       "      <th>fjac</th>\n",
       "      <td>[[-935.0854546680339, -0.0005819515127655662, ...</td>\n",
       "    </tr>\n",
       "    <tr>\n",
       "      <th>ipvt</th>\n",
       "      <td>[2, 1, 3]</td>\n",
       "    </tr>\n",
       "    <tr>\n",
       "      <th>qtf</th>\n",
       "      <td>[-1.813600263139703e-05, -0.000299855962060391...</td>\n",
       "    </tr>\n",
       "    <tr>\n",
       "      <th>cov_x</th>\n",
       "      <td>[[0.0348088168388554, 0.003865950604643208, 0....</td>\n",
       "    </tr>\n",
       "    <tr>\n",
       "      <th>mesg</th>\n",
       "      <td>Both actual and predicted relative reductions ...</td>\n",
       "    </tr>\n",
       "    <tr>\n",
       "      <th>ier</th>\n",
       "      <td>1</td>\n",
       "    </tr>\n",
       "  </tbody>\n",
       "</table>\n",
       "</div>"
      ],
      "text/plain": [
       "fvec     [0.0, 0.6026560604027416, 1.1051308568507507, ...\n",
       "nfev                                                    21\n",
       "fjac     [[-935.0854546680339, -0.0005819515127655662, ...\n",
       "ipvt                                             [2, 1, 3]\n",
       "qtf      [-1.813600263139703e-05, -0.000299855962060391...\n",
       "cov_x    [[0.0348088168388554, 0.003865950604643208, 0....\n",
       "mesg     Both actual and predicted relative reductions ...\n",
       "ier                                                      1\n",
       "dtype: object"
      ]
     },
     "execution_count": 35,
     "metadata": {},
     "output_type": "execute_result"
    }
   ],
   "source": [
    "best_params, details = leastsq(error_func, params, data, update3)\n",
    "details"
   ]
  },
  {
   "cell_type": "markdown",
   "metadata": {},
   "source": [
    "With these parameters, we can fit the data much better."
   ]
  },
  {
   "cell_type": "code",
   "execution_count": 36,
   "metadata": {
    "ExecuteTime": {
     "end_time": "2022-02-28T02:52:02.075898Z",
     "start_time": "2022-02-28T02:52:01.894694Z"
    }
   },
   "outputs": [
    {
     "data": {
      "image/png": "[encoded data removed]",
      "text/plain": [
       "<Figure size 432x288 with 1 Axes>"
      ]
     },
     "metadata": {
      "needs_background": "light"
     },
     "output_type": "display_data"
    }
   ],
   "source": [
    "system = make_system(best_params, data)\n",
    "results = run_simulation(system, update3)\n",
    "\n",
    "plot_results(results, data)"
   ]
  },
  {
   "cell_type": "markdown",
   "metadata": {},
   "source": [
    "And the mean absolute error is substantually smaller."
   ]
  },
  {
   "cell_type": "code",
   "execution_count": 37,
   "metadata": {
    "ExecuteTime": {
     "end_time": "2022-02-28T02:52:09.859857Z",
     "start_time": "2022-02-28T02:52:09.850881Z"
    }
   },
   "outputs": [
    {
     "data": {
      "text/plain": [
       "0.8895329592918969"
      ]
     },
     "execution_count": 37,
     "metadata": {},
     "output_type": "execute_result"
    }
   ],
   "source": [
    "mean_abs_error(results, data)"
   ]
  },
  {
   "cell_type": "markdown",
   "metadata": {},
   "source": [
    "The estimated fractal dimension is about 2.6, which is plausible for a tree.\n",
    "\n",
    "Basically, it suggests that if you double the height of the tree, the mass grows by a factor of $2^{2.6}$"
   ]
  },
  {
   "cell_type": "code",
   "execution_count": 38,
   "metadata": {
    "ExecuteTime": {
     "end_time": "2022-02-28T02:52:11.196948Z",
     "start_time": "2022-02-28T02:52:11.180994Z"
    }
   },
   "outputs": [
    {
     "data": {
      "text/plain": [
       "6.062866266041593"
      ]
     },
     "execution_count": 38,
     "metadata": {},
     "output_type": "execute_result"
    }
   ],
   "source": [
    "2**2.6"
   ]
  },
  {
   "cell_type": "markdown",
   "metadata": {},
   "source": [
    "In other words, the mass of the tree scales faster than area, but not as fast as it would for a solid 3-D object.\n",
    "\n",
    "What is this model good for?\n",
    "\n",
    "1) It offers a possible explanation for the shape of tree growth curves.\n",
    "\n",
    "2) It provides a way to estimate the fractal dimension of a tree based on a growth curve (probably with different values for different species).\n",
    "\n",
    "3) It might provide a way to predict future growth of a tree, based on measurements of past growth.  As with the logistic population model, this would probably only work if we have observed the part of the curve where the growth rate starts to decline."
   ]
  },
  {
   "cell_type": "markdown",
   "metadata": {},
   "source": [
    "### Analysis\n",
    "\n",
    "With some help from my colleague, John Geddes, we can do some analysis.\n",
    "\n",
    "Starting with the difference equation in terms of mass:\n",
    " \n",
    "$m_{n+1} = m_n + \\alpha A (1 - h / K) $\n",
    "\n",
    "We can write the corresponding differential equation:\n",
    "\n",
    "(1) $ \\frac{dm}{dt} = \\alpha A (1 - h / K) $\n",
    "\n",
    "With\n",
    "\n",
    "(2) $A = h^2$\n",
    "\n",
    "and\n",
    "\n",
    "(3) $m = h^D$\n",
    "\n",
    "Taking the derivative of the last equation yields\n",
    "\n",
    "(4) $\\frac{dm}{dt} = D h^{D-1} \\frac{dh}{dt}$\n",
    "\n",
    "Combining (1), (2), and (4), we can write a differential equation for $h$:\n",
    "\n",
    "(5) $\\frac{dh}{dt} = \\frac{\\alpha}{D} h^{3-D} (1 - h/K)$\n",
    "\n",
    "Now let's consider two cases:\n",
    "\n",
    "* With infinite $K$, the factor $(1 - h/K)$ approaches 1, so we have Model 2.\n",
    "* With finite $K$, we have Model 3.\n",
    "\n",
    "#### Model 2\n",
    "\n",
    "Within Model 2, we'll consider two special cases, with $D=2$ and $D=3$.\n",
    "\n",
    "With $D=2$, we have\n",
    "\n",
    "$\\frac{dh}{dt} = \\frac{\\alpha}{2} h$\n",
    "\n",
    "which yields exponential growth with parameter $\\alpha/2$.\n",
    "\n",
    "With $D=3$, we have Model 1, with this equation:\n",
    "\n",
    "$\\frac{dh}{dt} = \\frac{\\alpha}{3}$\n",
    "\n",
    "which yields linear growth with parameter $\\alpha/3$.\n",
    "\n",
    "This result explains why Model 1 is linear.\n",
    "\n",
    "\n",
    "\n",
    "#### Model 3\n",
    "\n",
    "Within Model 3, we'll consider two special cases, with $D=2$ and $D=3$.\n",
    "\n",
    "With $D=2$, we have\n",
    "\n",
    "$\\frac{dh}{dt} = \\frac{\\alpha}{2} h (1 - h/K)$\n",
    "\n",
    "which yields logisitic growth with parameters $r = \\alpha/2$ and $K$.\n",
    "\n",
    "With $D=3$, we have\n",
    "\n",
    "$\\frac{dh}{dt} = \\frac{\\alpha}{3} (1 - h/K)$\n",
    "\n",
    "which yields a first order step response; that is, it converges to $K$ like a negative exponential:\n",
    "\n",
    "$ h(t) = c \\exp(-\\frac{\\alpha}{3K} t) + K $\n",
    "\n",
    "where $c$ is a constant that depends on the initial conditions."
   ]
  },
  {
   "cell_type": "code",
   "execution_count": 39,
   "metadata": {
    "ExecuteTime": {
     "end_time": "2022-02-28T03:01:51.087840Z",
     "start_time": "2022-02-28T03:01:51.037748Z"
    }
   },
   "outputs": [],
   "source": [
    "alpha = 10\n",
    "D = 3\n",
    "K = 200\n",
    "params = alpha, D, K\n",
    "system = make_system(params, data)\n",
    "results = run_simulation(system, update3);"
   ]
  },
  {
   "cell_type": "code",
   "execution_count": 40,
   "metadata": {
    "ExecuteTime": {
     "end_time": "2022-02-28T03:01:52.244653Z",
     "start_time": "2022-02-28T03:01:52.122618Z"
    }
   },
   "outputs": [
    {
     "data": {
      "image/png": "[encoded data removed]",
      "text/plain": [
       "<Figure size 432x288 with 1 Axes>"
      ]
     },
     "metadata": {
      "needs_background": "light"
     },
     "output_type": "display_data"
    }
   ],
   "source": [
    "t = results.index\n",
    "a = alpha/3\n",
    "h = (-220) * exp(-a * t / K) + K\n",
    "plot(t, h)\n",
    "plot(results)\n",
    "decorate(xlabel='Time (years)',\n",
    "         ylabel='Height (feet)')"
   ]
  },
  {
   "cell_type": "markdown",
   "metadata": {},
   "source": [
    "Additional resources:\n",
    "\n",
    "Garcia, [A stochastic differential equation model for the\n",
    "height growth of forest stands](http://citeseerx.ist.psu.edu/viewdoc/download;jsessionid=664FED1E46ABCBF6E16741C294B79976?doi=10.1.1.608.81&rep=rep1&type=pdf)\n",
    "\n",
    "[EasySDE software and data](http://forestgrowth.unbc.ca/)"
   ]
  },
  {
   "cell_type": "code",
   "execution_count": null,
   "metadata": {},
   "outputs": [],
   "source": []
  }
 ],
 "metadata": {
  "kernelspec": {
   "display_name": "Python 3",
   "language": "python",
   "name": "python3"
  },
  "language_info": {
   "codemirror_mode": {
    "name": "ipython",
    "version": 3
   },
   "file_extension": ".py",
   "mimetype": "text/x-python",
   "name": "python",
   "nbconvert_exporter": "python",
   "pygments_lexer": "ipython3",
   "version": "3.7.1"
  },
  "toc": {
   "base_numbering": 1,
   "nav_menu": {},
   "number_sections": true,
   "sideBar": true,
   "skip_h1_title": false,
   "title_cell": "Table of Contents",
   "title_sidebar": "Contents",
   "toc_cell": true,
   "toc_position": {},
   "toc_section_display": true,
   "toc_window_display": false
  },
  "varInspector": {
   "cols": {
    "lenName": 16,
    "lenType": 16,
    "lenVar": 40
   },
   "kernels_config": {
    "python": {
     "delete_cmd_postfix": "",
     "delete_cmd_prefix": "del ",
     "library": "var_list.py",
     "varRefreshCmd": "print(var_dic_list())"
    },
    "r": {
     "delete_cmd_postfix": ") ",
     "delete_cmd_prefix": "rm(",
     "library": "var_list.r",
     "varRefreshCmd": "cat(var_dic_list()) "
    }
   },
   "types_to_exclude": [
    "module",
    "function",
    "builtin_function_or_method",
    "instance",
    "_Feature"
   ],
   "window_display": false
  }
 },
 "nbformat": 4,
 "nbformat_minor": 2
}
