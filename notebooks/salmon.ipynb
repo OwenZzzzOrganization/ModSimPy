{
 "cells": [
  {
   "cell_type": "markdown",
   "metadata": {
    "toc": true
   },
   "source": [
    "<h1>Table of Contents<span class=\"tocSkip\"></span></h1>\n",
    "<div class=\"toc\"><ul class=\"toc-item\"><li><span><a href=\"#Modeling-and-Simulation-in-Python\" data-toc-modified-id=\"Modeling-and-Simulation-in-Python-1\"><span class=\"toc-item-num\">1&nbsp;&nbsp;</span>Modeling and Simulation in Python</a></span><ul class=\"toc-item\"><li><ul class=\"toc-item\"><li><span><a href=\"#Can-we-predict-salmon-populations?\" data-toc-modified-id=\"Can-we-predict-salmon-populations?-1.0.1\"><span class=\"toc-item-num\">1.0.1&nbsp;&nbsp;</span>Can we predict salmon populations?</a></span></li></ul></li><li><span><a href=\"#Modeling-changes\" data-toc-modified-id=\"Modeling-changes-1.1\"><span class=\"toc-item-num\">1.1&nbsp;&nbsp;</span>Modeling changes</a></span></li><li><span><a href=\"#Simulation\" data-toc-modified-id=\"Simulation-1.2\"><span class=\"toc-item-num\">1.2&nbsp;&nbsp;</span>Simulation</a></span></li><li><span><a href=\"#Distribution-of-net-changes\" data-toc-modified-id=\"Distribution-of-net-changes-1.3\"><span class=\"toc-item-num\">1.3&nbsp;&nbsp;</span>Distribution of net changes</a></span></li><li><span><a href=\"#A-refined-model\" data-toc-modified-id=\"A-refined-model-1.4\"><span class=\"toc-item-num\">1.4&nbsp;&nbsp;</span>A refined model</a></span></li><li><span><a href=\"#Extracting-data-from-a-PDF-document\" data-toc-modified-id=\"Extracting-data-from-a-PDF-document-1.5\"><span class=\"toc-item-num\">1.5&nbsp;&nbsp;</span>Extracting data from a PDF document</a></span></li></ul></li></ul></div>"
   ]
  },
  {
   "cell_type": "markdown",
   "metadata": {},
   "source": [
    "# Modeling and Simulation in Python\n",
    "\n",
    "LAST MODIFIED HOME PC\n",
    "\n",
    "Case Study: Predicting salmon returns\n",
    "\n",
    "This case study is based on a ModSim student project by Josh Deng and Erika Lu.\n",
    "\n",
    "Copyright 2017 Allen Downey\n",
    "\n",
    "License: [Creative Commons Attribution 4.0 International](https://creativecommons.org/licenses/by/4.0)\n"
   ]
  },
  {
   "cell_type": "code",
   "execution_count": 1,
   "metadata": {
    "ExecuteTime": {
     "end_time": "2022-02-25T08:24:18.737270Z",
     "start_time": "2022-02-25T08:24:15.089233Z"
    }
   },
   "outputs": [],
   "source": [
    "# Configure Jupyter so figures appear in the notebook\n",
    "%matplotlib inline\n",
    "\n",
    "# Configure Jupyter to display the assigned value after an assignment\n",
    "%config InteractiveShell.ast_node_interactivity='last_expr_or_assign'\n",
    "\n",
    "# import functions from the modsim.py module\n",
    "from modsim import *"
   ]
  },
  {
   "cell_type": "markdown",
   "metadata": {},
   "source": [
    "### Can we predict salmon populations?\n",
    "\n",
    "Each year the [U.S. Atlantic Salmon Assessment Committee](https://www.nefsc.noaa.gov/USASAC/Reports/USASAC2018-Report-30-2017-Activities.pdf) reports estimates of salmon populations in oceans and rivers in the northeastern United States.  The reports are useful for monitoring changes in these populations, but they generally do not include predictions.\n",
    "\n",
    "The goal of this case study is to model year-to-year changes in population, evaluate how predictable these changes are, and estimate the probability that a particular population will increase or decrease in the next 10 years.\n",
    "\n",
    "As an example, I'll use data from page 18 of the 2017 report, which provides population estimates for the Narraguagus and Sheepscot Rivers in Maine.\n",
    "\n",
    "![USASAC_Report_2017_Page18](data/USASAC_Report_2017_Page18.png)\n",
    "\n",
    "At the end of this notebook, I make some suggestions for extracting data from a PDF document automatically, but for this example I will keep it simple and type it in.\n",
    "\n",
    "Here are the population estimates for the Narraguagus River:"
   ]
  },
  {
   "cell_type": "code",
   "execution_count": 2,
   "metadata": {
    "ExecuteTime": {
     "end_time": "2022-02-25T08:24:22.203577Z",
     "start_time": "2022-02-25T08:24:22.199610Z"
    }
   },
   "outputs": [],
   "source": [
    "pops = [2749, 2845, 4247, 1843, 2562, 1774, 1201, 1284, 1287, 2339, 1177, 962, 1176, 2149, 1404, 969, 1237, 1615, 1201];"
   ]
  },
  {
   "cell_type": "markdown",
   "metadata": {},
   "source": [
    "To get this data into a Pandas Series, I'll also make a range of years to use as an index."
   ]
  },
  {
   "cell_type": "code",
   "execution_count": 3,
   "metadata": {
    "ExecuteTime": {
     "end_time": "2022-02-25T08:24:23.070036Z",
     "start_time": "2022-02-25T08:24:23.051109Z"
    }
   },
   "outputs": [
    {
     "data": {
      "text/plain": [
       "range(1997, 2016)"
      ]
     },
     "execution_count": 3,
     "metadata": {},
     "output_type": "execute_result"
    }
   ],
   "source": [
    "years = range(1997, 2016)"
   ]
  },
  {
   "cell_type": "markdown",
   "metadata": {},
   "source": [
    "And here's the series."
   ]
  },
  {
   "cell_type": "code",
   "execution_count": 4,
   "metadata": {
    "ExecuteTime": {
     "end_time": "2022-02-25T08:24:23.871492Z",
     "start_time": "2022-02-25T08:24:23.855494Z"
    }
   },
   "outputs": [
    {
     "data": {
      "text/html": [
       "<div>\n",
       "<style scoped>\n",
       "    .dataframe tbody tr th:only-of-type {\n",
       "        vertical-align: middle;\n",
       "    }\n",
       "\n",
       "    .dataframe tbody tr th {\n",
       "        vertical-align: top;\n",
       "    }\n",
       "\n",
       "    .dataframe thead th {\n",
       "        text-align: right;\n",
       "    }\n",
       "</style>\n",
       "<table border=\"1\" class=\"dataframe\">\n",
       "  <thead>\n",
       "    <tr style=\"text-align: right;\">\n",
       "      <th></th>\n",
       "      <th>values</th>\n",
       "    </tr>\n",
       "  </thead>\n",
       "  <tbody>\n",
       "    <tr>\n",
       "      <th>1997</th>\n",
       "      <td>2749.0</td>\n",
       "    </tr>\n",
       "    <tr>\n",
       "      <th>1998</th>\n",
       "      <td>2845.0</td>\n",
       "    </tr>\n",
       "    <tr>\n",
       "      <th>1999</th>\n",
       "      <td>4247.0</td>\n",
       "    </tr>\n",
       "    <tr>\n",
       "      <th>2000</th>\n",
       "      <td>1843.0</td>\n",
       "    </tr>\n",
       "    <tr>\n",
       "      <th>2001</th>\n",
       "      <td>2562.0</td>\n",
       "    </tr>\n",
       "    <tr>\n",
       "      <th>2002</th>\n",
       "      <td>1774.0</td>\n",
       "    </tr>\n",
       "    <tr>\n",
       "      <th>2003</th>\n",
       "      <td>1201.0</td>\n",
       "    </tr>\n",
       "    <tr>\n",
       "      <th>2004</th>\n",
       "      <td>1284.0</td>\n",
       "    </tr>\n",
       "    <tr>\n",
       "      <th>2005</th>\n",
       "      <td>1287.0</td>\n",
       "    </tr>\n",
       "    <tr>\n",
       "      <th>2006</th>\n",
       "      <td>2339.0</td>\n",
       "    </tr>\n",
       "    <tr>\n",
       "      <th>2007</th>\n",
       "      <td>1177.0</td>\n",
       "    </tr>\n",
       "    <tr>\n",
       "      <th>2008</th>\n",
       "      <td>962.0</td>\n",
       "    </tr>\n",
       "    <tr>\n",
       "      <th>2009</th>\n",
       "      <td>1176.0</td>\n",
       "    </tr>\n",
       "    <tr>\n",
       "      <th>2010</th>\n",
       "      <td>2149.0</td>\n",
       "    </tr>\n",
       "    <tr>\n",
       "      <th>2011</th>\n",
       "      <td>1404.0</td>\n",
       "    </tr>\n",
       "    <tr>\n",
       "      <th>2012</th>\n",
       "      <td>969.0</td>\n",
       "    </tr>\n",
       "    <tr>\n",
       "      <th>2013</th>\n",
       "      <td>1237.0</td>\n",
       "    </tr>\n",
       "    <tr>\n",
       "      <th>2014</th>\n",
       "      <td>1615.0</td>\n",
       "    </tr>\n",
       "    <tr>\n",
       "      <th>2015</th>\n",
       "      <td>1201.0</td>\n",
       "    </tr>\n",
       "  </tbody>\n",
       "</table>\n",
       "</div>"
      ],
      "text/plain": [
       "1997    2749.0\n",
       "1998    2845.0\n",
       "1999    4247.0\n",
       "2000    1843.0\n",
       "2001    2562.0\n",
       "2002    1774.0\n",
       "2003    1201.0\n",
       "2004    1284.0\n",
       "2005    1287.0\n",
       "2006    2339.0\n",
       "2007    1177.0\n",
       "2008     962.0\n",
       "2009    1176.0\n",
       "2010    2149.0\n",
       "2011    1404.0\n",
       "2012     969.0\n",
       "2013    1237.0\n",
       "2014    1615.0\n",
       "2015    1201.0\n",
       "dtype: float64"
      ]
     },
     "execution_count": 4,
     "metadata": {},
     "output_type": "execute_result"
    }
   ],
   "source": [
    "pop_series = TimeSeries(pops, index=years, dtype=np.float64)"
   ]
  },
  {
   "cell_type": "markdown",
   "metadata": {},
   "source": [
    "Here's what it looks like:"
   ]
  },
  {
   "cell_type": "code",
   "execution_count": 5,
   "metadata": {
    "ExecuteTime": {
     "end_time": "2022-02-25T08:24:25.347193Z",
     "start_time": "2022-02-25T08:24:25.142144Z"
    }
   },
   "outputs": [
    {
     "data": {
      "image/png": "[encoded data removed]",
      "text/plain": [
       "<Figure size 432x288 with 1 Axes>"
      ]
     },
     "metadata": {
      "needs_background": "light"
     },
     "output_type": "display_data"
    }
   ],
   "source": [
    "def plot_population(series):\n",
    "    plot(series, label='Estimated population')\n",
    "    decorate(xlabel='Year', \n",
    "             ylabel='Population estimate', \n",
    "             title='Narraguacus River',\n",
    "             ylim=[0, 5000])\n",
    "    \n",
    "plot_population(pop_series)"
   ]
  },
  {
   "cell_type": "markdown",
   "metadata": {},
   "source": [
    "## Modeling changes\n",
    "\n",
    "To see how the population changes from year-to-year, I'll use `ediff1d` to compute the absolute difference between each year and the next.\n"
   ]
  },
  {
   "cell_type": "code",
   "execution_count": 6,
   "metadata": {
    "ExecuteTime": {
     "end_time": "2022-02-25T08:24:26.463260Z",
     "start_time": "2022-02-25T08:24:26.446339Z"
    }
   },
   "outputs": [
    {
     "data": {
      "text/plain": [
       "array([   96.,  1402., -2404.,   719.,  -788.,  -573.,    83.,     3.,\n",
       "        1052., -1162.,  -215.,   214.,   973.,  -745.,  -435.,   268.,\n",
       "         378.,  -414.,     0.])"
      ]
     },
     "execution_count": 6,
     "metadata": {},
     "output_type": "execute_result"
    }
   ],
   "source": [
    "abs_diffs = np.ediff1d(pop_series, to_end=0)"
   ]
  },
  {
   "cell_type": "markdown",
   "metadata": {},
   "source": [
    "We can compute relative differences by dividing by the original series elementwise."
   ]
  },
  {
   "cell_type": "code",
   "execution_count": 7,
   "metadata": {
    "ExecuteTime": {
     "end_time": "2022-02-25T08:24:29.391690Z",
     "start_time": "2022-02-25T08:24:29.347040Z"
    }
   },
   "outputs": [
    {
     "data": {
      "text/plain": [
       "1997    0.034922\n",
       "1998    0.492794\n",
       "1999   -0.566047\n",
       "2000    0.390125\n",
       "2001   -0.307572\n",
       "2002   -0.322999\n",
       "2003    0.069109\n",
       "2004    0.002336\n",
       "2005    0.817405\n",
       "2006   -0.496794\n",
       "2007   -0.182668\n",
       "2008    0.222453\n",
       "2009    0.827381\n",
       "2010   -0.346673\n",
       "2011   -0.309829\n",
       "2012    0.276574\n",
       "2013    0.305578\n",
       "2014   -0.256347\n",
       "2015    0.000000\n",
       "dtype: float64"
      ]
     },
     "execution_count": 7,
     "metadata": {},
     "output_type": "execute_result"
    }
   ],
   "source": [
    "rel_diffs = abs_diffs / pop_series"
   ]
  },
  {
   "cell_type": "markdown",
   "metadata": {},
   "source": [
    "Or we can use the `modsim` function `compute_rel_diff`:"
   ]
  },
  {
   "cell_type": "code",
   "execution_count": 8,
   "metadata": {
    "ExecuteTime": {
     "end_time": "2022-02-25T08:24:30.376270Z",
     "start_time": "2022-02-25T08:24:30.366272Z"
    }
   },
   "outputs": [
    {
     "data": {
      "text/plain": [
       "1997    0.034922\n",
       "1998    0.492794\n",
       "1999   -0.566047\n",
       "2000    0.390125\n",
       "2001   -0.307572\n",
       "2002   -0.322999\n",
       "2003    0.069109\n",
       "2004    0.002336\n",
       "2005    0.817405\n",
       "2006   -0.496794\n",
       "2007   -0.182668\n",
       "2008    0.222453\n",
       "2009    0.827381\n",
       "2010   -0.346673\n",
       "2011   -0.309829\n",
       "2012    0.276574\n",
       "2013    0.305578\n",
       "2014   -0.256347\n",
       "2015    0.000000\n",
       "dtype: float64"
      ]
     },
     "execution_count": 8,
     "metadata": {},
     "output_type": "execute_result"
    }
   ],
   "source": [
    "rel_diffs = compute_rel_diff(pop_series)"
   ]
  },
  {
   "cell_type": "markdown",
   "metadata": {},
   "source": [
    "These relative differences are observed annual net growth rates.  So let's drop the `0` and save them."
   ]
  },
  {
   "cell_type": "code",
   "execution_count": 9,
   "metadata": {
    "ExecuteTime": {
     "end_time": "2022-02-25T08:24:31.257800Z",
     "start_time": "2022-02-25T08:24:31.250849Z"
    }
   },
   "outputs": [
    {
     "data": {
      "text/plain": [
       "1997    0.034922\n",
       "1998    0.492794\n",
       "1999   -0.566047\n",
       "2000    0.390125\n",
       "2001   -0.307572\n",
       "2002   -0.322999\n",
       "2003    0.069109\n",
       "2004    0.002336\n",
       "2005    0.817405\n",
       "2006   -0.496794\n",
       "2007   -0.182668\n",
       "2008    0.222453\n",
       "2009    0.827381\n",
       "2010   -0.346673\n",
       "2011   -0.309829\n",
       "2012    0.276574\n",
       "2013    0.305578\n",
       "2014   -0.256347\n",
       "dtype: float64"
      ]
     },
     "execution_count": 9,
     "metadata": {},
     "output_type": "execute_result"
    }
   ],
   "source": [
    "rates = rel_diffs.drop(2015)"
   ]
  },
  {
   "cell_type": "markdown",
   "metadata": {},
   "source": [
    "A simple way to model this system is to draw a random value from this series of observed rates each year.  We can use the NumPy function `choice` to make a random choice from a series."
   ]
  },
  {
   "cell_type": "code",
   "execution_count": 10,
   "metadata": {
    "ExecuteTime": {
     "end_time": "2022-02-25T08:24:35.133976Z",
     "start_time": "2022-02-25T08:24:35.121037Z"
    }
   },
   "outputs": [
    {
     "data": {
      "text/plain": [
       "0.03492178974172426"
      ]
     },
     "execution_count": 10,
     "metadata": {},
     "output_type": "execute_result"
    }
   ],
   "source": [
    "np.random.choice(rates)"
   ]
  },
  {
   "cell_type": "markdown",
   "metadata": {},
   "source": [
    "## Simulation\n",
    "\n",
    "Now we can simulate the system by drawing random growth rates from the series of observed rates.\n",
    "\n",
    "I'll start the simulation in 2015."
   ]
  },
  {
   "cell_type": "code",
   "execution_count": 11,
   "metadata": {
    "ExecuteTime": {
     "end_time": "2022-02-25T08:24:36.020965Z",
     "start_time": "2022-02-25T08:24:36.013976Z"
    }
   },
   "outputs": [
    {
     "data": {
      "text/plain": [
       "1201.0"
      ]
     },
     "execution_count": 11,
     "metadata": {},
     "output_type": "execute_result"
    }
   ],
   "source": [
    "t_0 = 2015\n",
    "p_0 = pop_series[t_0]"
   ]
  },
  {
   "cell_type": "markdown",
   "metadata": {},
   "source": [
    "Create a `System` object with variables `t_0`, `p_0`, `rates`, and `duration=10` years. \n",
    "\n",
    "The series of observed rates is one big parameter of the model."
   ]
  },
  {
   "cell_type": "code",
   "execution_count": 12,
   "metadata": {
    "ExecuteTime": {
     "end_time": "2022-02-25T08:24:36.883902Z",
     "start_time": "2022-02-25T08:24:36.871911Z"
    }
   },
   "outputs": [
    {
     "data": {
      "text/html": [
       "<div>\n",
       "<style scoped>\n",
       "    .dataframe tbody tr th:only-of-type {\n",
       "        vertical-align: middle;\n",
       "    }\n",
       "\n",
       "    .dataframe tbody tr th {\n",
       "        vertical-align: top;\n",
       "    }\n",
       "\n",
       "    .dataframe thead th {\n",
       "        text-align: right;\n",
       "    }\n",
       "</style>\n",
       "<table border=\"1\" class=\"dataframe\">\n",
       "  <thead>\n",
       "    <tr style=\"text-align: right;\">\n",
       "      <th></th>\n",
       "      <th>values</th>\n",
       "    </tr>\n",
       "  </thead>\n",
       "  <tbody>\n",
       "    <tr>\n",
       "      <th>t_0</th>\n",
       "      <td>2015</td>\n",
       "    </tr>\n",
       "    <tr>\n",
       "      <th>p_0</th>\n",
       "      <td>1201</td>\n",
       "    </tr>\n",
       "    <tr>\n",
       "      <th>duration</th>\n",
       "      <td>10</td>\n",
       "    </tr>\n",
       "    <tr>\n",
       "      <th>rates</th>\n",
       "      <td>1997    0.034922\n",
       "1998    0.492794\n",
       "1999   -0.56...</td>\n",
       "    </tr>\n",
       "  </tbody>\n",
       "</table>\n",
       "</div>"
      ],
      "text/plain": [
       "t_0                                                      2015\n",
       "p_0                                                      1201\n",
       "duration                                                   10\n",
       "rates       1997    0.034922\n",
       "1998    0.492794\n",
       "1999   -0.56...\n",
       "dtype: object"
      ]
     },
     "execution_count": 12,
     "metadata": {},
     "output_type": "execute_result"
    }
   ],
   "source": [
    "system = System(t_0=t_0,\n",
    "                p_0=p_0,\n",
    "                duration=10,\n",
    "                rates=rates)"
   ]
  },
  {
   "cell_type": "markdown",
   "metadata": {},
   "source": [
    "Write an update functon that takes as parameters `pop`, `t`, and `system`.\n",
    "It should choose a random growth rate, compute the change in population, and return the new population."
   ]
  },
  {
   "cell_type": "code",
   "execution_count": 13,
   "metadata": {
    "ExecuteTime": {
     "end_time": "2022-02-25T08:24:37.835555Z",
     "start_time": "2022-02-25T08:24:37.823601Z"
    }
   },
   "outputs": [
    {
     "data": {
      "text/plain": [
       "-0.2563467492260062"
      ]
     },
     "execution_count": 13,
     "metadata": {},
     "output_type": "execute_result"
    }
   ],
   "source": [
    "system.rates[2014]"
   ]
  },
  {
   "cell_type": "code",
   "execution_count": 14,
   "metadata": {
    "ExecuteTime": {
     "end_time": "2022-02-25T08:24:39.012564Z",
     "start_time": "2022-02-25T08:24:38.999600Z"
    }
   },
   "outputs": [
    {
     "data": {
      "text/plain": [
       "-0.1826677994902294"
      ]
     },
     "execution_count": 14,
     "metadata": {},
     "output_type": "execute_result"
    }
   ],
   "source": [
    "np.random.choice(system.rates)"
   ]
  },
  {
   "cell_type": "code",
   "execution_count": 15,
   "metadata": {
    "ExecuteTime": {
     "end_time": "2022-02-25T08:24:39.749636Z",
     "start_time": "2022-02-25T08:24:39.738642Z"
    }
   },
   "outputs": [
    {
     "data": {
      "text/plain": [
       "690.1709401709402"
      ]
     },
     "execution_count": 15,
     "metadata": {},
     "output_type": "execute_result"
    }
   ],
   "source": [
    "# Solution goes here\n",
    "\n",
    "def update_func1(p,t,system):\n",
    "    new_rate = np.random.choice(system.rates)\n",
    "    return p*(1+new_rate)\n",
    "\n",
    "update_func1(1000,1,system)"
   ]
  },
  {
   "cell_type": "markdown",
   "metadata": {},
   "source": [
    "Test your update function and run it a few times"
   ]
  },
  {
   "cell_type": "code",
   "execution_count": 16,
   "metadata": {
    "ExecuteTime": {
     "end_time": "2022-02-25T08:24:42.545355Z",
     "start_time": "2022-02-25T08:24:42.534408Z"
    }
   },
   "outputs": [
    {
     "data": {
      "text/plain": [
       "1533.1651186790507"
      ]
     },
     "execution_count": 16,
     "metadata": {},
     "output_type": "execute_result"
    }
   ],
   "source": [
    "update_func1(p_0, t_0, system)"
   ]
  },
  {
   "cell_type": "markdown",
   "metadata": {},
   "source": [
    "Here's a version of `run_simulation` that stores the results in a `TimeSeries` and returns it."
   ]
  },
  {
   "cell_type": "code",
   "execution_count": 17,
   "metadata": {
    "ExecuteTime": {
     "end_time": "2022-02-25T08:24:45.608750Z",
     "start_time": "2022-02-25T08:24:45.590799Z"
    }
   },
   "outputs": [],
   "source": [
    "def run_simulation(system, update_func):\n",
    "    \"\"\"Simulate a queueing system.\n",
    "    \n",
    "    system: System object\n",
    "    update_func: function object\n",
    "    \"\"\"\n",
    "    t_0 = system.t_0\n",
    "    t_end = t_0 + system.duration\n",
    "    \n",
    "    results = TimeSeries()\n",
    "    results[t_0] = system.p_0\n",
    "    \n",
    "    for t in linrange(t_0, t_end):\n",
    "        results[t+1] = update_func(results[t], t, system)\n",
    "\n",
    "    return results"
   ]
  },
  {
   "cell_type": "markdown",
   "metadata": {},
   "source": [
    "Use `run_simulation` to run generate a prediction for the next 10 years.\n",
    "\n",
    "The plot your prediction along with the original data.  Your prediction should pick up where the data leave off."
   ]
  },
  {
   "cell_type": "code",
   "execution_count": 18,
   "metadata": {
    "ExecuteTime": {
     "end_time": "2022-02-25T08:24:46.653805Z",
     "start_time": "2022-02-25T08:24:46.635827Z"
    }
   },
   "outputs": [
    {
     "data": {
      "text/html": [
       "<div>\n",
       "<style scoped>\n",
       "    .dataframe tbody tr th:only-of-type {\n",
       "        vertical-align: middle;\n",
       "    }\n",
       "\n",
       "    .dataframe tbody tr th {\n",
       "        vertical-align: top;\n",
       "    }\n",
       "\n",
       "    .dataframe thead th {\n",
       "        text-align: right;\n",
       "    }\n",
       "</style>\n",
       "<table border=\"1\" class=\"dataframe\">\n",
       "  <thead>\n",
       "    <tr style=\"text-align: right;\">\n",
       "      <th></th>\n",
       "      <th>values</th>\n",
       "    </tr>\n",
       "  </thead>\n",
       "  <tbody>\n",
       "    <tr>\n",
       "      <th>2015</th>\n",
       "      <td>1201.000000</td>\n",
       "    </tr>\n",
       "    <tr>\n",
       "      <th>2016</th>\n",
       "      <td>1533.165119</td>\n",
       "    </tr>\n",
       "    <tr>\n",
       "      <th>2017</th>\n",
       "      <td>1058.146011</td>\n",
       "    </tr>\n",
       "    <tr>\n",
       "      <th>2018</th>\n",
       "      <td>459.186037</td>\n",
       "    </tr>\n",
       "    <tr>\n",
       "      <th>2019</th>\n",
       "      <td>834.526916</td>\n",
       "    </tr>\n",
       "    <tr>\n",
       "      <th>2020</th>\n",
       "      <td>577.849629</td>\n",
       "    </tr>\n",
       "    <tr>\n",
       "      <th>2021</th>\n",
       "      <td>617.784282</td>\n",
       "    </tr>\n",
       "    <tr>\n",
       "      <th>2022</th>\n",
       "      <td>403.615231</td>\n",
       "    </tr>\n",
       "    <tr>\n",
       "      <th>2023</th>\n",
       "      <td>733.532266</td>\n",
       "    </tr>\n",
       "    <tr>\n",
       "      <th>2024</th>\n",
       "      <td>369.118203</td>\n",
       "    </tr>\n",
       "    <tr>\n",
       "      <th>2025</th>\n",
       "      <td>160.180091</td>\n",
       "    </tr>\n",
       "  </tbody>\n",
       "</table>\n",
       "</div>"
      ],
      "text/plain": [
       "2015    1201.000000\n",
       "2016    1533.165119\n",
       "2017    1058.146011\n",
       "2018     459.186037\n",
       "2019     834.526916\n",
       "2020     577.849629\n",
       "2021     617.784282\n",
       "2022     403.615231\n",
       "2023     733.532266\n",
       "2024     369.118203\n",
       "2025     160.180091\n",
       "dtype: float64"
      ]
     },
     "execution_count": 18,
     "metadata": {},
     "output_type": "execute_result"
    }
   ],
   "source": [
    "run_simulation(system,update_func1)"
   ]
  },
  {
   "cell_type": "markdown",
   "metadata": {},
   "source": [
    "To get a sense of how much the results vary, we can run the model several times and plot all of the results."
   ]
  },
  {
   "cell_type": "code",
   "execution_count": 19,
   "metadata": {
    "ExecuteTime": {
     "end_time": "2022-02-25T08:24:48.988109Z",
     "start_time": "2022-02-25T08:24:48.982102Z"
    }
   },
   "outputs": [],
   "source": [
    "def plot_many_simulations(system, update_func, iters):\n",
    "    \"\"\"Runs simulations and plots the results.\n",
    "    \n",
    "    system: System object\n",
    "    update_func: function object\n",
    "    iters: number of simulations to run\n",
    "    \"\"\"\n",
    "    for i in range(iters):\n",
    "        results = run_simulation(system, update_func)\n",
    "        plot(results, color='gray', linewidth=1, alpha=0.1)"
   ]
  },
  {
   "cell_type": "markdown",
   "metadata": {},
   "source": [
    "The plot option `alpha=0.1` makes the lines semi-transparent, so they are darker where they overlap.\n",
    "\n",
    "Run `plot_many_simulations` with your update function and `iters=30`.  Also plot the original data."
   ]
  },
  {
   "cell_type": "code",
   "execution_count": 20,
   "metadata": {
    "ExecuteTime": {
     "end_time": "2022-02-25T08:24:50.660945Z",
     "start_time": "2022-02-25T08:24:50.319782Z"
    }
   },
   "outputs": [
    {
     "data": {
      "image/png": "[encoded data removed]",
      "text/plain": [
       "<Figure size 432x288 with 1 Axes>"
      ]
     },
     "metadata": {
      "needs_background": "light"
     },
     "output_type": "display_data"
    }
   ],
   "source": [
    "plot_many_simulations(system,update_func1,30)"
   ]
  },
  {
   "cell_type": "markdown",
   "metadata": {},
   "source": [
    "The results are highly variable: according to this model, the population might continue to decline over the next 10 years, or it might recover and grow rapidly!\n",
    "\n",
    "It's hard to say how seriously we should take this model.  There are many factors that influence salmon populations that are not included in the model.  For example, if the population starts to grow quickly, it might be limited by resource limits, predators, or fishing.  If the population starts to fall, humans might restrict fishing and stock the river with farmed fish.\n",
    "\n",
    "So these results should probably not be considered useful predictions.  However, there might be something useful we can do, which is to estimate the probability that the population will increase or decrease in the next 10 years.  "
   ]
  },
  {
   "cell_type": "markdown",
   "metadata": {},
   "source": [
    "## Distribution of net changes\n",
    "\n",
    "To describe the distribution of net changes, write a function called `run_many_simulations` that runs many simulations, saves the final populations in a `ModSimSeries`, and returns the `ModSimSeries`.\n"
   ]
  },
  {
   "cell_type": "code",
   "execution_count": 38,
   "metadata": {
    "ExecuteTime": {
     "end_time": "2022-02-25T08:29:56.166471Z",
     "start_time": "2022-02-25T08:29:56.152509Z"
    }
   },
   "outputs": [],
   "source": [
    "def run_many_simulations(system, update_func, iters):\n",
    "    \"\"\"Runs simulations and report final populations.\n",
    "    \n",
    "    system: System object\n",
    "    update_func: function object\n",
    "    iters: number of simulations to run\n",
    "    \n",
    "    returns: series of final populations\n",
    "    \"\"\"\n",
    "    ModSimSeries = pd.Series(index = range(iters))\n",
    "    for i in range(iters):\n",
    "        results = run_simulation(system, update_func)\n",
    "        plot(results, color='gray', linewidth=1, alpha=0.1)\n",
    "        ModSimSeries[i] = results.iloc[-1]\n",
    "    \n",
    "    return ModSimSeries"
   ]
  },
  {
   "cell_type": "markdown",
   "metadata": {},
   "source": [
    "Test your function by running it with `iters=5`."
   ]
  },
  {
   "cell_type": "code",
   "execution_count": 39,
   "metadata": {
    "ExecuteTime": {
     "end_time": "2022-02-25T08:29:59.411187Z",
     "start_time": "2022-02-25T08:29:59.276547Z"
    }
   },
   "outputs": [
    {
     "data": {
      "text/plain": [
       "0     164.166175\n",
       "1     408.626417\n",
       "2     813.722864\n",
       "3      60.735436\n",
       "4    1228.568422\n",
       "dtype: float64"
      ]
     },
     "execution_count": 39,
     "metadata": {},
     "output_type": "execute_result"
    },
    {
     "data": {
      "image/png": "[encoded data removed]",
      "text/plain": [
       "<Figure size 432x288 with 1 Axes>"
      ]
     },
     "metadata": {
      "needs_background": "light"
     },
     "output_type": "display_data"
    }
   ],
   "source": [
    "run_many_simulations(system, update_func1, 5)"
   ]
  },
  {
   "cell_type": "markdown",
   "metadata": {},
   "source": [
    "Now we can run 1000 simulations and describe the distribution of the results."
   ]
  },
  {
   "cell_type": "code",
   "execution_count": 40,
   "metadata": {
    "ExecuteTime": {
     "end_time": "2022-02-25T08:30:34.269790Z",
     "start_time": "2022-02-25T08:30:25.626875Z"
    }
   },
   "outputs": [
    {
     "data": {
      "text/plain": [
       "count     1000.000000\n",
       "mean      1724.434742\n",
       "std       2938.672208\n",
       "min         14.048932\n",
       "25%        312.913089\n",
       "50%        760.516748\n",
       "75%       1853.238018\n",
       "max      40641.905450\n",
       "dtype: float64"
      ]
     },
     "execution_count": 40,
     "metadata": {},
     "output_type": "execute_result"
    },
    {
     "data": {
      "image/png": "[encoded data removed]",
      "text/plain": [
       "<Figure size 432x288 with 1 Axes>"
      ]
     },
     "metadata": {
      "needs_background": "light"
     },
     "output_type": "display_data"
    }
   ],
   "source": [
    "last_pops = run_many_simulations(system, update_func1, 1000)\n",
    "last_pops.describe()"
   ]
  },
  {
   "cell_type": "markdown",
   "metadata": {},
   "source": [
    "If we substract off the initial population, we get the distribution of changes."
   ]
  },
  {
   "cell_type": "code",
   "execution_count": 41,
   "metadata": {
    "ExecuteTime": {
     "end_time": "2022-02-25T08:31:15.399343Z",
     "start_time": "2022-02-25T08:31:15.384384Z"
    }
   },
   "outputs": [
    {
     "data": {
      "text/plain": [
       "count     1000.000000\n",
       "mean       523.434742\n",
       "std       2938.672208\n",
       "min      -1186.951068\n",
       "25%       -888.086911\n",
       "50%       -440.483252\n",
       "75%        652.238018\n",
       "max      39440.905450\n",
       "dtype: float64"
      ]
     },
     "execution_count": 41,
     "metadata": {},
     "output_type": "execute_result"
    }
   ],
   "source": [
    "net_changes = last_pops - p_0\n",
    "net_changes.describe()"
   ]
  },
  {
   "cell_type": "markdown",
   "metadata": {},
   "source": [
    "The median is negative, which indicates that the population decreases more often than it increases.\n",
    "\n",
    "We can be more specific by counting the number of runs where `net_changes` is positive."
   ]
  },
  {
   "cell_type": "code",
   "execution_count": 42,
   "metadata": {
    "ExecuteTime": {
     "end_time": "2022-02-25T08:33:33.627275Z",
     "start_time": "2022-02-25T08:33:33.623286Z"
    }
   },
   "outputs": [
    {
     "data": {
      "text/plain": [
       "353"
      ]
     },
     "execution_count": 42,
     "metadata": {},
     "output_type": "execute_result"
    }
   ],
   "source": [
    "np.sum(net_changes > 0)"
   ]
  },
  {
   "cell_type": "markdown",
   "metadata": {},
   "source": [
    "Or we can use `mean` to compute the fraction of runs where `net_changes` is positive."
   ]
  },
  {
   "cell_type": "code",
   "execution_count": 43,
   "metadata": {
    "ExecuteTime": {
     "end_time": "2022-02-25T08:33:43.393117Z",
     "start_time": "2022-02-25T08:33:43.379178Z"
    }
   },
   "outputs": [
    {
     "data": {
      "text/plain": [
       "0.353"
      ]
     },
     "execution_count": 43,
     "metadata": {},
     "output_type": "execute_result"
    }
   ],
   "source": [
    "np.mean(net_changes > 0)"
   ]
  },
  {
   "cell_type": "markdown",
   "metadata": {},
   "source": [
    "And here's the fraction where it's negative."
   ]
  },
  {
   "cell_type": "code",
   "execution_count": 44,
   "metadata": {
    "ExecuteTime": {
     "end_time": "2022-02-25T08:33:48.450326Z",
     "start_time": "2022-02-25T08:33:48.439328Z"
    }
   },
   "outputs": [
    {
     "data": {
      "text/plain": [
       "0.647"
      ]
     },
     "execution_count": 44,
     "metadata": {},
     "output_type": "execute_result"
    }
   ],
   "source": [
    "np.mean(net_changes < 0)"
   ]
  },
  {
   "cell_type": "markdown",
   "metadata": {},
   "source": [
    "So, based on observed past changes, this model predicts that the population is more likely to decrease than increase over the next 10 years, by about 2:1."
   ]
  },
  {
   "cell_type": "markdown",
   "metadata": {},
   "source": [
    "## A refined model\n",
    "\n",
    "There are a few ways we could improve the model.\n",
    "\n",
    "1.  It looks like there might be cyclic behavior in the past data, with a period of 4-5 years.  We could extend the model to include this effect.\n",
    "\n",
    "2.  Older data might not be as relevant for prediction as newer data, so we could give more weight to newer data.\n",
    "\n",
    "The second option is easier to implement, so let's try it.\n",
    "\n",
    "I'll use `linspace` to create an array of \"weights\" for the observed rates.  The probability that I choose each rate will be proportional to these weights.\n",
    "\n",
    "The weights have to add up to 1, so I divide through by the total."
   ]
  },
  {
   "cell_type": "code",
   "execution_count": 49,
   "metadata": {
    "ExecuteTime": {
     "end_time": "2022-02-25T08:35:14.266456Z",
     "start_time": "2022-02-25T08:35:14.258477Z"
    }
   },
   "outputs": [
    {
     "data": {
      "text/plain": [
       "array([0. , 0.1, 0.2, 0.3, 0.4, 0.5, 0.6, 0.7, 0.8, 0.9, 1. ])"
      ]
     },
     "execution_count": 49,
     "metadata": {},
     "output_type": "execute_result"
    }
   ],
   "source": [
    "linspace(0, 1,11)"
   ]
  },
  {
   "cell_type": "code",
   "execution_count": 45,
   "metadata": {
    "ExecuteTime": {
     "end_time": "2022-02-25T08:34:31.130964Z",
     "start_time": "2022-02-25T08:34:31.009290Z"
    }
   },
   "outputs": [
    {
     "data": {
      "image/png": "[encoded data removed]",
      "text/plain": [
       "<Figure size 432x288 with 1 Axes>"
      ]
     },
     "metadata": {
      "needs_background": "light"
     },
     "output_type": "display_data"
    }
   ],
   "source": [
    "weights = linspace(0, 1, len(rates))\n",
    "weights /= sum(weights)\n",
    "plot(weights)\n",
    "decorate(xlabel='Index into the rates array',\n",
    "         ylabel='Weight')"
   ]
  },
  {
   "cell_type": "markdown",
   "metadata": {},
   "source": [
    "I'll add the weights to the `System` object, since they are parameters of the model."
   ]
  },
  {
   "cell_type": "code",
   "execution_count": 51,
   "metadata": {
    "ExecuteTime": {
     "end_time": "2022-02-25T08:46:25.293441Z",
     "start_time": "2022-02-25T08:46:25.287481Z"
    }
   },
   "outputs": [],
   "source": [
    "system.weights = weights"
   ]
  },
  {
   "cell_type": "markdown",
   "metadata": {},
   "source": [
    "We can pass these weights as a parameter to `np.random.choice` (see the [documentation](https://docs.scipy.org/doc/numpy/reference/generated/numpy.random.choice.html))"
   ]
  },
  {
   "cell_type": "code",
   "execution_count": 52,
   "metadata": {
    "ExecuteTime": {
     "end_time": "2022-02-25T08:46:34.448899Z",
     "start_time": "2022-02-25T08:46:34.437949Z"
    },
    "scrolled": true
   },
   "outputs": [
    {
     "data": {
      "text/plain": [
       "-0.30982905982905984"
      ]
     },
     "execution_count": 52,
     "metadata": {},
     "output_type": "execute_result"
    }
   ],
   "source": [
    "np.random.choice(system.rates, p=system.weights)"
   ]
  },
  {
   "cell_type": "code",
   "execution_count": 61,
   "metadata": {
    "ExecuteTime": {
     "end_time": "2022-02-25T08:51:47.794973Z",
     "start_time": "2022-02-25T08:51:47.335202Z"
    }
   },
   "outputs": [
    {
     "data": {
      "text/plain": [
       "0.0        0\n",
       "1.0      173\n",
       "2.0      356\n",
       "3.0      541\n",
       "4.0      705\n",
       "5.0      947\n",
       "6.0     1064\n",
       "7.0     1288\n",
       "8.0     1491\n",
       "9.0     1669\n",
       "10.0    1766\n",
       "dtype: int64"
      ]
     },
     "execution_count": 61,
     "metadata": {},
     "output_type": "execute_result"
    }
   ],
   "source": [
    "test_list = linspace(0,10,11)\n",
    "base = pd.Series(0,index=test_list)\n",
    "for i in range(10000):\n",
    "    pick = np.random.choice(test_list,p=test_list/sum(test_list))\n",
    "    base[pick]+=1\n",
    "    \n",
    "base"
   ]
  },
  {
   "cell_type": "markdown",
   "metadata": {},
   "source": [
    "Write an update function that takes the weights into account."
   ]
  },
  {
   "cell_type": "code",
   "execution_count": 53,
   "metadata": {
    "ExecuteTime": {
     "end_time": "2022-02-25T08:47:56.240065Z",
     "start_time": "2022-02-25T08:47:56.222139Z"
    }
   },
   "outputs": [
    {
     "data": {
      "text/plain": [
       "690.1709401709402"
      ]
     },
     "execution_count": 53,
     "metadata": {},
     "output_type": "execute_result"
    }
   ],
   "source": [
    "# Solution goes here\n",
    "def update_func2(p,t,system):\n",
    "    new_rate = np.random.choice(system.rates,p=system.weights)\n",
    "    return p*(1+new_rate)\n",
    "\n",
    "update_func1(1000,1,system)"
   ]
  },
  {
   "cell_type": "markdown",
   "metadata": {},
   "source": [
    "Use `plot_many_simulations` to plot the results."
   ]
  },
  {
   "cell_type": "code",
   "execution_count": 63,
   "metadata": {
    "ExecuteTime": {
     "end_time": "2022-02-25T08:52:29.013708Z",
     "start_time": "2022-02-25T08:52:28.642671Z"
    }
   },
   "outputs": [
    {
     "data": {
      "image/png": "[encoded data removed]",
      "text/plain": [
       "<Figure size 432x288 with 1 Axes>"
      ]
     },
     "metadata": {
      "needs_background": "light"
     },
     "output_type": "display_data"
    }
   ],
   "source": [
    "plot_many_simulations(system,update_func2,30)"
   ]
  },
  {
   "cell_type": "markdown",
   "metadata": {},
   "source": [
    "Use `run_many_simulations` to collect the results and `describe` to summarize the distribution of net changes."
   ]
  },
  {
   "cell_type": "code",
   "execution_count": 70,
   "metadata": {
    "ExecuteTime": {
     "end_time": "2022-02-25T08:57:12.379031Z",
     "start_time": "2022-02-25T08:57:02.828791Z"
    }
   },
   "outputs": [
    {
     "data": {
      "text/plain": [
       "count     1000.000000\n",
       "mean       363.132062\n",
       "std       2193.212964\n",
       "min      -1177.735445\n",
       "25%       -824.028954\n",
       "50%       -360.596367\n",
       "75%        690.737974\n",
       "max      24477.371403\n",
       "dtype: float64"
      ]
     },
     "execution_count": 70,
     "metadata": {},
     "output_type": "execute_result"
    },
    {
     "data": {
      "image/png": "[encoded data removed]",
      "text/plain": [
       "<Figure size 432x288 with 1 Axes>"
      ]
     },
     "metadata": {
      "needs_background": "light"
     },
     "output_type": "display_data"
    }
   ],
   "source": [
    "simu_weighted = run_many_simulations(system,update_func2,1000)\n",
    "net_changes = simu_weighted-p_0\n",
    "net_changes.describe()"
   ]
  },
  {
   "cell_type": "code",
   "execution_count": null,
   "metadata": {},
   "outputs": [],
   "source": []
  },
  {
   "cell_type": "markdown",
   "metadata": {},
   "source": [
    "Does the refined model have much effect on the probability of population decline?"
   ]
  },
  {
   "cell_type": "markdown",
   "metadata": {},
   "source": [
    "## Extracting data from a PDF document\n",
    "\n",
    "The following section uses `tabula-py` to get data from a PDF document.\n",
    "\n",
    "If you don't already have it installed, and you are using Anaconda, you can install it by running the following command in a Terminal or Git Bash:\n",
    "\n",
    "```\n",
    "conda install -c conda-forge tabula-py\n",
    "```"
   ]
  },
  {
   "cell_type": "code",
   "execution_count": 71,
   "metadata": {
    "ExecuteTime": {
     "end_time": "2022-02-25T08:57:38.530637Z",
     "start_time": "2022-02-25T08:57:38.514675Z"
    }
   },
   "outputs": [
    {
     "ename": "ModuleNotFoundError",
     "evalue": "No module named 'tabula'",
     "output_type": "error",
     "traceback": [
      "\u001b[1;31m---------------------------------------------------------------------------\u001b[0m",
      "\u001b[1;31mModuleNotFoundError\u001b[0m                       Traceback (most recent call last)",
      "\u001b[1;32m<ipython-input-71-5c1882f30047>\u001b[0m in \u001b[0;36m<module>\u001b[1;34m\u001b[0m\n\u001b[1;32m----> 1\u001b[1;33m \u001b[1;32mfrom\u001b[0m \u001b[0mtabula\u001b[0m \u001b[1;32mimport\u001b[0m \u001b[0mread_pdf\u001b[0m\u001b[1;33m\u001b[0m\u001b[1;33m\u001b[0m\u001b[0m\n\u001b[0m",
      "\u001b[1;31mModuleNotFoundError\u001b[0m: No module named 'tabula'"
     ]
    }
   ],
   "source": [
    "from tabula import read_pdf"
   ]
  },
  {
   "cell_type": "code",
   "execution_count": 35,
   "metadata": {},
   "outputs": [],
   "source": [
    "df = read_pdf('data/USASAC2018-Report-30-2017-Activities-Page11.pdf')"
   ]
  }
 ],
 "metadata": {
  "kernelspec": {
   "display_name": "Python 3",
   "language": "python",
   "name": "python3"
  },
  "language_info": {
   "codemirror_mode": {
    "name": "ipython",
    "version": 3
   },
   "file_extension": ".py",
   "mimetype": "text/x-python",
   "name": "python",
   "nbconvert_exporter": "python",
   "pygments_lexer": "ipython3",
   "version": "3.7.1"
  },
  "toc": {
   "base_numbering": 1,
   "nav_menu": {},
   "number_sections": true,
   "sideBar": true,
   "skip_h1_title": false,
   "title_cell": "Table of Contents",
   "title_sidebar": "Contents",
   "toc_cell": true,
   "toc_position": {},
   "toc_section_display": true,
   "toc_window_display": false
  },
  "varInspector": {
   "cols": {
    "lenName": 16,
    "lenType": 16,
    "lenVar": 40
   },
   "kernels_config": {
    "python": {
     "delete_cmd_postfix": "",
     "delete_cmd_prefix": "del ",
     "library": "var_list.py",
     "varRefreshCmd": "print(var_dic_list())"
    },
    "r": {
     "delete_cmd_postfix": ") ",
     "delete_cmd_prefix": "rm(",
     "library": "var_list.r",
     "varRefreshCmd": "cat(var_dic_list()) "
    }
   },
   "types_to_exclude": [
    "module",
    "function",
    "builtin_function_or_method",
    "instance",
    "_Feature"
   ],
   "window_display": false
  }
 },
 "nbformat": 4,
 "nbformat_minor": 2
}
