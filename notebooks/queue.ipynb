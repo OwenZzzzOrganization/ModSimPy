{
 "cells": [
  {
   "cell_type": "markdown",
   "metadata": {
    "toc": true
   },
   "source": [
    "<h1>Table of Contents<span class=\"tocSkip\"></span></h1>\n",
    "<div class=\"toc\"><ul class=\"toc-item\"><li><span><a href=\"#Modeling-and-Simulation-in-Python\" data-toc-modified-id=\"Modeling-and-Simulation-in-Python-1\"><span class=\"toc-item-num\">1&nbsp;&nbsp;</span>Modeling and Simulation in Python</a></span><ul class=\"toc-item\"><li><span><a href=\"#One-queue-or-two?\" data-toc-modified-id=\"One-queue-or-two?-1.1\"><span class=\"toc-item-num\">1.1&nbsp;&nbsp;</span>One queue or two?</a></span><ul class=\"toc-item\"><li><span><a href=\"#One-server,-one-queue\" data-toc-modified-id=\"One-server,-one-queue-1.1.1\"><span class=\"toc-item-num\">1.1.1&nbsp;&nbsp;</span>One server, one queue</a></span></li><li><span><a href=\"#Parameter-sweep\" data-toc-modified-id=\"Parameter-sweep-1.1.2\"><span class=\"toc-item-num\">1.1.2&nbsp;&nbsp;</span>Parameter sweep</a></span></li><li><span><a href=\"#Analysis\" data-toc-modified-id=\"Analysis-1.1.3\"><span class=\"toc-item-num\">1.1.3&nbsp;&nbsp;</span>Analysis</a></span></li><li><span><a href=\"#Multiple-servers\" data-toc-modified-id=\"Multiple-servers-1.1.4\"><span class=\"toc-item-num\">1.1.4&nbsp;&nbsp;</span>Multiple servers</a></span></li><li><span><a href=\"#Multiple-queues\" data-toc-modified-id=\"Multiple-queues-1.1.5\"><span class=\"toc-item-num\">1.1.5&nbsp;&nbsp;</span>Multiple queues</a></span></li></ul></li></ul></li></ul></div>"
   ]
  },
  {
   "cell_type": "markdown",
   "metadata": {},
   "source": [
    "# Modeling and Simulation in Python\n",
    "\n",
    "MODIFIED HOMEPC\n",
    "\n",
    "Case Study: Queueing theory\n",
    "\n",
    "Copyright 2017 Allen Downey\n",
    "\n",
    "License: [Creative Commons Attribution 4.0 International](https://creativecommons.org/licenses/by/4.0)\n"
   ]
  },
  {
   "cell_type": "code",
   "execution_count": 1,
   "metadata": {
    "ExecuteTime": {
     "end_time": "2022-02-22T08:16:40.929043Z",
     "start_time": "2022-02-22T08:16:37.034060Z"
    }
   },
   "outputs": [],
   "source": [
    "# Configure Jupyter so figures appear in the notebook\n",
    "%matplotlib inline\n",
    "\n",
    "# Configure Jupyter to display the assigned value after an assignment\n",
    "%config InteractiveShell.ast_node_interactivity='last_expr_or_assign'\n",
    "\n",
    "# import functions from the modsim.py module\n",
    "from modsim import *\n",
    "\n",
    "import numpy as np\n",
    "# set the random number generator\n",
    "np.random.seed(7)"
   ]
  },
  {
   "cell_type": "code",
   "execution_count": 2,
   "metadata": {
    "ExecuteTime": {
     "end_time": "2022-02-22T08:16:40.944975Z",
     "start_time": "2022-02-22T08:16:40.930017Z"
    }
   },
   "outputs": [],
   "source": [
    "pd.options.display.max_rows=20"
   ]
  },
  {
   "cell_type": "markdown",
   "metadata": {},
   "source": [
    "## One queue or two?\n",
    "\n",
    "This notebook presents a solution to an exercise from *Modeling and Simulation in Python*.  It uses features from the first four chapters to answer a question related to queueing theory, which is the study of systems that involve waiting in lines, also known as \"queues\".\n",
    "\n",
    "Suppose you are designing the checkout area for a new store.  There is room for two checkout counters and a waiting area for customers.  You can make two lines, one for each counter, or one line that serves both counters.\n",
    "\n",
    "In theory, you might expect a single line to be better, but it has some practical drawbacks: in order to maintain a single line, you would have to install rope barriers, and customers might be put off by what seems to be a longer line, even if it moves faster.\n",
    "\n",
    "So you'd like to check whether the single line is really better and by how much.  Simulation can help answer this question.\n",
    "\n",
    "As we did in the bikeshare model, we'll assume that a customer is equally likely to arrive during any timestep.  I'll denote this probability using the Greek letter lambda, $\\lambda$, or the variable name `lam`.  The value of $\\lambda$ probably varies from day to day, so we'll have to consider a range of possibilities.\n",
    "\n",
    "Based on data from other stores, you know that it takes 5 minutes for a customer to check out, on average.  But checkout times are highly variable: most customers take less than 5 minutes, but some take substantially more.  A simple way to model this variability is to assume that when a customer is checking out, they have the same probability of finishing up during each time step.  I'll denote this probability using the Greek letter mu, $\\mu$, or the variable name `mu`.\n",
    "\n",
    "If we choose $\\mu=1/5$, the average number of time steps for each checkout will be 5 minutes, which is consistent with the data."
   ]
  },
  {
   "cell_type": "markdown",
   "metadata": {},
   "source": [
    "### One server, one queue\n",
    "\n",
    "Write a function called `make_system` that takes `lam` and `mu` as parameters and returns a `System` object with variables `lam`, `mu`, and `duration`.  Set `duration`, which is the number of time steps to simulate, to 10 hours, expressed in minutes. "
   ]
  },
  {
   "cell_type": "code",
   "execution_count": 3,
   "metadata": {
    "ExecuteTime": {
     "end_time": "2022-02-22T08:16:40.960235Z",
     "start_time": "2022-02-22T08:16:40.945973Z"
    }
   },
   "outputs": [],
   "source": [
    "# Solution goes here\n",
    "def make_system(lam,mu):   \n",
    "    # lam denotes the prob that a customer arrive\n",
    "    # mu denotes the prob that a customer finished checkout\n",
    "    System = State(lam=lam,mu=mu,duration = 10*60)\n",
    "    return System"
   ]
  },
  {
   "cell_type": "markdown",
   "metadata": {},
   "source": [
    "Test this function by creating a `System` object with `lam=1/8` and `mu=1/5`."
   ]
  },
  {
   "cell_type": "code",
   "execution_count": 4,
   "metadata": {
    "ExecuteTime": {
     "end_time": "2022-02-22T08:16:40.975537Z",
     "start_time": "2022-02-22T08:16:40.962230Z"
    }
   },
   "outputs": [
    {
     "data": {
      "text/html": [
       "<div>\n",
       "<style scoped>\n",
       "    .dataframe tbody tr th:only-of-type {\n",
       "        vertical-align: middle;\n",
       "    }\n",
       "\n",
       "    .dataframe tbody tr th {\n",
       "        vertical-align: top;\n",
       "    }\n",
       "\n",
       "    .dataframe thead th {\n",
       "        text-align: right;\n",
       "    }\n",
       "</style>\n",
       "<table border=\"1\" class=\"dataframe\">\n",
       "  <thead>\n",
       "    <tr style=\"text-align: right;\">\n",
       "      <th></th>\n",
       "      <th>values</th>\n",
       "    </tr>\n",
       "  </thead>\n",
       "  <tbody>\n",
       "    <tr>\n",
       "      <th>lam</th>\n",
       "      <td>0.125</td>\n",
       "    </tr>\n",
       "    <tr>\n",
       "      <th>mu</th>\n",
       "      <td>0.200</td>\n",
       "    </tr>\n",
       "    <tr>\n",
       "      <th>duration</th>\n",
       "      <td>600.000</td>\n",
       "    </tr>\n",
       "  </tbody>\n",
       "</table>\n",
       "</div>"
      ],
      "text/plain": [
       "lam           0.125\n",
       "mu            0.200\n",
       "duration    600.000\n",
       "dtype: float64"
      ]
     },
     "execution_count": 4,
     "metadata": {},
     "output_type": "execute_result"
    }
   ],
   "source": [
    "System = make_system(1/8,1/5)\n",
    "System"
   ]
  },
  {
   "cell_type": "markdown",
   "metadata": {},
   "source": [
    "Write an update function that takes as parameters `x`, which is the total number of customer in the store, including the one checking out; `t`, which is the number of minutes that have elapsed in the simulation, and `system`, which is a `System` object.\n",
    "\n",
    "If there's a customer checking out, it should use `flip` to decide whether they are done.  And it should use `flip` to decide if a new customer has arrived.\n",
    "\n",
    "It should return the total number of customers at the end of the time step.\n"
   ]
  },
  {
   "cell_type": "code",
   "execution_count": 5,
   "metadata": {
    "ExecuteTime": {
     "end_time": "2022-02-22T08:16:41.007133Z",
     "start_time": "2022-02-22T08:16:40.977190Z"
    }
   },
   "outputs": [],
   "source": [
    "flip?"
   ]
  },
  {
   "cell_type": "code",
   "execution_count": 6,
   "metadata": {
    "ExecuteTime": {
     "end_time": "2022-02-22T08:16:41.023066Z",
     "start_time": "2022-02-22T08:16:41.009104Z"
    }
   },
   "outputs": [],
   "source": [
    "# Solution goes here\n",
    "def update_func_1(x,t,system):\n",
    "    t += 1\n",
    "    if x>0:\n",
    "        if flip(system.mu):\n",
    "            x -= 1\n",
    "    if flip(system.lam):\n",
    "        x += 1\n",
    "\n",
    "    return x"
   ]
  },
  {
   "cell_type": "markdown",
   "metadata": {},
   "source": [
    "Test your function by calling it with `x=1`, `t=0`, and the `System` object you created.  If you run it a few times, you should see different results."
   ]
  },
  {
   "cell_type": "code",
   "execution_count": 7,
   "metadata": {
    "ExecuteTime": {
     "end_time": "2022-02-22T08:16:41.038026Z",
     "start_time": "2022-02-22T08:16:41.025061Z"
    }
   },
   "outputs": [
    {
     "data": {
      "text/plain": [
       "0"
      ]
     },
     "execution_count": 7,
     "metadata": {},
     "output_type": "execute_result"
    }
   ],
   "source": [
    "# Solution goes here\n",
    "update_func_1(1,0,System)"
   ]
  },
  {
   "cell_type": "markdown",
   "metadata": {},
   "source": [
    "Now we can run the simulation.  Here's a version of `run_simulation` that creates a `TimeSeries` with the total number of customers in the store, including the one checking out."
   ]
  },
  {
   "cell_type": "code",
   "execution_count": 8,
   "metadata": {
    "ExecuteTime": {
     "end_time": "2022-02-22T08:16:41.052987Z",
     "start_time": "2022-02-22T08:16:41.039024Z"
    }
   },
   "outputs": [],
   "source": [
    "def run_simulation(system, update_func):\n",
    "    \"\"\"Simulate a queueing system.\n",
    "    \n",
    "    system: System object\n",
    "    update_func: function object\n",
    "    \"\"\"\n",
    "    x = 0\n",
    "    results = TimeSeries()\n",
    "    results[0] = x\n",
    "    \n",
    "    for t in linrange(0, system.duration):\n",
    "        x = update_func(x, t, system)\n",
    "        results[t+1] = x\n",
    "\n",
    "    return results"
   ]
  },
  {
   "cell_type": "markdown",
   "metadata": {},
   "source": [
    "Call `run_simulation` with your update function and plot the results."
   ]
  },
  {
   "cell_type": "code",
   "execution_count": 9,
   "metadata": {
    "ExecuteTime": {
     "end_time": "2022-02-22T08:16:41.447930Z",
     "start_time": "2022-02-22T08:16:41.053984Z"
    }
   },
   "outputs": [
    {
     "data": {
      "text/html": [
       "<div>\n",
       "<style scoped>\n",
       "    .dataframe tbody tr th:only-of-type {\n",
       "        vertical-align: middle;\n",
       "    }\n",
       "\n",
       "    .dataframe tbody tr th {\n",
       "        vertical-align: top;\n",
       "    }\n",
       "\n",
       "    .dataframe thead th {\n",
       "        text-align: right;\n",
       "    }\n",
       "</style>\n",
       "<table border=\"1\" class=\"dataframe\">\n",
       "  <thead>\n",
       "    <tr style=\"text-align: right;\">\n",
       "      <th></th>\n",
       "      <th>values</th>\n",
       "    </tr>\n",
       "  </thead>\n",
       "  <tbody>\n",
       "    <tr>\n",
       "      <th>0</th>\n",
       "      <td>0</td>\n",
       "    </tr>\n",
       "    <tr>\n",
       "      <th>1</th>\n",
       "      <td>0</td>\n",
       "    </tr>\n",
       "    <tr>\n",
       "      <th>2</th>\n",
       "      <td>0</td>\n",
       "    </tr>\n",
       "    <tr>\n",
       "      <th>3</th>\n",
       "      <td>0</td>\n",
       "    </tr>\n",
       "    <tr>\n",
       "      <th>4</th>\n",
       "      <td>0</td>\n",
       "    </tr>\n",
       "    <tr>\n",
       "      <th>5</th>\n",
       "      <td>0</td>\n",
       "    </tr>\n",
       "    <tr>\n",
       "      <th>6</th>\n",
       "      <td>1</td>\n",
       "    </tr>\n",
       "    <tr>\n",
       "      <th>7</th>\n",
       "      <td>1</td>\n",
       "    </tr>\n",
       "    <tr>\n",
       "      <th>8</th>\n",
       "      <td>1</td>\n",
       "    </tr>\n",
       "    <tr>\n",
       "      <th>9</th>\n",
       "      <td>2</td>\n",
       "    </tr>\n",
       "    <tr>\n",
       "      <th>...</th>\n",
       "      <td>...</td>\n",
       "    </tr>\n",
       "    <tr>\n",
       "      <th>591</th>\n",
       "      <td>0</td>\n",
       "    </tr>\n",
       "    <tr>\n",
       "      <th>592</th>\n",
       "      <td>0</td>\n",
       "    </tr>\n",
       "    <tr>\n",
       "      <th>593</th>\n",
       "      <td>0</td>\n",
       "    </tr>\n",
       "    <tr>\n",
       "      <th>594</th>\n",
       "      <td>0</td>\n",
       "    </tr>\n",
       "    <tr>\n",
       "      <th>595</th>\n",
       "      <td>0</td>\n",
       "    </tr>\n",
       "    <tr>\n",
       "      <th>596</th>\n",
       "      <td>0</td>\n",
       "    </tr>\n",
       "    <tr>\n",
       "      <th>597</th>\n",
       "      <td>0</td>\n",
       "    </tr>\n",
       "    <tr>\n",
       "      <th>598</th>\n",
       "      <td>0</td>\n",
       "    </tr>\n",
       "    <tr>\n",
       "      <th>599</th>\n",
       "      <td>0</td>\n",
       "    </tr>\n",
       "    <tr>\n",
       "      <th>600</th>\n",
       "      <td>0</td>\n",
       "    </tr>\n",
       "  </tbody>\n",
       "</table>\n",
       "<p>601 rows × 1 columns</p>\n",
       "</div>"
      ],
      "text/plain": [
       "0      0\n",
       "1      0\n",
       "2      0\n",
       "3      0\n",
       "4      0\n",
       "5      0\n",
       "6      1\n",
       "7      1\n",
       "8      1\n",
       "9      2\n",
       "      ..\n",
       "591    0\n",
       "592    0\n",
       "593    0\n",
       "594    0\n",
       "595    0\n",
       "596    0\n",
       "597    0\n",
       "598    0\n",
       "599    0\n",
       "600    0\n",
       "Length: 601, dtype: int64"
      ]
     },
     "execution_count": 9,
     "metadata": {},
     "output_type": "execute_result"
    }
   ],
   "source": [
    "# Solution goes here\n",
    "run_simulation(System,update_func_1)"
   ]
  },
  {
   "cell_type": "code",
   "execution_count": 10,
   "metadata": {
    "ExecuteTime": {
     "end_time": "2022-02-22T08:16:41.937348Z",
     "start_time": "2022-02-22T08:16:41.448928Z"
    }
   },
   "outputs": [
    {
     "data": {
      "text/plain": [
       "[<matplotlib.lines.Line2D at 0x1a52dcb6748>]"
      ]
     },
     "execution_count": 10,
     "metadata": {},
     "output_type": "execute_result"
    },
    {
     "data": {
      "image/png": "[encoded data removed]",
      "text/plain": [
       "<Figure size 432x288 with 1 Axes>"
      ]
     },
     "metadata": {
      "needs_background": "light"
     },
     "output_type": "display_data"
    }
   ],
   "source": [
    "plot(run_simulation(System,update_func_1))"
   ]
  },
  {
   "cell_type": "markdown",
   "metadata": {},
   "source": [
    "After the simulation, we can compute `L`, which is the average number of customers in the system, and `W`, which is the average time customers spend in the store.  `L` and `W` are related by Little's Law:\n",
    "\n",
    "$L = \\lambda W$\n",
    "\n",
    "Where $\\lambda$ is the arrival rate.  Here's a function that computes them."
   ]
  },
  {
   "cell_type": "code",
   "execution_count": 11,
   "metadata": {
    "ExecuteTime": {
     "end_time": "2022-02-22T08:16:41.952211Z",
     "start_time": "2022-02-22T08:16:41.938347Z"
    }
   },
   "outputs": [],
   "source": [
    "def compute_metrics(results, system):\n",
    "    \"\"\"Compute average number of customers and wait time.\n",
    "    \n",
    "    results: TimeSeries of queue lengths\n",
    "    system: System object\n",
    "    \n",
    "    returns: L, W\n",
    "    \"\"\"\n",
    "    L = results.mean()\n",
    "    W = L / system.mu\n",
    "    return L, W"
   ]
  },
  {
   "cell_type": "markdown",
   "metadata": {},
   "source": [
    "Call `compute_metrics` with the results from your simulation."
   ]
  },
  {
   "cell_type": "code",
   "execution_count": 12,
   "metadata": {
    "ExecuteTime": {
     "end_time": "2022-02-22T08:16:42.315267Z",
     "start_time": "2022-02-22T08:16:41.953210Z"
    }
   },
   "outputs": [
    {
     "data": {
      "text/plain": [
       "(1.2845257903494176, 6.422628951747088)"
      ]
     },
     "execution_count": 12,
     "metadata": {},
     "output_type": "execute_result"
    }
   ],
   "source": [
    "# Solution goes here\n",
    "compute_metrics(run_simulation(System,update_func_1),System)"
   ]
  },
  {
   "cell_type": "markdown",
   "metadata": {},
   "source": [
    "### Parameter sweep\n",
    "\n",
    "Since we don't know the actual value of $\\lambda$, we can sweep through a range of possibilities, from 10% to 80% of the completion rate, $\\mu$.  (If customers arrive faster than the completion rate, the queue grows without bound.  In that case the metrics `L` and `W` just depend on how long the store is open.)\n",
    "\n",
    "Create an array of values for `lam`."
   ]
  },
  {
   "cell_type": "code",
   "execution_count": 13,
   "metadata": {
    "ExecuteTime": {
     "end_time": "2022-02-22T08:16:42.331352Z",
     "start_time": "2022-02-22T08:16:42.316239Z"
    }
   },
   "outputs": [
    {
     "data": {
      "text/plain": [
       "a    1\n",
       "b    2\n",
       "c    3\n",
       "dtype: int64"
      ]
     },
     "execution_count": 13,
     "metadata": {},
     "output_type": "execute_result"
    }
   ],
   "source": [
    "Series_test = pd.Series(dtype='int')\n",
    "\n",
    "Series_test = Series_test.append(pd.Series([1,2,3],index=['a','b','c']))\n",
    "# Series_test[1]"
   ]
  },
  {
   "cell_type": "code",
   "execution_count": 14,
   "metadata": {
    "ExecuteTime": {
     "end_time": "2022-02-22T08:16:42.347365Z",
     "start_time": "2022-02-22T08:16:42.332323Z"
    }
   },
   "outputs": [
    {
     "data": {
      "text/plain": [
       "0    0\n",
       "1    5\n",
       "2    0\n",
       "3    0\n",
       "4    0\n",
       "5    0\n",
       "dtype: int32"
      ]
     },
     "execution_count": 14,
     "metadata": {},
     "output_type": "execute_result"
    }
   ],
   "source": [
    "Series_test2 = pd.Series(index=[0,1,2,3,4,5],dtype=int)\n",
    "Series_test2[1] = 5\n",
    "Series_test2"
   ]
  },
  {
   "cell_type": "code",
   "execution_count": 15,
   "metadata": {
    "ExecuteTime": {
     "end_time": "2022-02-22T08:16:42.378580Z",
     "start_time": "2022-02-22T08:16:42.348337Z"
    }
   },
   "outputs": [
    {
     "data": {
      "text/plain": [
       "1"
      ]
     },
     "execution_count": 15,
     "metadata": {},
     "output_type": "execute_result"
    }
   ],
   "source": [
    "Series_test[0]"
   ]
  },
  {
   "cell_type": "code",
   "execution_count": 16,
   "metadata": {
    "ExecuteTime": {
     "end_time": "2022-02-22T08:16:42.394660Z",
     "start_time": "2022-02-22T08:16:42.379547Z"
    }
   },
   "outputs": [
    {
     "data": {
      "text/plain": [
       "0     1\n",
       "1     2\n",
       "2     3\n",
       "3    10\n",
       "dtype: int64"
      ]
     },
     "execution_count": 16,
     "metadata": {},
     "output_type": "execute_result"
    }
   ],
   "source": [
    "Series_test.append(pd.Series([10]),ignore_index=True)"
   ]
  },
  {
   "cell_type": "code",
   "execution_count": 17,
   "metadata": {
    "ExecuteTime": {
     "end_time": "2022-02-22T08:16:42.442585Z",
     "start_time": "2022-02-22T08:16:42.395656Z"
    }
   },
   "outputs": [
    {
     "name": "stderr",
     "output_type": "stream",
     "text": [
      "G:\\Anaconda\\lib\\site-packages\\pandas\\core\\indexing.py:1472: FutureWarning: \n",
      "Passing list-likes to .loc or [] with any missing label will raise\n",
      "KeyError in the future, you can use .reindex() as an alternative.\n",
      "\n",
      "See the documentation here:\n",
      "https://pandas.pydata.org/pandas-docs/stable/indexing.html#deprecate-loc-reindex-listlike\n",
      "  return self._getitem_tuple(key)\n"
     ]
    },
    {
     "data": {
      "text/html": [
       "<div>\n",
       "<style scoped>\n",
       "    .dataframe tbody tr th:only-of-type {\n",
       "        vertical-align: middle;\n",
       "    }\n",
       "\n",
       "    .dataframe tbody tr th {\n",
       "        vertical-align: top;\n",
       "    }\n",
       "\n",
       "    .dataframe thead th {\n",
       "        text-align: right;\n",
       "    }\n",
       "</style>\n",
       "<table border=\"1\" class=\"dataframe\">\n",
       "  <thead>\n",
       "    <tr style=\"text-align: right;\">\n",
       "      <th></th>\n",
       "      <th>mu</th>\n",
       "      <th>lam</th>\n",
       "    </tr>\n",
       "  </thead>\n",
       "  <tbody>\n",
       "    <tr>\n",
       "      <th>0</th>\n",
       "      <td>0</td>\n",
       "      <td>NaN</td>\n",
       "    </tr>\n",
       "    <tr>\n",
       "      <th>1</th>\n",
       "      <td>1</td>\n",
       "      <td>NaN</td>\n",
       "    </tr>\n",
       "    <tr>\n",
       "      <th>2</th>\n",
       "      <td>2</td>\n",
       "      <td>NaN</td>\n",
       "    </tr>\n",
       "    <tr>\n",
       "      <th>3</th>\n",
       "      <td>3</td>\n",
       "      <td>NaN</td>\n",
       "    </tr>\n",
       "    <tr>\n",
       "      <th>4</th>\n",
       "      <td>4</td>\n",
       "      <td>NaN</td>\n",
       "    </tr>\n",
       "  </tbody>\n",
       "</table>\n",
       "</div>"
      ],
      "text/plain": [
       "  mu  lam\n",
       "0  0  NaN\n",
       "1  1  NaN\n",
       "2  2  NaN\n",
       "3  3  NaN\n",
       "4  4  NaN"
      ]
     },
     "execution_count": 17,
     "metadata": {},
     "output_type": "execute_result"
    }
   ],
   "source": [
    "Dataframe_test = pd.DataFrame(columns = ['mu','lam'])\n",
    "for i in range(5):\n",
    "    Dataframe_test = Dataframe_test.append([{'mu':i}],ignore_index = True)\n",
    "\n",
    "Dataframe_test"
   ]
  },
  {
   "cell_type": "markdown",
   "metadata": {},
   "source": [
    "Write a function that takes an array of values for `lam`, a single value for `mu`, and an update function.\n",
    "\n",
    "For each value of `lam`, it should run a simulation, compute `L` and `W`, and store the value of `W` in a `SweepSeries`.\n",
    "\n",
    "It should return the `SweepSeries`."
   ]
  },
  {
   "cell_type": "code",
   "execution_count": 18,
   "metadata": {
    "ExecuteTime": {
     "end_time": "2022-02-22T08:16:42.474525Z",
     "start_time": "2022-02-22T08:16:42.446574Z"
    }
   },
   "outputs": [
    {
     "data": {
      "text/html": [
       "<div>\n",
       "<style scoped>\n",
       "    .dataframe tbody tr th:only-of-type {\n",
       "        vertical-align: middle;\n",
       "    }\n",
       "\n",
       "    .dataframe tbody tr th {\n",
       "        vertical-align: top;\n",
       "    }\n",
       "\n",
       "    .dataframe thead th {\n",
       "        text-align: right;\n",
       "    }\n",
       "</style>\n",
       "<table border=\"1\" class=\"dataframe\">\n",
       "  <thead>\n",
       "    <tr style=\"text-align: right;\">\n",
       "      <th></th>\n",
       "      <th>mu</th>\n",
       "      <th>lam</th>\n",
       "    </tr>\n",
       "  </thead>\n",
       "  <tbody>\n",
       "    <tr>\n",
       "      <th>0</th>\n",
       "      <td>0.2</td>\n",
       "      <td>0.02</td>\n",
       "    </tr>\n",
       "    <tr>\n",
       "      <th>1</th>\n",
       "      <td>0.2</td>\n",
       "      <td>0.04</td>\n",
       "    </tr>\n",
       "    <tr>\n",
       "      <th>2</th>\n",
       "      <td>0.2</td>\n",
       "      <td>0.06</td>\n",
       "    </tr>\n",
       "    <tr>\n",
       "      <th>3</th>\n",
       "      <td>0.2</td>\n",
       "      <td>0.08</td>\n",
       "    </tr>\n",
       "    <tr>\n",
       "      <th>4</th>\n",
       "      <td>0.2</td>\n",
       "      <td>0.10</td>\n",
       "    </tr>\n",
       "    <tr>\n",
       "      <th>5</th>\n",
       "      <td>0.2</td>\n",
       "      <td>0.12</td>\n",
       "    </tr>\n",
       "    <tr>\n",
       "      <th>6</th>\n",
       "      <td>0.2</td>\n",
       "      <td>0.14</td>\n",
       "    </tr>\n",
       "    <tr>\n",
       "      <th>7</th>\n",
       "      <td>0.2</td>\n",
       "      <td>0.16</td>\n",
       "    </tr>\n",
       "  </tbody>\n",
       "</table>\n",
       "</div>"
      ],
      "text/plain": [
       "    mu   lam\n",
       "0  0.2  0.02\n",
       "1  0.2  0.04\n",
       "2  0.2  0.06\n",
       "3  0.2  0.08\n",
       "4  0.2  0.10\n",
       "5  0.2  0.12\n",
       "6  0.2  0.14\n",
       "7  0.2  0.16"
      ]
     },
     "execution_count": 18,
     "metadata": {},
     "output_type": "execute_result"
    }
   ],
   "source": [
    "# Solution goes here\n",
    "def create_lam_spectrum(mu):\n",
    "    lam_list = DataFrame(columns = ['mu','lam'])\n",
    "    for i in range(8):\n",
    "        lam_list = lam_list.append([{'lam':0.1*(i+1)*mu,'mu':mu}],ignore_index=True)\n",
    "    return lam_list\n",
    "\n",
    "create_lam_spectrum(1/5)"
   ]
  },
  {
   "cell_type": "code",
   "execution_count": 19,
   "metadata": {
    "ExecuteTime": {
     "end_time": "2022-02-22T08:16:42.504419Z",
     "start_time": "2022-02-22T08:16:42.478514Z"
    }
   },
   "outputs": [
    {
     "data": {
      "text/plain": [
       "0.2"
      ]
     },
     "execution_count": 19,
     "metadata": {},
     "output_type": "execute_result"
    }
   ],
   "source": [
    "lam_mu_list = create_lam_spectrum(1/5)\n",
    "lam_mu_list.iloc[0]['mu']"
   ]
  },
  {
   "cell_type": "code",
   "execution_count": 20,
   "metadata": {
    "ExecuteTime": {
     "end_time": "2022-02-22T08:16:42.520377Z",
     "start_time": "2022-02-22T08:16:42.505417Z"
    }
   },
   "outputs": [
    {
     "data": {
      "text/plain": [
       "RangeIndex(start=0, stop=8, step=1)"
      ]
     },
     "execution_count": 20,
     "metadata": {},
     "output_type": "execute_result"
    }
   ],
   "source": [
    "lam_mu_list.index"
   ]
  },
  {
   "cell_type": "markdown",
   "metadata": {},
   "source": [
    "Call your function to generate a `SweepSeries`, and plot it."
   ]
  },
  {
   "cell_type": "code",
   "execution_count": 21,
   "metadata": {
    "ExecuteTime": {
     "end_time": "2022-02-22T08:16:45.430050Z",
     "start_time": "2022-02-22T08:16:42.521374Z"
    }
   },
   "outputs": [
    {
     "data": {
      "text/html": [
       "<div>\n",
       "<style scoped>\n",
       "    .dataframe tbody tr th:only-of-type {\n",
       "        vertical-align: middle;\n",
       "    }\n",
       "\n",
       "    .dataframe tbody tr th {\n",
       "        vertical-align: top;\n",
       "    }\n",
       "\n",
       "    .dataframe thead th {\n",
       "        text-align: right;\n",
       "    }\n",
       "</style>\n",
       "<table border=\"1\" class=\"dataframe\">\n",
       "  <thead>\n",
       "    <tr style=\"text-align: right;\">\n",
       "      <th></th>\n",
       "      <th>W_value</th>\n",
       "      <th>lam</th>\n",
       "      <th>mu</th>\n",
       "    </tr>\n",
       "  </thead>\n",
       "  <tbody>\n",
       "    <tr>\n",
       "      <th>0</th>\n",
       "      <td>0.507488</td>\n",
       "      <td>0.02</td>\n",
       "      <td>0.2</td>\n",
       "    </tr>\n",
       "    <tr>\n",
       "      <th>1</th>\n",
       "      <td>1.780366</td>\n",
       "      <td>0.04</td>\n",
       "      <td>0.2</td>\n",
       "    </tr>\n",
       "    <tr>\n",
       "      <th>2</th>\n",
       "      <td>2.404326</td>\n",
       "      <td>0.06</td>\n",
       "      <td>0.2</td>\n",
       "    </tr>\n",
       "    <tr>\n",
       "      <th>3</th>\n",
       "      <td>5.532446</td>\n",
       "      <td>0.08</td>\n",
       "      <td>0.2</td>\n",
       "    </tr>\n",
       "    <tr>\n",
       "      <th>4</th>\n",
       "      <td>4.633943</td>\n",
       "      <td>0.10</td>\n",
       "      <td>0.2</td>\n",
       "    </tr>\n",
       "    <tr>\n",
       "      <th>5</th>\n",
       "      <td>7.886855</td>\n",
       "      <td>0.12</td>\n",
       "      <td>0.2</td>\n",
       "    </tr>\n",
       "    <tr>\n",
       "      <th>6</th>\n",
       "      <td>8.935108</td>\n",
       "      <td>0.14</td>\n",
       "      <td>0.2</td>\n",
       "    </tr>\n",
       "    <tr>\n",
       "      <th>7</th>\n",
       "      <td>14.492512</td>\n",
       "      <td>0.16</td>\n",
       "      <td>0.2</td>\n",
       "    </tr>\n",
       "  </tbody>\n",
       "</table>\n",
       "</div>"
      ],
      "text/plain": [
       "     W_value   lam   mu\n",
       "0   0.507488  0.02  0.2\n",
       "1   1.780366  0.04  0.2\n",
       "2   2.404326  0.06  0.2\n",
       "3   5.532446  0.08  0.2\n",
       "4   4.633943  0.10  0.2\n",
       "5   7.886855  0.12  0.2\n",
       "6   8.935108  0.14  0.2\n",
       "7  14.492512  0.16  0.2"
      ]
     },
     "execution_count": 21,
     "metadata": {},
     "output_type": "execute_result"
    }
   ],
   "source": [
    "# Solution goes here\n",
    "def generate_SweepSeries(lam_mu_list,update_func_1):\n",
    "    L_values = TimeSeries()\n",
    "    W_values = TimeSeries()\n",
    "\n",
    "    for i in lam_mu_list.index:\n",
    "        System = make_system(lam_mu_list.iloc[i]['lam'],lam_mu_list.iloc[i]['mu'])\n",
    "        \n",
    "        L_values[i],W_values[i] = compute_metrics(run_simulation(System,update_func_1),System)\n",
    "\n",
    "    return W_values\n",
    "\n",
    "W_values = generate_SweepSeries(lam_mu_list,update_func_1)\n",
    "W_values_DF = pd.DataFrame(W_values,columns = ['W_value'])\n",
    "W_values_DF['lam'] = lam_mu_list['lam']\n",
    "W_values_DF['mu'] = lam_mu_list['mu']\n",
    "W_values_DF"
   ]
  },
  {
   "cell_type": "code",
   "execution_count": 22,
   "metadata": {
    "ExecuteTime": {
     "end_time": "2022-02-22T08:17:14.243669Z",
     "start_time": "2022-02-22T08:16:45.431047Z"
    },
    "scrolled": true
   },
   "outputs": [
    {
     "data": {
      "text/html": [
       "<div>\n",
       "<style scoped>\n",
       "    .dataframe tbody tr th:only-of-type {\n",
       "        vertical-align: middle;\n",
       "    }\n",
       "\n",
       "    .dataframe tbody tr th {\n",
       "        vertical-align: top;\n",
       "    }\n",
       "\n",
       "    .dataframe thead th {\n",
       "        text-align: right;\n",
       "    }\n",
       "</style>\n",
       "<table border=\"1\" class=\"dataframe\">\n",
       "  <thead>\n",
       "    <tr style=\"text-align: right;\">\n",
       "      <th></th>\n",
       "      <th>lam</th>\n",
       "      <th>mu</th>\n",
       "      <th>0</th>\n",
       "      <th>1</th>\n",
       "      <th>2</th>\n",
       "      <th>3</th>\n",
       "      <th>4</th>\n",
       "      <th>5</th>\n",
       "      <th>6</th>\n",
       "      <th>7</th>\n",
       "      <th>8</th>\n",
       "      <th>9</th>\n",
       "    </tr>\n",
       "  </thead>\n",
       "  <tbody>\n",
       "    <tr>\n",
       "      <th>0</th>\n",
       "      <td>0.02</td>\n",
       "      <td>0.2</td>\n",
       "      <td>0.391015</td>\n",
       "      <td>0.366057</td>\n",
       "      <td>0.440932</td>\n",
       "      <td>0.424293</td>\n",
       "      <td>0.440932</td>\n",
       "      <td>0.806988</td>\n",
       "      <td>0.391015</td>\n",
       "      <td>0.440932</td>\n",
       "      <td>0.191348</td>\n",
       "      <td>0.407654</td>\n",
       "    </tr>\n",
       "    <tr>\n",
       "      <th>1</th>\n",
       "      <td>0.04</td>\n",
       "      <td>0.2</td>\n",
       "      <td>0.773710</td>\n",
       "      <td>1.547421</td>\n",
       "      <td>1.480865</td>\n",
       "      <td>1.389351</td>\n",
       "      <td>0.906822</td>\n",
       "      <td>0.998336</td>\n",
       "      <td>0.815308</td>\n",
       "      <td>0.848586</td>\n",
       "      <td>1.655574</td>\n",
       "      <td>0.965058</td>\n",
       "    </tr>\n",
       "    <tr>\n",
       "      <th>2</th>\n",
       "      <td>0.06</td>\n",
       "      <td>0.2</td>\n",
       "      <td>1.763727</td>\n",
       "      <td>1.780366</td>\n",
       "      <td>3.094842</td>\n",
       "      <td>3.061564</td>\n",
       "      <td>1.331115</td>\n",
       "      <td>1.530782</td>\n",
       "      <td>3.801997</td>\n",
       "      <td>3.602329</td>\n",
       "      <td>1.913478</td>\n",
       "      <td>1.489185</td>\n",
       "    </tr>\n",
       "    <tr>\n",
       "      <th>3</th>\n",
       "      <td>0.08</td>\n",
       "      <td>0.2</td>\n",
       "      <td>2.296173</td>\n",
       "      <td>1.971714</td>\n",
       "      <td>3.519135</td>\n",
       "      <td>1.988353</td>\n",
       "      <td>1.663894</td>\n",
       "      <td>3.044925</td>\n",
       "      <td>2.054908</td>\n",
       "      <td>3.094842</td>\n",
       "      <td>3.119800</td>\n",
       "      <td>4.242928</td>\n",
       "    </tr>\n",
       "    <tr>\n",
       "      <th>4</th>\n",
       "      <td>0.10</td>\n",
       "      <td>0.2</td>\n",
       "      <td>3.976705</td>\n",
       "      <td>4.276206</td>\n",
       "      <td>4.292845</td>\n",
       "      <td>6.381032</td>\n",
       "      <td>4.101498</td>\n",
       "      <td>4.026622</td>\n",
       "      <td>4.792013</td>\n",
       "      <td>3.036606</td>\n",
       "      <td>3.527454</td>\n",
       "      <td>5.008319</td>\n",
       "    </tr>\n",
       "    <tr>\n",
       "      <th>5</th>\n",
       "      <td>0.12</td>\n",
       "      <td>0.2</td>\n",
       "      <td>6.256240</td>\n",
       "      <td>6.422629</td>\n",
       "      <td>5.316140</td>\n",
       "      <td>6.838602</td>\n",
       "      <td>4.933444</td>\n",
       "      <td>10.599002</td>\n",
       "      <td>8.710483</td>\n",
       "      <td>20.948419</td>\n",
       "      <td>8.178037</td>\n",
       "      <td>3.885191</td>\n",
       "    </tr>\n",
       "    <tr>\n",
       "      <th>6</th>\n",
       "      <td>0.14</td>\n",
       "      <td>0.2</td>\n",
       "      <td>5.349418</td>\n",
       "      <td>9.251248</td>\n",
       "      <td>6.214642</td>\n",
       "      <td>9.517471</td>\n",
       "      <td>13.003328</td>\n",
       "      <td>8.069884</td>\n",
       "      <td>4.941764</td>\n",
       "      <td>10.565724</td>\n",
       "      <td>32.071547</td>\n",
       "      <td>7.071547</td>\n",
       "    </tr>\n",
       "    <tr>\n",
       "      <th>7</th>\n",
       "      <td>0.16</td>\n",
       "      <td>0.2</td>\n",
       "      <td>8.785358</td>\n",
       "      <td>12.720466</td>\n",
       "      <td>11.056572</td>\n",
       "      <td>11.372712</td>\n",
       "      <td>15.149750</td>\n",
       "      <td>6.896839</td>\n",
       "      <td>7.079867</td>\n",
       "      <td>14.101498</td>\n",
       "      <td>11.372712</td>\n",
       "      <td>8.361065</td>\n",
       "    </tr>\n",
       "  </tbody>\n",
       "</table>\n",
       "</div>"
      ],
      "text/plain": [
       "    lam   mu         0          1          2          3          4          5  \\\n",
       "0  0.02  0.2  0.391015   0.366057   0.440932   0.424293   0.440932   0.806988   \n",
       "1  0.04  0.2  0.773710   1.547421   1.480865   1.389351   0.906822   0.998336   \n",
       "2  0.06  0.2  1.763727   1.780366   3.094842   3.061564   1.331115   1.530782   \n",
       "3  0.08  0.2  2.296173   1.971714   3.519135   1.988353   1.663894   3.044925   \n",
       "4  0.10  0.2  3.976705   4.276206   4.292845   6.381032   4.101498   4.026622   \n",
       "5  0.12  0.2  6.256240   6.422629   5.316140   6.838602   4.933444  10.599002   \n",
       "6  0.14  0.2  5.349418   9.251248   6.214642   9.517471  13.003328   8.069884   \n",
       "7  0.16  0.2  8.785358  12.720466  11.056572  11.372712  15.149750   6.896839   \n",
       "\n",
       "          6          7          8         9  \n",
       "0  0.391015   0.440932   0.191348  0.407654  \n",
       "1  0.815308   0.848586   1.655574  0.965058  \n",
       "2  3.801997   3.602329   1.913478  1.489185  \n",
       "3  2.054908   3.094842   3.119800  4.242928  \n",
       "4  4.792013   3.036606   3.527454  5.008319  \n",
       "5  8.710483  20.948419   8.178037  3.885191  \n",
       "6  4.941764  10.565724  32.071547  7.071547  \n",
       "7  7.079867  14.101498  11.372712  8.361065  "
      ]
     },
     "execution_count": 22,
     "metadata": {},
     "output_type": "execute_result"
    }
   ],
   "source": [
    "# test_list2 = [0,0,0,0,0]\n",
    "W_values_DF = pd.DataFrame()\n",
    "W_values_DF['lam'] = lam_mu_list['lam']\n",
    "W_values_DF['mu'] = lam_mu_list['mu']\n",
    "\n",
    "for i in range(10):\n",
    "    W_values = generate_SweepSeries(lam_mu_list,update_func_1)\n",
    "    W_values_DF[i] = W_values\n",
    "\n",
    "W_values_DF"
   ]
  },
  {
   "cell_type": "code",
   "execution_count": 23,
   "metadata": {
    "ExecuteTime": {
     "end_time": "2022-02-22T08:17:14.259627Z",
     "start_time": "2022-02-22T08:17:14.244641Z"
    }
   },
   "outputs": [
    {
     "data": {
      "text/html": [
       "<div>\n",
       "<style scoped>\n",
       "    .dataframe tbody tr th:only-of-type {\n",
       "        vertical-align: middle;\n",
       "    }\n",
       "\n",
       "    .dataframe tbody tr th {\n",
       "        vertical-align: top;\n",
       "    }\n",
       "\n",
       "    .dataframe thead th {\n",
       "        text-align: right;\n",
       "    }\n",
       "</style>\n",
       "<table border=\"1\" class=\"dataframe\">\n",
       "  <thead>\n",
       "    <tr style=\"text-align: right;\">\n",
       "      <th></th>\n",
       "      <th>lam</th>\n",
       "      <th>mu</th>\n",
       "      <th>0</th>\n",
       "      <th>1</th>\n",
       "      <th>2</th>\n",
       "      <th>3</th>\n",
       "      <th>4</th>\n",
       "      <th>5</th>\n",
       "      <th>6</th>\n",
       "      <th>7</th>\n",
       "      <th>8</th>\n",
       "      <th>9</th>\n",
       "      <th>average10</th>\n",
       "    </tr>\n",
       "  </thead>\n",
       "  <tbody>\n",
       "    <tr>\n",
       "      <th>0</th>\n",
       "      <td>0.02</td>\n",
       "      <td>0.2</td>\n",
       "      <td>0.391015</td>\n",
       "      <td>0.366057</td>\n",
       "      <td>0.440932</td>\n",
       "      <td>0.424293</td>\n",
       "      <td>0.440932</td>\n",
       "      <td>0.806988</td>\n",
       "      <td>0.391015</td>\n",
       "      <td>0.440932</td>\n",
       "      <td>0.191348</td>\n",
       "      <td>0.407654</td>\n",
       "      <td>0.430116</td>\n",
       "    </tr>\n",
       "    <tr>\n",
       "      <th>1</th>\n",
       "      <td>0.04</td>\n",
       "      <td>0.2</td>\n",
       "      <td>0.773710</td>\n",
       "      <td>1.547421</td>\n",
       "      <td>1.480865</td>\n",
       "      <td>1.389351</td>\n",
       "      <td>0.906822</td>\n",
       "      <td>0.998336</td>\n",
       "      <td>0.815308</td>\n",
       "      <td>0.848586</td>\n",
       "      <td>1.655574</td>\n",
       "      <td>0.965058</td>\n",
       "      <td>1.138103</td>\n",
       "    </tr>\n",
       "    <tr>\n",
       "      <th>2</th>\n",
       "      <td>0.06</td>\n",
       "      <td>0.2</td>\n",
       "      <td>1.763727</td>\n",
       "      <td>1.780366</td>\n",
       "      <td>3.094842</td>\n",
       "      <td>3.061564</td>\n",
       "      <td>1.331115</td>\n",
       "      <td>1.530782</td>\n",
       "      <td>3.801997</td>\n",
       "      <td>3.602329</td>\n",
       "      <td>1.913478</td>\n",
       "      <td>1.489185</td>\n",
       "      <td>2.336938</td>\n",
       "    </tr>\n",
       "    <tr>\n",
       "      <th>3</th>\n",
       "      <td>0.08</td>\n",
       "      <td>0.2</td>\n",
       "      <td>2.296173</td>\n",
       "      <td>1.971714</td>\n",
       "      <td>3.519135</td>\n",
       "      <td>1.988353</td>\n",
       "      <td>1.663894</td>\n",
       "      <td>3.044925</td>\n",
       "      <td>2.054908</td>\n",
       "      <td>3.094842</td>\n",
       "      <td>3.119800</td>\n",
       "      <td>4.242928</td>\n",
       "      <td>2.699667</td>\n",
       "    </tr>\n",
       "    <tr>\n",
       "      <th>4</th>\n",
       "      <td>0.10</td>\n",
       "      <td>0.2</td>\n",
       "      <td>3.976705</td>\n",
       "      <td>4.276206</td>\n",
       "      <td>4.292845</td>\n",
       "      <td>6.381032</td>\n",
       "      <td>4.101498</td>\n",
       "      <td>4.026622</td>\n",
       "      <td>4.792013</td>\n",
       "      <td>3.036606</td>\n",
       "      <td>3.527454</td>\n",
       "      <td>5.008319</td>\n",
       "      <td>4.341930</td>\n",
       "    </tr>\n",
       "    <tr>\n",
       "      <th>5</th>\n",
       "      <td>0.12</td>\n",
       "      <td>0.2</td>\n",
       "      <td>6.256240</td>\n",
       "      <td>6.422629</td>\n",
       "      <td>5.316140</td>\n",
       "      <td>6.838602</td>\n",
       "      <td>4.933444</td>\n",
       "      <td>10.599002</td>\n",
       "      <td>8.710483</td>\n",
       "      <td>20.948419</td>\n",
       "      <td>8.178037</td>\n",
       "      <td>3.885191</td>\n",
       "      <td>8.208819</td>\n",
       "    </tr>\n",
       "    <tr>\n",
       "      <th>6</th>\n",
       "      <td>0.14</td>\n",
       "      <td>0.2</td>\n",
       "      <td>5.349418</td>\n",
       "      <td>9.251248</td>\n",
       "      <td>6.214642</td>\n",
       "      <td>9.517471</td>\n",
       "      <td>13.003328</td>\n",
       "      <td>8.069884</td>\n",
       "      <td>4.941764</td>\n",
       "      <td>10.565724</td>\n",
       "      <td>32.071547</td>\n",
       "      <td>7.071547</td>\n",
       "      <td>10.605657</td>\n",
       "    </tr>\n",
       "    <tr>\n",
       "      <th>7</th>\n",
       "      <td>0.16</td>\n",
       "      <td>0.2</td>\n",
       "      <td>8.785358</td>\n",
       "      <td>12.720466</td>\n",
       "      <td>11.056572</td>\n",
       "      <td>11.372712</td>\n",
       "      <td>15.149750</td>\n",
       "      <td>6.896839</td>\n",
       "      <td>7.079867</td>\n",
       "      <td>14.101498</td>\n",
       "      <td>11.372712</td>\n",
       "      <td>8.361065</td>\n",
       "      <td>10.689684</td>\n",
       "    </tr>\n",
       "  </tbody>\n",
       "</table>\n",
       "</div>"
      ],
      "text/plain": [
       "    lam   mu         0          1          2          3          4          5  \\\n",
       "0  0.02  0.2  0.391015   0.366057   0.440932   0.424293   0.440932   0.806988   \n",
       "1  0.04  0.2  0.773710   1.547421   1.480865   1.389351   0.906822   0.998336   \n",
       "2  0.06  0.2  1.763727   1.780366   3.094842   3.061564   1.331115   1.530782   \n",
       "3  0.08  0.2  2.296173   1.971714   3.519135   1.988353   1.663894   3.044925   \n",
       "4  0.10  0.2  3.976705   4.276206   4.292845   6.381032   4.101498   4.026622   \n",
       "5  0.12  0.2  6.256240   6.422629   5.316140   6.838602   4.933444  10.599002   \n",
       "6  0.14  0.2  5.349418   9.251248   6.214642   9.517471  13.003328   8.069884   \n",
       "7  0.16  0.2  8.785358  12.720466  11.056572  11.372712  15.149750   6.896839   \n",
       "\n",
       "          6          7          8         9  average10  \n",
       "0  0.391015   0.440932   0.191348  0.407654   0.430116  \n",
       "1  0.815308   0.848586   1.655574  0.965058   1.138103  \n",
       "2  3.801997   3.602329   1.913478  1.489185   2.336938  \n",
       "3  2.054908   3.094842   3.119800  4.242928   2.699667  \n",
       "4  4.792013   3.036606   3.527454  5.008319   4.341930  \n",
       "5  8.710483  20.948419   8.178037  3.885191   8.208819  \n",
       "6  4.941764  10.565724  32.071547  7.071547  10.605657  \n",
       "7  7.079867  14.101498  11.372712  8.361065  10.689684  "
      ]
     },
     "execution_count": 23,
     "metadata": {},
     "output_type": "execute_result"
    }
   ],
   "source": [
    "W_values_DF['average10'] = W_values_DF[W_values_DF.columns[2:]].mean(axis = 1)\n",
    "W_values_DF"
   ]
  },
  {
   "cell_type": "code",
   "execution_count": 24,
   "metadata": {
    "ExecuteTime": {
     "end_time": "2022-02-22T08:17:14.274896Z",
     "start_time": "2022-02-22T08:17:14.260598Z"
    }
   },
   "outputs": [],
   "source": [
    "# Solution goes here"
   ]
  },
  {
   "cell_type": "markdown",
   "metadata": {},
   "source": [
    "If we imagine that this range of values represents arrival rates on different days, we can use the average value of `W`, for a range of values of `lam`, to compare different queueing strategies."
   ]
  },
  {
   "cell_type": "code",
   "execution_count": 25,
   "metadata": {
    "ExecuteTime": {
     "end_time": "2022-02-22T08:17:14.290935Z",
     "start_time": "2022-02-22T08:17:14.275920Z"
    }
   },
   "outputs": [
    {
     "data": {
      "text/plain": [
       "3.9288685524126454"
      ]
     },
     "execution_count": 25,
     "metadata": {},
     "output_type": "execute_result"
    }
   ],
   "source": [
    "W_avg = W_values.mean()"
   ]
  },
  {
   "cell_type": "markdown",
   "metadata": {},
   "source": [
    "### Analysis\n",
    "\n",
    "The model I chose for this system is a common model in queueing theory, in part because many of its properties can be derived analytically.\n",
    "\n",
    "In particular, we can derive the average time in the store as a function of $\\mu$ and $\\lambda$:\n",
    "\n",
    "$W = 1 / (\\mu - \\lambda)$\n",
    "\n",
    "The following function plots the theoretical value of $W$ as a function of $\\lambda$."
   ]
  },
  {
   "cell_type": "code",
   "execution_count": 26,
   "metadata": {
    "ExecuteTime": {
     "end_time": "2022-02-22T08:17:14.306898Z",
     "start_time": "2022-02-22T08:17:14.291933Z"
    }
   },
   "outputs": [],
   "source": [
    "def plot_W(lam_array, mu):\n",
    "    \"\"\"Plot the theoretical mean wait time.\n",
    "    \n",
    "    lam_array: array of values for `lam`\n",
    "    mu: probability of finishing a checkout\n",
    "    \"\"\"\n",
    "    W = 1 / (mu - lam_array)\n",
    "    plot(lam_array, W, 'g-')"
   ]
  },
  {
   "cell_type": "markdown",
   "metadata": {},
   "source": [
    "Use this function to plot the theoretical results, then plot your simulation results again on the same graph.  How do they compare?"
   ]
  },
  {
   "cell_type": "code",
   "execution_count": 27,
   "metadata": {
    "ExecuteTime": {
     "end_time": "2022-02-22T08:17:14.322928Z",
     "start_time": "2022-02-22T08:17:14.307920Z"
    }
   },
   "outputs": [
    {
     "data": {
      "text/html": [
       "<div>\n",
       "<style scoped>\n",
       "    .dataframe tbody tr th:only-of-type {\n",
       "        vertical-align: middle;\n",
       "    }\n",
       "\n",
       "    .dataframe tbody tr th {\n",
       "        vertical-align: top;\n",
       "    }\n",
       "\n",
       "    .dataframe thead th {\n",
       "        text-align: right;\n",
       "    }\n",
       "</style>\n",
       "<table border=\"1\" class=\"dataframe\">\n",
       "  <thead>\n",
       "    <tr style=\"text-align: right;\">\n",
       "      <th></th>\n",
       "      <th>mu</th>\n",
       "      <th>lam</th>\n",
       "    </tr>\n",
       "  </thead>\n",
       "  <tbody>\n",
       "    <tr>\n",
       "      <th>0</th>\n",
       "      <td>0.2</td>\n",
       "      <td>0.02</td>\n",
       "    </tr>\n",
       "    <tr>\n",
       "      <th>1</th>\n",
       "      <td>0.2</td>\n",
       "      <td>0.04</td>\n",
       "    </tr>\n",
       "    <tr>\n",
       "      <th>2</th>\n",
       "      <td>0.2</td>\n",
       "      <td>0.06</td>\n",
       "    </tr>\n",
       "    <tr>\n",
       "      <th>3</th>\n",
       "      <td>0.2</td>\n",
       "      <td>0.08</td>\n",
       "    </tr>\n",
       "    <tr>\n",
       "      <th>4</th>\n",
       "      <td>0.2</td>\n",
       "      <td>0.10</td>\n",
       "    </tr>\n",
       "    <tr>\n",
       "      <th>5</th>\n",
       "      <td>0.2</td>\n",
       "      <td>0.12</td>\n",
       "    </tr>\n",
       "    <tr>\n",
       "      <th>6</th>\n",
       "      <td>0.2</td>\n",
       "      <td>0.14</td>\n",
       "    </tr>\n",
       "    <tr>\n",
       "      <th>7</th>\n",
       "      <td>0.2</td>\n",
       "      <td>0.16</td>\n",
       "    </tr>\n",
       "  </tbody>\n",
       "</table>\n",
       "</div>"
      ],
      "text/plain": [
       "    mu   lam\n",
       "0  0.2  0.02\n",
       "1  0.2  0.04\n",
       "2  0.2  0.06\n",
       "3  0.2  0.08\n",
       "4  0.2  0.10\n",
       "5  0.2  0.12\n",
       "6  0.2  0.14\n",
       "7  0.2  0.16"
      ]
     },
     "execution_count": 27,
     "metadata": {},
     "output_type": "execute_result"
    }
   ],
   "source": [
    "lam_mu_list"
   ]
  },
  {
   "cell_type": "code",
   "execution_count": 28,
   "metadata": {
    "ExecuteTime": {
     "end_time": "2022-02-22T08:17:14.448649Z",
     "start_time": "2022-02-22T08:17:14.323958Z"
    }
   },
   "outputs": [
    {
     "data": {
      "image/png": "[encoded data removed]",
      "text/plain": [
       "<Figure size 432x288 with 1 Axes>"
      ]
     },
     "metadata": {
      "needs_background": "light"
     },
     "output_type": "display_data"
    }
   ],
   "source": [
    "# Solution goes here\n",
    "plot_W(lam_mu_list['lam'],lam_mu_list['mu'])"
   ]
  },
  {
   "cell_type": "markdown",
   "metadata": {},
   "source": [
    "### Multiple servers\n",
    "\n",
    "Now let's try the other two queueing strategies:\n",
    "\n",
    "1.  One queue with two checkout counters.\n",
    "2.  Two queues, one for each counter.\n",
    "\n",
    "The following figure shows the three scenarios:\n",
    "\n",
    "![](diagrams/queue.png)\n",
    "\n",
    "Write an update function for one queue with two servers."
   ]
  },
  {
   "cell_type": "code",
   "execution_count": 29,
   "metadata": {
    "ExecuteTime": {
     "end_time": "2022-02-22T08:17:14.463865Z",
     "start_time": "2022-02-22T08:17:14.449675Z"
    }
   },
   "outputs": [],
   "source": [
    "# Solution goes here\n",
    "def update_func_2(x,t,system):\n",
    "    t += 1\n",
    "    if x==1:\n",
    "        if np.random.binomial(1,system.mu):\n",
    "            x -= 1\n",
    "    if x>1:\n",
    "        if np.random.binomial(1,system.mu):\n",
    "            x -= 1\n",
    "        if np.random.binomial(1,system.mu):\n",
    "            x -= 1\n",
    "    \n",
    "    if np.random.binomial(1,system.lam):\n",
    "        x += 1\n",
    "\n",
    "    return x\n",
    "\n"
   ]
  },
  {
   "cell_type": "code",
   "execution_count": 30,
   "metadata": {
    "ExecuteTime": {
     "end_time": "2022-02-22T08:17:14.480051Z",
     "start_time": "2022-02-22T08:17:14.464865Z"
    }
   },
   "outputs": [
    {
     "data": {
      "text/html": [
       "<div>\n",
       "<style scoped>\n",
       "    .dataframe tbody tr th:only-of-type {\n",
       "        vertical-align: middle;\n",
       "    }\n",
       "\n",
       "    .dataframe tbody tr th {\n",
       "        vertical-align: top;\n",
       "    }\n",
       "\n",
       "    .dataframe thead th {\n",
       "        text-align: right;\n",
       "    }\n",
       "</style>\n",
       "<table border=\"1\" class=\"dataframe\">\n",
       "  <thead>\n",
       "    <tr style=\"text-align: right;\">\n",
       "      <th></th>\n",
       "      <th>values</th>\n",
       "    </tr>\n",
       "  </thead>\n",
       "  <tbody>\n",
       "    <tr>\n",
       "      <th>lam</th>\n",
       "      <td>0</td>\n",
       "    </tr>\n",
       "    <tr>\n",
       "      <th>mu</th>\n",
       "      <td>1</td>\n",
       "    </tr>\n",
       "    <tr>\n",
       "      <th>duration</th>\n",
       "      <td>600</td>\n",
       "    </tr>\n",
       "  </tbody>\n",
       "</table>\n",
       "</div>"
      ],
      "text/plain": [
       "lam           0\n",
       "mu            1\n",
       "duration    600\n",
       "dtype: int64"
      ]
     },
     "execution_count": 30,
     "metadata": {},
     "output_type": "execute_result"
    }
   ],
   "source": [
    "System2 = State(lam = 0, mu = 1, duration = 600)"
   ]
  },
  {
   "cell_type": "markdown",
   "metadata": {},
   "source": [
    "Use this update function to simulate the system, plot the results, and print the metrics."
   ]
  },
  {
   "cell_type": "code",
   "execution_count": 31,
   "metadata": {
    "ExecuteTime": {
     "end_time": "2022-02-22T08:17:15.273828Z",
     "start_time": "2022-02-22T08:17:14.480974Z"
    }
   },
   "outputs": [
    {
     "data": {
      "text/plain": [
       "[<matplotlib.lines.Line2D at 0x1a52ee8e320>]"
      ]
     },
     "execution_count": 31,
     "metadata": {},
     "output_type": "execute_result"
    },
    {
     "data": {
      "image/png": "[encoded data removed]",
      "text/plain": [
       "<Figure size 432x288 with 1 Axes>"
      ]
     },
     "metadata": {
      "needs_background": "light"
     },
     "output_type": "display_data"
    }
   ],
   "source": [
    "run_simulation(System,update_func_2)\n",
    "plot(run_simulation(System,update_func_2))"
   ]
  },
  {
   "cell_type": "markdown",
   "metadata": {},
   "source": [
    "Since we have two checkout counters now, we can consider values for $\\lambda$ that exceed $\\mu$.\n",
    "\n",
    "Create a new array of values for `lam` from 10% to 160% of `mu`."
   ]
  },
  {
   "cell_type": "code",
   "execution_count": 32,
   "metadata": {
    "ExecuteTime": {
     "end_time": "2022-02-22T08:17:15.289860Z",
     "start_time": "2022-02-22T08:17:15.274827Z"
    }
   },
   "outputs": [
    {
     "data": {
      "text/plain": [
       "[0.020000000000000004,\n",
       " 0.04000000000000001,\n",
       " 0.06000000000000001,\n",
       " 0.08000000000000002,\n",
       " 0.1,\n",
       " 0.12000000000000002,\n",
       " 0.14,\n",
       " 0.16000000000000003,\n",
       " 0.18000000000000002,\n",
       " 0.2,\n",
       " 0.22000000000000003,\n",
       " 0.24000000000000005,\n",
       " 0.26,\n",
       " 0.28,\n",
       " 0.30000000000000004,\n",
       " 0.32000000000000006]"
      ]
     },
     "execution_count": 32,
     "metadata": {},
     "output_type": "execute_result"
    }
   ],
   "source": [
    "# Solution goes here\n",
    "def generate_lam_spectrum_new(mu):\n",
    "    return [(i+1)*0.1*mu for i in range(16)]\n",
    "\n",
    "new_lam_list = generate_lam_spectrum_new(System.mu)"
   ]
  },
  {
   "cell_type": "code",
   "execution_count": 33,
   "metadata": {
    "ExecuteTime": {
     "end_time": "2022-02-22T08:17:15.305074Z",
     "start_time": "2022-02-22T08:17:15.290861Z"
    },
    "scrolled": true
   },
   "outputs": [],
   "source": [
    "def test_create_lam_list(mu):\n",
    "    lam_mu_list = pd.DataFrame(columns = ['lam','mu'])\n",
    "    for i in range(8):\n",
    "        lam = mu*0.1*(i+1)\n",
    "        \n",
    "        lam_mu_list = lam_mu_list.append(pd.DataFrame([{'lam':lam,'mu':mu}]),ignore_index=True)\n",
    "\n",
    "    return lam_mu_list\n",
    "\n",
    "# test_create_lam_list(0.9)"
   ]
  },
  {
   "cell_type": "markdown",
   "metadata": {},
   "source": [
    "Use your sweep function to simulate the two server, one queue scenario with a range of values for `lam`.\n",
    "\n",
    "Plot the results and print the average value of `W` across all values of `lam`."
   ]
  },
  {
   "cell_type": "code",
   "execution_count": 34,
   "metadata": {
    "ExecuteTime": {
     "end_time": "2022-02-22T08:17:18.167365Z",
     "start_time": "2022-02-22T08:17:15.305972Z"
    }
   },
   "outputs": [
    {
     "data": {
      "text/html": [
       "<div>\n",
       "<style scoped>\n",
       "    .dataframe tbody tr th:only-of-type {\n",
       "        vertical-align: middle;\n",
       "    }\n",
       "\n",
       "    .dataframe tbody tr th {\n",
       "        vertical-align: top;\n",
       "    }\n",
       "\n",
       "    .dataframe thead th {\n",
       "        text-align: right;\n",
       "    }\n",
       "</style>\n",
       "<table border=\"1\" class=\"dataframe\">\n",
       "  <thead>\n",
       "    <tr style=\"text-align: right;\">\n",
       "      <th></th>\n",
       "      <th>values</th>\n",
       "    </tr>\n",
       "  </thead>\n",
       "  <tbody>\n",
       "    <tr>\n",
       "      <th>0</th>\n",
       "      <td>0.106073</td>\n",
       "    </tr>\n",
       "    <tr>\n",
       "      <th>1</th>\n",
       "      <td>0.224626</td>\n",
       "    </tr>\n",
       "    <tr>\n",
       "      <th>2</th>\n",
       "      <td>0.368136</td>\n",
       "    </tr>\n",
       "    <tr>\n",
       "      <th>3</th>\n",
       "      <td>0.522047</td>\n",
       "    </tr>\n",
       "    <tr>\n",
       "      <th>4</th>\n",
       "      <td>0.603161</td>\n",
       "    </tr>\n",
       "    <tr>\n",
       "      <th>5</th>\n",
       "      <td>0.734193</td>\n",
       "    </tr>\n",
       "    <tr>\n",
       "      <th>6</th>\n",
       "      <td>0.894343</td>\n",
       "    </tr>\n",
       "    <tr>\n",
       "      <th>7</th>\n",
       "      <td>1.004576</td>\n",
       "    </tr>\n",
       "  </tbody>\n",
       "</table>\n",
       "</div>"
      ],
      "text/plain": [
       "0    0.106073\n",
       "1    0.224626\n",
       "2    0.368136\n",
       "3    0.522047\n",
       "4    0.603161\n",
       "5    0.734193\n",
       "6    0.894343\n",
       "7    1.004576\n",
       "dtype: float64"
      ]
     },
     "execution_count": 34,
     "metadata": {},
     "output_type": "execute_result"
    }
   ],
   "source": [
    "W_value_2 = generate_SweepSeries(test_create_lam_list(0.8),update_func_2)\n",
    "W_value_2"
   ]
  },
  {
   "cell_type": "code",
   "execution_count": 35,
   "metadata": {
    "ExecuteTime": {
     "end_time": "2022-02-22T08:17:47.338664Z",
     "start_time": "2022-02-22T08:17:18.168387Z"
    }
   },
   "outputs": [
    {
     "data": {
      "text/html": [
       "<div>\n",
       "<style scoped>\n",
       "    .dataframe tbody tr th:only-of-type {\n",
       "        vertical-align: middle;\n",
       "    }\n",
       "\n",
       "    .dataframe tbody tr th {\n",
       "        vertical-align: top;\n",
       "    }\n",
       "\n",
       "    .dataframe thead th {\n",
       "        text-align: right;\n",
       "    }\n",
       "</style>\n",
       "<table border=\"1\" class=\"dataframe\">\n",
       "  <thead>\n",
       "    <tr style=\"text-align: right;\">\n",
       "      <th></th>\n",
       "      <th>lam</th>\n",
       "      <th>mu</th>\n",
       "      <th>0</th>\n",
       "      <th>1</th>\n",
       "      <th>2</th>\n",
       "      <th>3</th>\n",
       "      <th>4</th>\n",
       "      <th>5</th>\n",
       "      <th>6</th>\n",
       "      <th>7</th>\n",
       "      <th>8</th>\n",
       "      <th>9</th>\n",
       "    </tr>\n",
       "  </thead>\n",
       "  <tbody>\n",
       "    <tr>\n",
       "      <th>0</th>\n",
       "      <td>0.08</td>\n",
       "      <td>0.8</td>\n",
       "      <td>0.257903</td>\n",
       "      <td>0.257903</td>\n",
       "      <td>0.748752</td>\n",
       "      <td>0.582363</td>\n",
       "      <td>0.665557</td>\n",
       "      <td>0.291181</td>\n",
       "      <td>0.632280</td>\n",
       "      <td>0.665557</td>\n",
       "      <td>0.332779</td>\n",
       "      <td>0.482529</td>\n",
       "    </tr>\n",
       "    <tr>\n",
       "      <th>1</th>\n",
       "      <td>0.16</td>\n",
       "      <td>0.8</td>\n",
       "      <td>1.156406</td>\n",
       "      <td>0.698835</td>\n",
       "      <td>0.732113</td>\n",
       "      <td>1.064892</td>\n",
       "      <td>1.389351</td>\n",
       "      <td>0.673877</td>\n",
       "      <td>0.890183</td>\n",
       "      <td>1.314476</td>\n",
       "      <td>1.272879</td>\n",
       "      <td>1.039933</td>\n",
       "    </tr>\n",
       "    <tr>\n",
       "      <th>2</th>\n",
       "      <td>0.24</td>\n",
       "      <td>0.8</td>\n",
       "      <td>1.455907</td>\n",
       "      <td>1.039933</td>\n",
       "      <td>1.455907</td>\n",
       "      <td>1.555740</td>\n",
       "      <td>1.206323</td>\n",
       "      <td>1.173045</td>\n",
       "      <td>1.397671</td>\n",
       "      <td>1.755408</td>\n",
       "      <td>1.855241</td>\n",
       "      <td>1.023295</td>\n",
       "    </tr>\n",
       "    <tr>\n",
       "      <th>3</th>\n",
       "      <td>0.32</td>\n",
       "      <td>0.8</td>\n",
       "      <td>2.046589</td>\n",
       "      <td>2.329451</td>\n",
       "      <td>2.221298</td>\n",
       "      <td>1.281198</td>\n",
       "      <td>1.630616</td>\n",
       "      <td>1.888519</td>\n",
       "      <td>1.955075</td>\n",
       "      <td>1.730449</td>\n",
       "      <td>2.146423</td>\n",
       "      <td>1.705491</td>\n",
       "    </tr>\n",
       "    <tr>\n",
       "      <th>4</th>\n",
       "      <td>0.40</td>\n",
       "      <td>0.8</td>\n",
       "      <td>2.595674</td>\n",
       "      <td>1.946755</td>\n",
       "      <td>2.146423</td>\n",
       "      <td>2.246256</td>\n",
       "      <td>2.579035</td>\n",
       "      <td>2.429285</td>\n",
       "      <td>2.737105</td>\n",
       "      <td>2.529118</td>\n",
       "      <td>2.637271</td>\n",
       "      <td>2.886855</td>\n",
       "    </tr>\n",
       "    <tr>\n",
       "      <th>5</th>\n",
       "      <td>0.48</td>\n",
       "      <td>0.8</td>\n",
       "      <td>2.703827</td>\n",
       "      <td>3.427621</td>\n",
       "      <td>3.186356</td>\n",
       "      <td>2.512479</td>\n",
       "      <td>3.236273</td>\n",
       "      <td>3.169717</td>\n",
       "      <td>2.212978</td>\n",
       "      <td>3.269551</td>\n",
       "      <td>2.237937</td>\n",
       "      <td>2.645591</td>\n",
       "    </tr>\n",
       "    <tr>\n",
       "      <th>6</th>\n",
       "      <td>0.56</td>\n",
       "      <td>0.8</td>\n",
       "      <td>3.435940</td>\n",
       "      <td>4.958403</td>\n",
       "      <td>3.011647</td>\n",
       "      <td>3.727121</td>\n",
       "      <td>3.261231</td>\n",
       "      <td>3.893511</td>\n",
       "      <td>3.477537</td>\n",
       "      <td>4.542429</td>\n",
       "      <td>4.409318</td>\n",
       "      <td>3.044925</td>\n",
       "    </tr>\n",
       "    <tr>\n",
       "      <th>7</th>\n",
       "      <td>0.64</td>\n",
       "      <td>0.8</td>\n",
       "      <td>3.460899</td>\n",
       "      <td>4.650582</td>\n",
       "      <td>5.249584</td>\n",
       "      <td>4.409318</td>\n",
       "      <td>5.266223</td>\n",
       "      <td>3.976705</td>\n",
       "      <td>4.434276</td>\n",
       "      <td>4.326123</td>\n",
       "      <td>3.985025</td>\n",
       "      <td>4.642263</td>\n",
       "    </tr>\n",
       "  </tbody>\n",
       "</table>\n",
       "</div>"
      ],
      "text/plain": [
       "    lam   mu         0         1         2         3         4         5  \\\n",
       "0  0.08  0.8  0.257903  0.257903  0.748752  0.582363  0.665557  0.291181   \n",
       "1  0.16  0.8  1.156406  0.698835  0.732113  1.064892  1.389351  0.673877   \n",
       "2  0.24  0.8  1.455907  1.039933  1.455907  1.555740  1.206323  1.173045   \n",
       "3  0.32  0.8  2.046589  2.329451  2.221298  1.281198  1.630616  1.888519   \n",
       "4  0.40  0.8  2.595674  1.946755  2.146423  2.246256  2.579035  2.429285   \n",
       "5  0.48  0.8  2.703827  3.427621  3.186356  2.512479  3.236273  3.169717   \n",
       "6  0.56  0.8  3.435940  4.958403  3.011647  3.727121  3.261231  3.893511   \n",
       "7  0.64  0.8  3.460899  4.650582  5.249584  4.409318  5.266223  3.976705   \n",
       "\n",
       "          6         7         8         9  \n",
       "0  0.632280  0.665557  0.332779  0.482529  \n",
       "1  0.890183  1.314476  1.272879  1.039933  \n",
       "2  1.397671  1.755408  1.855241  1.023295  \n",
       "3  1.955075  1.730449  2.146423  1.705491  \n",
       "4  2.737105  2.529118  2.637271  2.886855  \n",
       "5  2.212978  3.269551  2.237937  2.645591  \n",
       "6  3.477537  4.542429  4.409318  3.044925  \n",
       "7  4.434276  4.326123  3.985025  4.642263  "
      ]
     },
     "execution_count": 35,
     "metadata": {},
     "output_type": "execute_result"
    }
   ],
   "source": [
    "W_values_DF2 = pd.DataFrame()\n",
    "W_values_DF2['lam'] = test_create_lam_list(0.8)['lam']\n",
    "W_values_DF2['mu'] = 0.8\n",
    "# W_values_DF2\n",
    "\n",
    "for i in range(10):\n",
    "    W_values_DF2[i] = generate_SweepSeries(test_create_lam_list(0.2),update_func_2)\n",
    "    \n",
    "W_values_DF2"
   ]
  },
  {
   "cell_type": "code",
   "execution_count": 36,
   "metadata": {
    "ExecuteTime": {
     "end_time": "2022-02-22T08:17:47.370604Z",
     "start_time": "2022-02-22T08:17:47.340660Z"
    }
   },
   "outputs": [
    {
     "data": {
      "text/html": [
       "<div>\n",
       "<style scoped>\n",
       "    .dataframe tbody tr th:only-of-type {\n",
       "        vertical-align: middle;\n",
       "    }\n",
       "\n",
       "    .dataframe tbody tr th {\n",
       "        vertical-align: top;\n",
       "    }\n",
       "\n",
       "    .dataframe thead th {\n",
       "        text-align: right;\n",
       "    }\n",
       "</style>\n",
       "<table border=\"1\" class=\"dataframe\">\n",
       "  <thead>\n",
       "    <tr style=\"text-align: right;\">\n",
       "      <th></th>\n",
       "      <th>lam</th>\n",
       "      <th>mu</th>\n",
       "      <th>0</th>\n",
       "      <th>1</th>\n",
       "      <th>2</th>\n",
       "      <th>3</th>\n",
       "      <th>4</th>\n",
       "      <th>5</th>\n",
       "      <th>6</th>\n",
       "      <th>7</th>\n",
       "      <th>8</th>\n",
       "      <th>9</th>\n",
       "      <th>average10</th>\n",
       "    </tr>\n",
       "  </thead>\n",
       "  <tbody>\n",
       "    <tr>\n",
       "      <th>0</th>\n",
       "      <td>0.08</td>\n",
       "      <td>0.8</td>\n",
       "      <td>0.257903</td>\n",
       "      <td>0.257903</td>\n",
       "      <td>0.748752</td>\n",
       "      <td>0.582363</td>\n",
       "      <td>0.665557</td>\n",
       "      <td>0.291181</td>\n",
       "      <td>0.632280</td>\n",
       "      <td>0.665557</td>\n",
       "      <td>0.332779</td>\n",
       "      <td>0.482529</td>\n",
       "      <td>0.491681</td>\n",
       "    </tr>\n",
       "    <tr>\n",
       "      <th>1</th>\n",
       "      <td>0.16</td>\n",
       "      <td>0.8</td>\n",
       "      <td>1.156406</td>\n",
       "      <td>0.698835</td>\n",
       "      <td>0.732113</td>\n",
       "      <td>1.064892</td>\n",
       "      <td>1.389351</td>\n",
       "      <td>0.673877</td>\n",
       "      <td>0.890183</td>\n",
       "      <td>1.314476</td>\n",
       "      <td>1.272879</td>\n",
       "      <td>1.039933</td>\n",
       "      <td>1.023295</td>\n",
       "    </tr>\n",
       "    <tr>\n",
       "      <th>2</th>\n",
       "      <td>0.24</td>\n",
       "      <td>0.8</td>\n",
       "      <td>1.455907</td>\n",
       "      <td>1.039933</td>\n",
       "      <td>1.455907</td>\n",
       "      <td>1.555740</td>\n",
       "      <td>1.206323</td>\n",
       "      <td>1.173045</td>\n",
       "      <td>1.397671</td>\n",
       "      <td>1.755408</td>\n",
       "      <td>1.855241</td>\n",
       "      <td>1.023295</td>\n",
       "      <td>1.391847</td>\n",
       "    </tr>\n",
       "    <tr>\n",
       "      <th>3</th>\n",
       "      <td>0.32</td>\n",
       "      <td>0.8</td>\n",
       "      <td>2.046589</td>\n",
       "      <td>2.329451</td>\n",
       "      <td>2.221298</td>\n",
       "      <td>1.281198</td>\n",
       "      <td>1.630616</td>\n",
       "      <td>1.888519</td>\n",
       "      <td>1.955075</td>\n",
       "      <td>1.730449</td>\n",
       "      <td>2.146423</td>\n",
       "      <td>1.705491</td>\n",
       "      <td>1.893511</td>\n",
       "    </tr>\n",
       "    <tr>\n",
       "      <th>4</th>\n",
       "      <td>0.40</td>\n",
       "      <td>0.8</td>\n",
       "      <td>2.595674</td>\n",
       "      <td>1.946755</td>\n",
       "      <td>2.146423</td>\n",
       "      <td>2.246256</td>\n",
       "      <td>2.579035</td>\n",
       "      <td>2.429285</td>\n",
       "      <td>2.737105</td>\n",
       "      <td>2.529118</td>\n",
       "      <td>2.637271</td>\n",
       "      <td>2.886855</td>\n",
       "      <td>2.473378</td>\n",
       "    </tr>\n",
       "    <tr>\n",
       "      <th>5</th>\n",
       "      <td>0.48</td>\n",
       "      <td>0.8</td>\n",
       "      <td>2.703827</td>\n",
       "      <td>3.427621</td>\n",
       "      <td>3.186356</td>\n",
       "      <td>2.512479</td>\n",
       "      <td>3.236273</td>\n",
       "      <td>3.169717</td>\n",
       "      <td>2.212978</td>\n",
       "      <td>3.269551</td>\n",
       "      <td>2.237937</td>\n",
       "      <td>2.645591</td>\n",
       "      <td>2.860233</td>\n",
       "    </tr>\n",
       "    <tr>\n",
       "      <th>6</th>\n",
       "      <td>0.56</td>\n",
       "      <td>0.8</td>\n",
       "      <td>3.435940</td>\n",
       "      <td>4.958403</td>\n",
       "      <td>3.011647</td>\n",
       "      <td>3.727121</td>\n",
       "      <td>3.261231</td>\n",
       "      <td>3.893511</td>\n",
       "      <td>3.477537</td>\n",
       "      <td>4.542429</td>\n",
       "      <td>4.409318</td>\n",
       "      <td>3.044925</td>\n",
       "      <td>3.776206</td>\n",
       "    </tr>\n",
       "    <tr>\n",
       "      <th>7</th>\n",
       "      <td>0.64</td>\n",
       "      <td>0.8</td>\n",
       "      <td>3.460899</td>\n",
       "      <td>4.650582</td>\n",
       "      <td>5.249584</td>\n",
       "      <td>4.409318</td>\n",
       "      <td>5.266223</td>\n",
       "      <td>3.976705</td>\n",
       "      <td>4.434276</td>\n",
       "      <td>4.326123</td>\n",
       "      <td>3.985025</td>\n",
       "      <td>4.642263</td>\n",
       "      <td>4.440100</td>\n",
       "    </tr>\n",
       "  </tbody>\n",
       "</table>\n",
       "</div>"
      ],
      "text/plain": [
       "    lam   mu         0         1         2         3         4         5  \\\n",
       "0  0.08  0.8  0.257903  0.257903  0.748752  0.582363  0.665557  0.291181   \n",
       "1  0.16  0.8  1.156406  0.698835  0.732113  1.064892  1.389351  0.673877   \n",
       "2  0.24  0.8  1.455907  1.039933  1.455907  1.555740  1.206323  1.173045   \n",
       "3  0.32  0.8  2.046589  2.329451  2.221298  1.281198  1.630616  1.888519   \n",
       "4  0.40  0.8  2.595674  1.946755  2.146423  2.246256  2.579035  2.429285   \n",
       "5  0.48  0.8  2.703827  3.427621  3.186356  2.512479  3.236273  3.169717   \n",
       "6  0.56  0.8  3.435940  4.958403  3.011647  3.727121  3.261231  3.893511   \n",
       "7  0.64  0.8  3.460899  4.650582  5.249584  4.409318  5.266223  3.976705   \n",
       "\n",
       "          6         7         8         9  average10  \n",
       "0  0.632280  0.665557  0.332779  0.482529   0.491681  \n",
       "1  0.890183  1.314476  1.272879  1.039933   1.023295  \n",
       "2  1.397671  1.755408  1.855241  1.023295   1.391847  \n",
       "3  1.955075  1.730449  2.146423  1.705491   1.893511  \n",
       "4  2.737105  2.529118  2.637271  2.886855   2.473378  \n",
       "5  2.212978  3.269551  2.237937  2.645591   2.860233  \n",
       "6  3.477537  4.542429  4.409318  3.044925   3.776206  \n",
       "7  4.434276  4.326123  3.985025  4.642263   4.440100  "
      ]
     },
     "execution_count": 36,
     "metadata": {},
     "output_type": "execute_result"
    }
   ],
   "source": [
    "W_values_DF2['average10'] = W_values_DF2[W_values_DF2.columns[2:]].mean(axis = 1)\n",
    "W_values_DF2"
   ]
  },
  {
   "cell_type": "markdown",
   "metadata": {},
   "source": [
    "### Multiple queues\n",
    "\n",
    "To simulate the scenario with two separate queues, we need two state variables to keep track of customers in each queue.\n",
    "\n",
    "Write an update function that takes `x1`, `x2`, `t`, and `system` as parameters and returns `x1` and `x2` as return values.  f you are not sure how to return more than one return value, see `compute_metrics`.\n",
    "\n",
    "**When a customer arrives, which queue do they join?**"
   ]
  },
  {
   "cell_type": "code",
   "execution_count": 37,
   "metadata": {
    "ExecuteTime": {
     "end_time": "2022-02-22T08:17:47.385539Z",
     "start_time": "2022-02-22T08:17:47.371602Z"
    }
   },
   "outputs": [],
   "source": [
    "def update_func_3(x1,x2,t,system):\n",
    "#     if x1>0:\n",
    "#         x1 -= 1 if (x1>0) & (flip(system.mu)) else x1\n",
    "\n",
    "    x1 = (x1 - 1) if (x1>0) & (flip(system.mu)) else x1\n",
    "    x2 = (x2 - 1) if (x2>0) & (flip(system.mu)) else x2\n",
    "    \n",
    "    if flip(system.lam):\n",
    "        if x1<=x2:\n",
    "            x1 += 1\n",
    "        else: \n",
    "            x2 += 1\n",
    "\n",
    "    return x1,x2"
   ]
  },
  {
   "cell_type": "code",
   "execution_count": 38,
   "metadata": {
    "ExecuteTime": {
     "end_time": "2022-02-22T08:17:47.401496Z",
     "start_time": "2022-02-22T08:17:47.386537Z"
    }
   },
   "outputs": [],
   "source": [
    "def run_simulation(system, update_func):\n",
    "    \"\"\"Simulate a queueing system.\n",
    "    \n",
    "    system: System object\n",
    "    update_func: function object\n",
    "    \"\"\"\n",
    "    x = 0\n",
    "    results = TimeSeries()\n",
    "    results[0] = x\n",
    "    \n",
    "    for t in linrange(0, system.duration):\n",
    "        x = update_func(x, t, system)\n",
    "        results[t+1] = x\n",
    "\n",
    "    return results"
   ]
  },
  {
   "cell_type": "code",
   "execution_count": null,
   "metadata": {},
   "outputs": [],
   "source": []
  },
  {
   "cell_type": "markdown",
   "metadata": {},
   "source": [
    "Write a version of `run_simulation` that works with this update function."
   ]
  },
  {
   "cell_type": "code",
   "execution_count": 50,
   "metadata": {
    "ExecuteTime": {
     "end_time": "2022-02-22T08:19:18.450954Z",
     "start_time": "2022-02-22T08:19:18.443973Z"
    }
   },
   "outputs": [],
   "source": [
    "def run_simulation_2_seperate_line(system,update_func):\n",
    "    x1,x2 = 0,0\n",
    "    results = TimeSeries()\n",
    "#     results_2 = TimeSeries()\n",
    "    \n",
    "    for t in range(int(system.duration)):\n",
    "        x1,x2 = update_func(x1,x2,t,system)\n",
    "        results[t+1] = (x1+x2)\n",
    "        \n",
    "    return results\n",
    "\n"
   ]
  },
  {
   "cell_type": "markdown",
   "metadata": {},
   "source": [
    "Test your functions by running a simulation with a single value of `lam`."
   ]
  },
  {
   "cell_type": "code",
   "execution_count": 51,
   "metadata": {
    "ExecuteTime": {
     "end_time": "2022-02-22T08:19:21.056939Z",
     "start_time": "2022-02-22T08:19:20.663387Z"
    }
   },
   "outputs": [
    {
     "data": {
      "text/html": [
       "<div>\n",
       "<style scoped>\n",
       "    .dataframe tbody tr th:only-of-type {\n",
       "        vertical-align: middle;\n",
       "    }\n",
       "\n",
       "    .dataframe tbody tr th {\n",
       "        vertical-align: top;\n",
       "    }\n",
       "\n",
       "    .dataframe thead th {\n",
       "        text-align: right;\n",
       "    }\n",
       "</style>\n",
       "<table border=\"1\" class=\"dataframe\">\n",
       "  <thead>\n",
       "    <tr style=\"text-align: right;\">\n",
       "      <th></th>\n",
       "      <th>values</th>\n",
       "    </tr>\n",
       "  </thead>\n",
       "  <tbody>\n",
       "    <tr>\n",
       "      <th>1</th>\n",
       "      <td>0</td>\n",
       "    </tr>\n",
       "    <tr>\n",
       "      <th>2</th>\n",
       "      <td>0</td>\n",
       "    </tr>\n",
       "    <tr>\n",
       "      <th>3</th>\n",
       "      <td>0</td>\n",
       "    </tr>\n",
       "    <tr>\n",
       "      <th>4</th>\n",
       "      <td>0</td>\n",
       "    </tr>\n",
       "    <tr>\n",
       "      <th>5</th>\n",
       "      <td>0</td>\n",
       "    </tr>\n",
       "    <tr>\n",
       "      <th>6</th>\n",
       "      <td>0</td>\n",
       "    </tr>\n",
       "    <tr>\n",
       "      <th>7</th>\n",
       "      <td>0</td>\n",
       "    </tr>\n",
       "    <tr>\n",
       "      <th>8</th>\n",
       "      <td>0</td>\n",
       "    </tr>\n",
       "    <tr>\n",
       "      <th>9</th>\n",
       "      <td>0</td>\n",
       "    </tr>\n",
       "    <tr>\n",
       "      <th>10</th>\n",
       "      <td>0</td>\n",
       "    </tr>\n",
       "    <tr>\n",
       "      <th>...</th>\n",
       "      <td>...</td>\n",
       "    </tr>\n",
       "    <tr>\n",
       "      <th>591</th>\n",
       "      <td>0</td>\n",
       "    </tr>\n",
       "    <tr>\n",
       "      <th>592</th>\n",
       "      <td>0</td>\n",
       "    </tr>\n",
       "    <tr>\n",
       "      <th>593</th>\n",
       "      <td>0</td>\n",
       "    </tr>\n",
       "    <tr>\n",
       "      <th>594</th>\n",
       "      <td>0</td>\n",
       "    </tr>\n",
       "    <tr>\n",
       "      <th>595</th>\n",
       "      <td>0</td>\n",
       "    </tr>\n",
       "    <tr>\n",
       "      <th>596</th>\n",
       "      <td>1</td>\n",
       "    </tr>\n",
       "    <tr>\n",
       "      <th>597</th>\n",
       "      <td>1</td>\n",
       "    </tr>\n",
       "    <tr>\n",
       "      <th>598</th>\n",
       "      <td>1</td>\n",
       "    </tr>\n",
       "    <tr>\n",
       "      <th>599</th>\n",
       "      <td>1</td>\n",
       "    </tr>\n",
       "    <tr>\n",
       "      <th>600</th>\n",
       "      <td>1</td>\n",
       "    </tr>\n",
       "  </tbody>\n",
       "</table>\n",
       "<p>600 rows × 1 columns</p>\n",
       "</div>"
      ],
      "text/plain": [
       "1      0\n",
       "2      0\n",
       "3      0\n",
       "4      0\n",
       "5      0\n",
       "6      0\n",
       "7      0\n",
       "8      0\n",
       "9      0\n",
       "10     0\n",
       "      ..\n",
       "591    0\n",
       "592    0\n",
       "593    0\n",
       "594    0\n",
       "595    0\n",
       "596    1\n",
       "597    1\n",
       "598    1\n",
       "599    1\n",
       "600    1\n",
       "Length: 600, dtype: int64"
      ]
     },
     "execution_count": 51,
     "metadata": {},
     "output_type": "execute_result"
    }
   ],
   "source": [
    "results_1 = run_simulation_2_seperate_line(System,update_func_3)\n",
    "results_1"
   ]
  },
  {
   "cell_type": "markdown",
   "metadata": {},
   "source": [
    "Sweep a range of values for `lam`, plot the results, and print the average wait time across all values of `lam`.\n",
    "\n",
    "How do the results compare to the scenario with two servers and one queue."
   ]
  },
  {
   "cell_type": "code",
   "execution_count": 52,
   "metadata": {
    "ExecuteTime": {
     "end_time": "2022-02-22T08:19:24.141837Z",
     "start_time": "2022-02-22T08:19:24.128873Z"
    },
    "scrolled": true
   },
   "outputs": [
    {
     "data": {
      "text/html": [
       "<div>\n",
       "<style scoped>\n",
       "    .dataframe tbody tr th:only-of-type {\n",
       "        vertical-align: middle;\n",
       "    }\n",
       "\n",
       "    .dataframe tbody tr th {\n",
       "        vertical-align: top;\n",
       "    }\n",
       "\n",
       "    .dataframe thead th {\n",
       "        text-align: right;\n",
       "    }\n",
       "</style>\n",
       "<table border=\"1\" class=\"dataframe\">\n",
       "  <thead>\n",
       "    <tr style=\"text-align: right;\">\n",
       "      <th></th>\n",
       "      <th>mu</th>\n",
       "      <th>lam</th>\n",
       "    </tr>\n",
       "  </thead>\n",
       "  <tbody>\n",
       "    <tr>\n",
       "      <th>0</th>\n",
       "      <td>0.2</td>\n",
       "      <td>0.02</td>\n",
       "    </tr>\n",
       "    <tr>\n",
       "      <th>1</th>\n",
       "      <td>0.2</td>\n",
       "      <td>0.04</td>\n",
       "    </tr>\n",
       "    <tr>\n",
       "      <th>2</th>\n",
       "      <td>0.2</td>\n",
       "      <td>0.06</td>\n",
       "    </tr>\n",
       "    <tr>\n",
       "      <th>3</th>\n",
       "      <td>0.2</td>\n",
       "      <td>0.08</td>\n",
       "    </tr>\n",
       "    <tr>\n",
       "      <th>4</th>\n",
       "      <td>0.2</td>\n",
       "      <td>0.10</td>\n",
       "    </tr>\n",
       "    <tr>\n",
       "      <th>5</th>\n",
       "      <td>0.2</td>\n",
       "      <td>0.12</td>\n",
       "    </tr>\n",
       "    <tr>\n",
       "      <th>6</th>\n",
       "      <td>0.2</td>\n",
       "      <td>0.14</td>\n",
       "    </tr>\n",
       "    <tr>\n",
       "      <th>7</th>\n",
       "      <td>0.2</td>\n",
       "      <td>0.16</td>\n",
       "    </tr>\n",
       "    <tr>\n",
       "      <th>a</th>\n",
       "      <td>1.0</td>\n",
       "      <td>1.00</td>\n",
       "    </tr>\n",
       "  </tbody>\n",
       "</table>\n",
       "</div>"
      ],
      "text/plain": [
       "    mu   lam\n",
       "0  0.2  0.02\n",
       "1  0.2  0.04\n",
       "2  0.2  0.06\n",
       "3  0.2  0.08\n",
       "4  0.2  0.10\n",
       "5  0.2  0.12\n",
       "6  0.2  0.14\n",
       "7  0.2  0.16\n",
       "a  1.0  1.00"
      ]
     },
     "execution_count": 52,
     "metadata": {},
     "output_type": "execute_result"
    }
   ],
   "source": [
    "test_list = lam_mu_list.append(pd.DataFrame({'mu':1,'lam':1},index=['a']))"
   ]
  },
  {
   "cell_type": "code",
   "execution_count": 53,
   "metadata": {
    "ExecuteTime": {
     "end_time": "2022-02-22T08:19:26.807559Z",
     "start_time": "2022-02-22T08:19:26.798559Z"
    }
   },
   "outputs": [
    {
     "data": {
      "text/plain": [
       "mu     1.0\n",
       "lam    1.0\n",
       "Name: a, dtype: float64"
      ]
     },
     "execution_count": 53,
     "metadata": {},
     "output_type": "execute_result"
    }
   ],
   "source": [
    "test_list.loc['a']"
   ]
  },
  {
   "cell_type": "code",
   "execution_count": 54,
   "metadata": {
    "ExecuteTime": {
     "end_time": "2022-02-22T08:19:28.224863Z",
     "start_time": "2022-02-22T08:19:28.218904Z"
    }
   },
   "outputs": [],
   "source": [
    "# Solution goes here\n",
    "def generate_SweepSeries_2(lam_mu_list,update_func):\n",
    "    L_values = TimeSeries()\n",
    "    W_values = TimeSeries()\n",
    "\n",
    "    for i in lam_mu_list.index:\n",
    "        System = make_system(lam_mu_list.iloc[i]['lam'],lam_mu_list.iloc[i]['mu'])\n",
    "        \n",
    "        L_values[i],W_values[i] = compute_metrics(run_simulation_2_seperate_line(System,update_func),System)\n",
    "\n",
    "    return W_values"
   ]
  },
  {
   "cell_type": "code",
   "execution_count": 55,
   "metadata": {
    "ExecuteTime": {
     "end_time": "2022-02-22T08:19:34.299993Z",
     "start_time": "2022-02-22T08:19:31.234728Z"
    }
   },
   "outputs": [
    {
     "data": {
      "text/html": [
       "<div>\n",
       "<style scoped>\n",
       "    .dataframe tbody tr th:only-of-type {\n",
       "        vertical-align: middle;\n",
       "    }\n",
       "\n",
       "    .dataframe tbody tr th {\n",
       "        vertical-align: top;\n",
       "    }\n",
       "\n",
       "    .dataframe thead th {\n",
       "        text-align: right;\n",
       "    }\n",
       "</style>\n",
       "<table border=\"1\" class=\"dataframe\">\n",
       "  <thead>\n",
       "    <tr style=\"text-align: right;\">\n",
       "      <th></th>\n",
       "      <th>values</th>\n",
       "    </tr>\n",
       "  </thead>\n",
       "  <tbody>\n",
       "    <tr>\n",
       "      <th>0</th>\n",
       "      <td>0.425000</td>\n",
       "    </tr>\n",
       "    <tr>\n",
       "      <th>1</th>\n",
       "      <td>1.050000</td>\n",
       "    </tr>\n",
       "    <tr>\n",
       "      <th>2</th>\n",
       "      <td>1.166667</td>\n",
       "    </tr>\n",
       "    <tr>\n",
       "      <th>3</th>\n",
       "      <td>2.508333</td>\n",
       "    </tr>\n",
       "    <tr>\n",
       "      <th>4</th>\n",
       "      <td>2.725000</td>\n",
       "    </tr>\n",
       "    <tr>\n",
       "      <th>5</th>\n",
       "      <td>3.391667</td>\n",
       "    </tr>\n",
       "    <tr>\n",
       "      <th>6</th>\n",
       "      <td>3.591667</td>\n",
       "    </tr>\n",
       "    <tr>\n",
       "      <th>7</th>\n",
       "      <td>4.650000</td>\n",
       "    </tr>\n",
       "  </tbody>\n",
       "</table>\n",
       "</div>"
      ],
      "text/plain": [
       "0    0.425000\n",
       "1    1.050000\n",
       "2    1.166667\n",
       "3    2.508333\n",
       "4    2.725000\n",
       "5    3.391667\n",
       "6    3.591667\n",
       "7    4.650000\n",
       "dtype: float64"
      ]
     },
     "execution_count": 55,
     "metadata": {},
     "output_type": "execute_result"
    }
   ],
   "source": [
    "generate_SweepSeries_2(lam_mu_list,update_func_3)"
   ]
  },
  {
   "cell_type": "code",
   "execution_count": 56,
   "metadata": {
    "ExecuteTime": {
     "end_time": "2022-02-22T08:20:07.494757Z",
     "start_time": "2022-02-22T08:19:36.672980Z"
    }
   },
   "outputs": [
    {
     "data": {
      "text/html": [
       "<div>\n",
       "<style scoped>\n",
       "    .dataframe tbody tr th:only-of-type {\n",
       "        vertical-align: middle;\n",
       "    }\n",
       "\n",
       "    .dataframe tbody tr th {\n",
       "        vertical-align: top;\n",
       "    }\n",
       "\n",
       "    .dataframe thead th {\n",
       "        text-align: right;\n",
       "    }\n",
       "</style>\n",
       "<table border=\"1\" class=\"dataframe\">\n",
       "  <thead>\n",
       "    <tr style=\"text-align: right;\">\n",
       "      <th></th>\n",
       "      <th>lam</th>\n",
       "      <th>mu</th>\n",
       "      <th>0</th>\n",
       "      <th>1</th>\n",
       "      <th>2</th>\n",
       "      <th>3</th>\n",
       "      <th>4</th>\n",
       "      <th>5</th>\n",
       "      <th>6</th>\n",
       "      <th>7</th>\n",
       "      <th>8</th>\n",
       "      <th>9</th>\n",
       "    </tr>\n",
       "  </thead>\n",
       "  <tbody>\n",
       "    <tr>\n",
       "      <th>0</th>\n",
       "      <td>0.02</td>\n",
       "      <td>0.2</td>\n",
       "      <td>0.625000</td>\n",
       "      <td>0.333333</td>\n",
       "      <td>0.475000</td>\n",
       "      <td>0.408333</td>\n",
       "      <td>0.633333</td>\n",
       "      <td>0.491667</td>\n",
       "      <td>0.216667</td>\n",
       "      <td>0.441667</td>\n",
       "      <td>0.400000</td>\n",
       "      <td>0.491667</td>\n",
       "    </tr>\n",
       "    <tr>\n",
       "      <th>1</th>\n",
       "      <td>0.04</td>\n",
       "      <td>0.2</td>\n",
       "      <td>1.191667</td>\n",
       "      <td>0.925000</td>\n",
       "      <td>0.933333</td>\n",
       "      <td>1.108333</td>\n",
       "      <td>0.500000</td>\n",
       "      <td>1.200000</td>\n",
       "      <td>0.966667</td>\n",
       "      <td>0.808333</td>\n",
       "      <td>1.041667</td>\n",
       "      <td>0.550000</td>\n",
       "    </tr>\n",
       "    <tr>\n",
       "      <th>2</th>\n",
       "      <td>0.06</td>\n",
       "      <td>0.2</td>\n",
       "      <td>1.075000</td>\n",
       "      <td>1.266667</td>\n",
       "      <td>1.783333</td>\n",
       "      <td>1.283333</td>\n",
       "      <td>0.841667</td>\n",
       "      <td>1.575000</td>\n",
       "      <td>2.000000</td>\n",
       "      <td>1.033333</td>\n",
       "      <td>1.058333</td>\n",
       "      <td>1.508333</td>\n",
       "    </tr>\n",
       "    <tr>\n",
       "      <th>3</th>\n",
       "      <td>0.08</td>\n",
       "      <td>0.2</td>\n",
       "      <td>1.858333</td>\n",
       "      <td>1.583333</td>\n",
       "      <td>1.300000</td>\n",
       "      <td>1.600000</td>\n",
       "      <td>2.241667</td>\n",
       "      <td>2.808333</td>\n",
       "      <td>1.408333</td>\n",
       "      <td>1.575000</td>\n",
       "      <td>2.083333</td>\n",
       "      <td>1.250000</td>\n",
       "    </tr>\n",
       "    <tr>\n",
       "      <th>4</th>\n",
       "      <td>0.10</td>\n",
       "      <td>0.2</td>\n",
       "      <td>2.833333</td>\n",
       "      <td>2.766667</td>\n",
       "      <td>3.166667</td>\n",
       "      <td>2.233333</td>\n",
       "      <td>2.125000</td>\n",
       "      <td>2.733333</td>\n",
       "      <td>2.666667</td>\n",
       "      <td>3.708333</td>\n",
       "      <td>1.966667</td>\n",
       "      <td>2.375000</td>\n",
       "    </tr>\n",
       "    <tr>\n",
       "      <th>5</th>\n",
       "      <td>0.12</td>\n",
       "      <td>0.2</td>\n",
       "      <td>4.050000</td>\n",
       "      <td>3.300000</td>\n",
       "      <td>3.841667</td>\n",
       "      <td>3.850000</td>\n",
       "      <td>2.691667</td>\n",
       "      <td>3.341667</td>\n",
       "      <td>2.883333</td>\n",
       "      <td>2.166667</td>\n",
       "      <td>2.725000</td>\n",
       "      <td>4.466667</td>\n",
       "    </tr>\n",
       "    <tr>\n",
       "      <th>6</th>\n",
       "      <td>0.14</td>\n",
       "      <td>0.2</td>\n",
       "      <td>3.458333</td>\n",
       "      <td>2.933333</td>\n",
       "      <td>5.475000</td>\n",
       "      <td>5.941667</td>\n",
       "      <td>4.116667</td>\n",
       "      <td>3.941667</td>\n",
       "      <td>3.100000</td>\n",
       "      <td>5.200000</td>\n",
       "      <td>4.433333</td>\n",
       "      <td>4.150000</td>\n",
       "    </tr>\n",
       "    <tr>\n",
       "      <th>7</th>\n",
       "      <td>0.16</td>\n",
       "      <td>0.2</td>\n",
       "      <td>3.766667</td>\n",
       "      <td>4.041667</td>\n",
       "      <td>4.016667</td>\n",
       "      <td>3.925000</td>\n",
       "      <td>4.850000</td>\n",
       "      <td>3.716667</td>\n",
       "      <td>4.491667</td>\n",
       "      <td>2.508333</td>\n",
       "      <td>4.250000</td>\n",
       "      <td>3.875000</td>\n",
       "    </tr>\n",
       "  </tbody>\n",
       "</table>\n",
       "</div>"
      ],
      "text/plain": [
       "    lam   mu         0         1         2         3         4         5  \\\n",
       "0  0.02  0.2  0.625000  0.333333  0.475000  0.408333  0.633333  0.491667   \n",
       "1  0.04  0.2  1.191667  0.925000  0.933333  1.108333  0.500000  1.200000   \n",
       "2  0.06  0.2  1.075000  1.266667  1.783333  1.283333  0.841667  1.575000   \n",
       "3  0.08  0.2  1.858333  1.583333  1.300000  1.600000  2.241667  2.808333   \n",
       "4  0.10  0.2  2.833333  2.766667  3.166667  2.233333  2.125000  2.733333   \n",
       "5  0.12  0.2  4.050000  3.300000  3.841667  3.850000  2.691667  3.341667   \n",
       "6  0.14  0.2  3.458333  2.933333  5.475000  5.941667  4.116667  3.941667   \n",
       "7  0.16  0.2  3.766667  4.041667  4.016667  3.925000  4.850000  3.716667   \n",
       "\n",
       "          6         7         8         9  \n",
       "0  0.216667  0.441667  0.400000  0.491667  \n",
       "1  0.966667  0.808333  1.041667  0.550000  \n",
       "2  2.000000  1.033333  1.058333  1.508333  \n",
       "3  1.408333  1.575000  2.083333  1.250000  \n",
       "4  2.666667  3.708333  1.966667  2.375000  \n",
       "5  2.883333  2.166667  2.725000  4.466667  \n",
       "6  3.100000  5.200000  4.433333  4.150000  \n",
       "7  4.491667  2.508333  4.250000  3.875000  "
      ]
     },
     "execution_count": 56,
     "metadata": {},
     "output_type": "execute_result"
    }
   ],
   "source": [
    "W_values_DF3 = pd.DataFrame()\n",
    "W_values_DF3['lam'] = test_create_lam_list(0.2)['lam']\n",
    "W_values_DF3['mu'] = 0.2\n",
    "# W_values_DF2\n",
    "\n",
    "for i in range(10):\n",
    "    W_values_DF3[i] = generate_SweepSeries_2(test_create_lam_list(0.2),update_func_3)\n",
    "    \n",
    "W_values_DF3"
   ]
  },
  {
   "cell_type": "code",
   "execution_count": 57,
   "metadata": {
    "ExecuteTime": {
     "end_time": "2022-02-22T08:20:17.384312Z",
     "start_time": "2022-02-22T08:20:17.370351Z"
    },
    "scrolled": true
   },
   "outputs": [
    {
     "data": {
      "text/html": [
       "<div>\n",
       "<style scoped>\n",
       "    .dataframe tbody tr th:only-of-type {\n",
       "        vertical-align: middle;\n",
       "    }\n",
       "\n",
       "    .dataframe tbody tr th {\n",
       "        vertical-align: top;\n",
       "    }\n",
       "\n",
       "    .dataframe thead th {\n",
       "        text-align: right;\n",
       "    }\n",
       "</style>\n",
       "<table border=\"1\" class=\"dataframe\">\n",
       "  <thead>\n",
       "    <tr style=\"text-align: right;\">\n",
       "      <th></th>\n",
       "      <th>lam</th>\n",
       "      <th>mu</th>\n",
       "      <th>0</th>\n",
       "      <th>1</th>\n",
       "      <th>2</th>\n",
       "      <th>3</th>\n",
       "      <th>4</th>\n",
       "      <th>5</th>\n",
       "      <th>6</th>\n",
       "      <th>7</th>\n",
       "      <th>8</th>\n",
       "      <th>9</th>\n",
       "      <th>average10</th>\n",
       "    </tr>\n",
       "  </thead>\n",
       "  <tbody>\n",
       "    <tr>\n",
       "      <th>0</th>\n",
       "      <td>0.02</td>\n",
       "      <td>0.2</td>\n",
       "      <td>0.625000</td>\n",
       "      <td>0.333333</td>\n",
       "      <td>0.475000</td>\n",
       "      <td>0.408333</td>\n",
       "      <td>0.633333</td>\n",
       "      <td>0.491667</td>\n",
       "      <td>0.216667</td>\n",
       "      <td>0.441667</td>\n",
       "      <td>0.400000</td>\n",
       "      <td>0.491667</td>\n",
       "      <td>0.451667</td>\n",
       "    </tr>\n",
       "    <tr>\n",
       "      <th>1</th>\n",
       "      <td>0.04</td>\n",
       "      <td>0.2</td>\n",
       "      <td>1.191667</td>\n",
       "      <td>0.925000</td>\n",
       "      <td>0.933333</td>\n",
       "      <td>1.108333</td>\n",
       "      <td>0.500000</td>\n",
       "      <td>1.200000</td>\n",
       "      <td>0.966667</td>\n",
       "      <td>0.808333</td>\n",
       "      <td>1.041667</td>\n",
       "      <td>0.550000</td>\n",
       "      <td>0.922500</td>\n",
       "    </tr>\n",
       "    <tr>\n",
       "      <th>2</th>\n",
       "      <td>0.06</td>\n",
       "      <td>0.2</td>\n",
       "      <td>1.075000</td>\n",
       "      <td>1.266667</td>\n",
       "      <td>1.783333</td>\n",
       "      <td>1.283333</td>\n",
       "      <td>0.841667</td>\n",
       "      <td>1.575000</td>\n",
       "      <td>2.000000</td>\n",
       "      <td>1.033333</td>\n",
       "      <td>1.058333</td>\n",
       "      <td>1.508333</td>\n",
       "      <td>1.342500</td>\n",
       "    </tr>\n",
       "    <tr>\n",
       "      <th>3</th>\n",
       "      <td>0.08</td>\n",
       "      <td>0.2</td>\n",
       "      <td>1.858333</td>\n",
       "      <td>1.583333</td>\n",
       "      <td>1.300000</td>\n",
       "      <td>1.600000</td>\n",
       "      <td>2.241667</td>\n",
       "      <td>2.808333</td>\n",
       "      <td>1.408333</td>\n",
       "      <td>1.575000</td>\n",
       "      <td>2.083333</td>\n",
       "      <td>1.250000</td>\n",
       "      <td>1.770833</td>\n",
       "    </tr>\n",
       "    <tr>\n",
       "      <th>4</th>\n",
       "      <td>0.10</td>\n",
       "      <td>0.2</td>\n",
       "      <td>2.833333</td>\n",
       "      <td>2.766667</td>\n",
       "      <td>3.166667</td>\n",
       "      <td>2.233333</td>\n",
       "      <td>2.125000</td>\n",
       "      <td>2.733333</td>\n",
       "      <td>2.666667</td>\n",
       "      <td>3.708333</td>\n",
       "      <td>1.966667</td>\n",
       "      <td>2.375000</td>\n",
       "      <td>2.657500</td>\n",
       "    </tr>\n",
       "    <tr>\n",
       "      <th>5</th>\n",
       "      <td>0.12</td>\n",
       "      <td>0.2</td>\n",
       "      <td>4.050000</td>\n",
       "      <td>3.300000</td>\n",
       "      <td>3.841667</td>\n",
       "      <td>3.850000</td>\n",
       "      <td>2.691667</td>\n",
       "      <td>3.341667</td>\n",
       "      <td>2.883333</td>\n",
       "      <td>2.166667</td>\n",
       "      <td>2.725000</td>\n",
       "      <td>4.466667</td>\n",
       "      <td>3.331667</td>\n",
       "    </tr>\n",
       "    <tr>\n",
       "      <th>6</th>\n",
       "      <td>0.14</td>\n",
       "      <td>0.2</td>\n",
       "      <td>3.458333</td>\n",
       "      <td>2.933333</td>\n",
       "      <td>5.475000</td>\n",
       "      <td>5.941667</td>\n",
       "      <td>4.116667</td>\n",
       "      <td>3.941667</td>\n",
       "      <td>3.100000</td>\n",
       "      <td>5.200000</td>\n",
       "      <td>4.433333</td>\n",
       "      <td>4.150000</td>\n",
       "      <td>4.275000</td>\n",
       "    </tr>\n",
       "    <tr>\n",
       "      <th>7</th>\n",
       "      <td>0.16</td>\n",
       "      <td>0.2</td>\n",
       "      <td>3.766667</td>\n",
       "      <td>4.041667</td>\n",
       "      <td>4.016667</td>\n",
       "      <td>3.925000</td>\n",
       "      <td>4.850000</td>\n",
       "      <td>3.716667</td>\n",
       "      <td>4.491667</td>\n",
       "      <td>2.508333</td>\n",
       "      <td>4.250000</td>\n",
       "      <td>3.875000</td>\n",
       "      <td>3.944167</td>\n",
       "    </tr>\n",
       "  </tbody>\n",
       "</table>\n",
       "</div>"
      ],
      "text/plain": [
       "    lam   mu         0         1         2         3         4         5  \\\n",
       "0  0.02  0.2  0.625000  0.333333  0.475000  0.408333  0.633333  0.491667   \n",
       "1  0.04  0.2  1.191667  0.925000  0.933333  1.108333  0.500000  1.200000   \n",
       "2  0.06  0.2  1.075000  1.266667  1.783333  1.283333  0.841667  1.575000   \n",
       "3  0.08  0.2  1.858333  1.583333  1.300000  1.600000  2.241667  2.808333   \n",
       "4  0.10  0.2  2.833333  2.766667  3.166667  2.233333  2.125000  2.733333   \n",
       "5  0.12  0.2  4.050000  3.300000  3.841667  3.850000  2.691667  3.341667   \n",
       "6  0.14  0.2  3.458333  2.933333  5.475000  5.941667  4.116667  3.941667   \n",
       "7  0.16  0.2  3.766667  4.041667  4.016667  3.925000  4.850000  3.716667   \n",
       "\n",
       "          6         7         8         9  average10  \n",
       "0  0.216667  0.441667  0.400000  0.491667   0.451667  \n",
       "1  0.966667  0.808333  1.041667  0.550000   0.922500  \n",
       "2  2.000000  1.033333  1.058333  1.508333   1.342500  \n",
       "3  1.408333  1.575000  2.083333  1.250000   1.770833  \n",
       "4  2.666667  3.708333  1.966667  2.375000   2.657500  \n",
       "5  2.883333  2.166667  2.725000  4.466667   3.331667  \n",
       "6  3.100000  5.200000  4.433333  4.150000   4.275000  \n",
       "7  4.491667  2.508333  4.250000  3.875000   3.944167  "
      ]
     },
     "execution_count": 57,
     "metadata": {},
     "output_type": "execute_result"
    }
   ],
   "source": [
    "W_values_DF3['average10'] = W_values_DF3[W_values_DF3.columns[2:]].mean(axis = 1)\n",
    "W_values_DF3"
   ]
  },
  {
   "cell_type": "code",
   "execution_count": 47,
   "metadata": {
    "ExecuteTime": {
     "end_time": "2022-02-22T08:18:20.232458Z",
     "start_time": "2022-02-22T08:18:20.217498Z"
    }
   },
   "outputs": [
    {
     "data": {
      "text/html": [
       "<div>\n",
       "<style scoped>\n",
       "    .dataframe tbody tr th:only-of-type {\n",
       "        vertical-align: middle;\n",
       "    }\n",
       "\n",
       "    .dataframe tbody tr th {\n",
       "        vertical-align: top;\n",
       "    }\n",
       "\n",
       "    .dataframe thead th {\n",
       "        text-align: right;\n",
       "    }\n",
       "</style>\n",
       "<table border=\"1\" class=\"dataframe\">\n",
       "  <thead>\n",
       "    <tr style=\"text-align: right;\">\n",
       "      <th></th>\n",
       "      <th>lam</th>\n",
       "      <th>mu</th>\n",
       "      <th>0</th>\n",
       "      <th>1</th>\n",
       "      <th>2</th>\n",
       "      <th>3</th>\n",
       "      <th>4</th>\n",
       "      <th>5</th>\n",
       "      <th>6</th>\n",
       "      <th>7</th>\n",
       "      <th>8</th>\n",
       "      <th>9</th>\n",
       "      <th>average10</th>\n",
       "    </tr>\n",
       "  </thead>\n",
       "  <tbody>\n",
       "    <tr>\n",
       "      <th>0</th>\n",
       "      <td>0.02</td>\n",
       "      <td>0.2</td>\n",
       "      <td>0.391015</td>\n",
       "      <td>0.366057</td>\n",
       "      <td>0.440932</td>\n",
       "      <td>0.424293</td>\n",
       "      <td>0.440932</td>\n",
       "      <td>0.806988</td>\n",
       "      <td>0.391015</td>\n",
       "      <td>0.440932</td>\n",
       "      <td>0.191348</td>\n",
       "      <td>0.407654</td>\n",
       "      <td>0.430116</td>\n",
       "    </tr>\n",
       "    <tr>\n",
       "      <th>1</th>\n",
       "      <td>0.04</td>\n",
       "      <td>0.2</td>\n",
       "      <td>0.773710</td>\n",
       "      <td>1.547421</td>\n",
       "      <td>1.480865</td>\n",
       "      <td>1.389351</td>\n",
       "      <td>0.906822</td>\n",
       "      <td>0.998336</td>\n",
       "      <td>0.815308</td>\n",
       "      <td>0.848586</td>\n",
       "      <td>1.655574</td>\n",
       "      <td>0.965058</td>\n",
       "      <td>1.138103</td>\n",
       "    </tr>\n",
       "    <tr>\n",
       "      <th>2</th>\n",
       "      <td>0.06</td>\n",
       "      <td>0.2</td>\n",
       "      <td>1.763727</td>\n",
       "      <td>1.780366</td>\n",
       "      <td>3.094842</td>\n",
       "      <td>3.061564</td>\n",
       "      <td>1.331115</td>\n",
       "      <td>1.530782</td>\n",
       "      <td>3.801997</td>\n",
       "      <td>3.602329</td>\n",
       "      <td>1.913478</td>\n",
       "      <td>1.489185</td>\n",
       "      <td>2.336938</td>\n",
       "    </tr>\n",
       "    <tr>\n",
       "      <th>3</th>\n",
       "      <td>0.08</td>\n",
       "      <td>0.2</td>\n",
       "      <td>2.296173</td>\n",
       "      <td>1.971714</td>\n",
       "      <td>3.519135</td>\n",
       "      <td>1.988353</td>\n",
       "      <td>1.663894</td>\n",
       "      <td>3.044925</td>\n",
       "      <td>2.054908</td>\n",
       "      <td>3.094842</td>\n",
       "      <td>3.119800</td>\n",
       "      <td>4.242928</td>\n",
       "      <td>2.699667</td>\n",
       "    </tr>\n",
       "    <tr>\n",
       "      <th>4</th>\n",
       "      <td>0.10</td>\n",
       "      <td>0.2</td>\n",
       "      <td>3.976705</td>\n",
       "      <td>4.276206</td>\n",
       "      <td>4.292845</td>\n",
       "      <td>6.381032</td>\n",
       "      <td>4.101498</td>\n",
       "      <td>4.026622</td>\n",
       "      <td>4.792013</td>\n",
       "      <td>3.036606</td>\n",
       "      <td>3.527454</td>\n",
       "      <td>5.008319</td>\n",
       "      <td>4.341930</td>\n",
       "    </tr>\n",
       "    <tr>\n",
       "      <th>5</th>\n",
       "      <td>0.12</td>\n",
       "      <td>0.2</td>\n",
       "      <td>6.256240</td>\n",
       "      <td>6.422629</td>\n",
       "      <td>5.316140</td>\n",
       "      <td>6.838602</td>\n",
       "      <td>4.933444</td>\n",
       "      <td>10.599002</td>\n",
       "      <td>8.710483</td>\n",
       "      <td>20.948419</td>\n",
       "      <td>8.178037</td>\n",
       "      <td>3.885191</td>\n",
       "      <td>8.208819</td>\n",
       "    </tr>\n",
       "    <tr>\n",
       "      <th>6</th>\n",
       "      <td>0.14</td>\n",
       "      <td>0.2</td>\n",
       "      <td>5.349418</td>\n",
       "      <td>9.251248</td>\n",
       "      <td>6.214642</td>\n",
       "      <td>9.517471</td>\n",
       "      <td>13.003328</td>\n",
       "      <td>8.069884</td>\n",
       "      <td>4.941764</td>\n",
       "      <td>10.565724</td>\n",
       "      <td>32.071547</td>\n",
       "      <td>7.071547</td>\n",
       "      <td>10.605657</td>\n",
       "    </tr>\n",
       "    <tr>\n",
       "      <th>7</th>\n",
       "      <td>0.16</td>\n",
       "      <td>0.2</td>\n",
       "      <td>8.785358</td>\n",
       "      <td>12.720466</td>\n",
       "      <td>11.056572</td>\n",
       "      <td>11.372712</td>\n",
       "      <td>15.149750</td>\n",
       "      <td>6.896839</td>\n",
       "      <td>7.079867</td>\n",
       "      <td>14.101498</td>\n",
       "      <td>11.372712</td>\n",
       "      <td>8.361065</td>\n",
       "      <td>10.689684</td>\n",
       "    </tr>\n",
       "  </tbody>\n",
       "</table>\n",
       "</div>"
      ],
      "text/plain": [
       "    lam   mu         0          1          2          3          4          5  \\\n",
       "0  0.02  0.2  0.391015   0.366057   0.440932   0.424293   0.440932   0.806988   \n",
       "1  0.04  0.2  0.773710   1.547421   1.480865   1.389351   0.906822   0.998336   \n",
       "2  0.06  0.2  1.763727   1.780366   3.094842   3.061564   1.331115   1.530782   \n",
       "3  0.08  0.2  2.296173   1.971714   3.519135   1.988353   1.663894   3.044925   \n",
       "4  0.10  0.2  3.976705   4.276206   4.292845   6.381032   4.101498   4.026622   \n",
       "5  0.12  0.2  6.256240   6.422629   5.316140   6.838602   4.933444  10.599002   \n",
       "6  0.14  0.2  5.349418   9.251248   6.214642   9.517471  13.003328   8.069884   \n",
       "7  0.16  0.2  8.785358  12.720466  11.056572  11.372712  15.149750   6.896839   \n",
       "\n",
       "          6          7          8         9  average10  \n",
       "0  0.391015   0.440932   0.191348  0.407654   0.430116  \n",
       "1  0.815308   0.848586   1.655574  0.965058   1.138103  \n",
       "2  3.801997   3.602329   1.913478  1.489185   2.336938  \n",
       "3  2.054908   3.094842   3.119800  4.242928   2.699667  \n",
       "4  4.792013   3.036606   3.527454  5.008319   4.341930  \n",
       "5  8.710483  20.948419   8.178037  3.885191   8.208819  \n",
       "6  4.941764  10.565724  32.071547  7.071547  10.605657  \n",
       "7  7.079867  14.101498  11.372712  8.361065  10.689684  "
      ]
     },
     "execution_count": 47,
     "metadata": {},
     "output_type": "execute_result"
    }
   ],
   "source": [
    "W_values_DF"
   ]
  },
  {
   "cell_type": "code",
   "execution_count": 62,
   "metadata": {
    "ExecuteTime": {
     "end_time": "2022-02-22T08:23:00.038185Z",
     "start_time": "2022-02-22T08:23:00.030181Z"
    }
   },
   "outputs": [],
   "source": [
    "W_values_3_approachs = pd.DataFrame()\n",
    "W_values_3_approachs['1_one_line'] = W_values_DF['average10']\n",
    "W_values_3_approachs['2_one_line_two_counter'] = W_values_DF2['average10']\n",
    "W_values_3_approachs['3_two_line'] = W_values_DF3['average10']"
   ]
  },
  {
   "cell_type": "code",
   "execution_count": 63,
   "metadata": {
    "ExecuteTime": {
     "end_time": "2022-02-22T08:23:00.836575Z",
     "start_time": "2022-02-22T08:23:00.827599Z"
    }
   },
   "outputs": [
    {
     "data": {
      "text/html": [
       "<div>\n",
       "<style scoped>\n",
       "    .dataframe tbody tr th:only-of-type {\n",
       "        vertical-align: middle;\n",
       "    }\n",
       "\n",
       "    .dataframe tbody tr th {\n",
       "        vertical-align: top;\n",
       "    }\n",
       "\n",
       "    .dataframe thead th {\n",
       "        text-align: right;\n",
       "    }\n",
       "</style>\n",
       "<table border=\"1\" class=\"dataframe\">\n",
       "  <thead>\n",
       "    <tr style=\"text-align: right;\">\n",
       "      <th></th>\n",
       "      <th>1_one_line</th>\n",
       "      <th>2_one_line_two_counter</th>\n",
       "      <th>3_two_line</th>\n",
       "    </tr>\n",
       "  </thead>\n",
       "  <tbody>\n",
       "    <tr>\n",
       "      <th>0</th>\n",
       "      <td>0.430116</td>\n",
       "      <td>0.491681</td>\n",
       "      <td>0.451667</td>\n",
       "    </tr>\n",
       "    <tr>\n",
       "      <th>1</th>\n",
       "      <td>1.138103</td>\n",
       "      <td>1.023295</td>\n",
       "      <td>0.922500</td>\n",
       "    </tr>\n",
       "    <tr>\n",
       "      <th>2</th>\n",
       "      <td>2.336938</td>\n",
       "      <td>1.391847</td>\n",
       "      <td>1.342500</td>\n",
       "    </tr>\n",
       "    <tr>\n",
       "      <th>3</th>\n",
       "      <td>2.699667</td>\n",
       "      <td>1.893511</td>\n",
       "      <td>1.770833</td>\n",
       "    </tr>\n",
       "    <tr>\n",
       "      <th>4</th>\n",
       "      <td>4.341930</td>\n",
       "      <td>2.473378</td>\n",
       "      <td>2.657500</td>\n",
       "    </tr>\n",
       "    <tr>\n",
       "      <th>5</th>\n",
       "      <td>8.208819</td>\n",
       "      <td>2.860233</td>\n",
       "      <td>3.331667</td>\n",
       "    </tr>\n",
       "    <tr>\n",
       "      <th>6</th>\n",
       "      <td>10.605657</td>\n",
       "      <td>3.776206</td>\n",
       "      <td>4.275000</td>\n",
       "    </tr>\n",
       "    <tr>\n",
       "      <th>7</th>\n",
       "      <td>10.689684</td>\n",
       "      <td>4.440100</td>\n",
       "      <td>3.944167</td>\n",
       "    </tr>\n",
       "  </tbody>\n",
       "</table>\n",
       "</div>"
      ],
      "text/plain": [
       "   1_one_line  2_one_line_two_counter  3_two_line\n",
       "0    0.430116                0.491681    0.451667\n",
       "1    1.138103                1.023295    0.922500\n",
       "2    2.336938                1.391847    1.342500\n",
       "3    2.699667                1.893511    1.770833\n",
       "4    4.341930                2.473378    2.657500\n",
       "5    8.208819                2.860233    3.331667\n",
       "6   10.605657                3.776206    4.275000\n",
       "7   10.689684                4.440100    3.944167"
      ]
     },
     "execution_count": 63,
     "metadata": {},
     "output_type": "execute_result"
    }
   ],
   "source": [
    "W_values_3_approachs"
   ]
  },
  {
   "cell_type": "code",
   "execution_count": 60,
   "metadata": {
    "ExecuteTime": {
     "end_time": "2022-02-22T08:21:17.880992Z",
     "start_time": "2022-02-22T08:21:17.873986Z"
    }
   },
   "outputs": [],
   "source": [
    "import seaborn as sns"
   ]
  },
  {
   "cell_type": "code",
   "execution_count": 64,
   "metadata": {
    "ExecuteTime": {
     "end_time": "2022-02-22T08:23:04.995244Z",
     "start_time": "2022-02-22T08:23:04.835677Z"
    }
   },
   "outputs": [
    {
     "data": {
      "text/plain": [
       "<matplotlib.axes._subplots.AxesSubplot at 0x1a52f8d8400>"
      ]
     },
     "execution_count": 64,
     "metadata": {},
     "output_type": "execute_result"
    },
    {
     "data": {
      "image/png": "[encoded data removed]",
      "text/plain": [
       "<Figure size 432x288 with 1 Axes>"
      ]
     },
     "metadata": {
      "needs_background": "light"
     },
     "output_type": "display_data"
    }
   ],
   "source": [
    "sns.lineplot(data = W_values_3_approachs)"
   ]
  },
  {
   "cell_type": "code",
   "execution_count": null,
   "metadata": {},
   "outputs": [],
   "source": []
  },
  {
   "cell_type": "code",
   "execution_count": null,
   "metadata": {},
   "outputs": [],
   "source": []
  }
 ],
 "metadata": {
  "kernelspec": {
   "display_name": "Python 3",
   "language": "python",
   "name": "python3"
  },
  "language_info": {
   "codemirror_mode": {
    "name": "ipython",
    "version": 3
   },
   "file_extension": ".py",
   "mimetype": "text/x-python",
   "name": "python",
   "nbconvert_exporter": "python",
   "pygments_lexer": "ipython3",
   "version": "3.7.1"
  },
  "toc": {
   "base_numbering": 1,
   "nav_menu": {},
   "number_sections": true,
   "sideBar": true,
   "skip_h1_title": false,
   "title_cell": "Table of Contents",
   "title_sidebar": "Contents",
   "toc_cell": true,
   "toc_position": {},
   "toc_section_display": true,
   "toc_window_display": false
  },
  "varInspector": {
   "cols": {
    "lenName": 16,
    "lenType": 16,
    "lenVar": 40
   },
   "kernels_config": {
    "python": {
     "delete_cmd_postfix": "",
     "delete_cmd_prefix": "del ",
     "library": "var_list.py",
     "varRefreshCmd": "print(var_dic_list())"
    },
    "r": {
     "delete_cmd_postfix": ") ",
     "delete_cmd_prefix": "rm(",
     "library": "var_list.r",
     "varRefreshCmd": "cat(var_dic_list()) "
    }
   },
   "types_to_exclude": [
    "module",
    "function",
    "builtin_function_or_method",
    "instance",
    "_Feature"
   ],
   "window_display": false
  }
 },
 "nbformat": 4,
 "nbformat_minor": 2
}
