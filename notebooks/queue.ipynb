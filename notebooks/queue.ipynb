{
 "cells": [
  {
   "cell_type": "markdown",
   "metadata": {},
   "source": [
    "# Modeling and Simulation in Python\n",
    "\n",
    "Case Study: Queueing theory\n",
    "\n",
    "Copyright 2017 Allen Downey\n",
    "\n",
    "License: [Creative Commons Attribution 4.0 International](https://creativecommons.org/licenses/by/4.0)\n"
   ]
  },
  {
   "cell_type": "code",
   "execution_count": 175,
   "metadata": {},
   "outputs": [],
   "source": [
    "# Configure Jupyter so figures appear in the notebook\r\n",
    "%matplotlib inline\r\n",
    "\r\n",
    "# Configure Jupyter to display the assigned value after an assignment\r\n",
    "%config InteractiveShell.ast_node_interactivity='last_expr_or_assign'\r\n",
    "\r\n",
    "# import functions from the modsim.py module\r\n",
    "from modsim import *\r\n",
    "\r\n",
    "import numpy as np\r\n",
    "# set the random number generator\r\n",
    "np.random.seed(7)"
   ]
  },
  {
   "cell_type": "code",
   "execution_count": 2,
   "metadata": {},
   "outputs": [],
   "source": [
    "pd.options.display.max_rows=20"
   ]
  },
  {
   "cell_type": "markdown",
   "metadata": {},
   "source": [
    "## One queue or two?\n",
    "\n",
    "This notebook presents a solution to an exercise from *Modeling and Simulation in Python*.  It uses features from the first four chapters to answer a question related to queueing theory, which is the study of systems that involve waiting in lines, also known as \"queues\".\n",
    "\n",
    "Suppose you are designing the checkout area for a new store.  There is room for two checkout counters and a waiting area for customers.  You can make two lines, one for each counter, or one line that serves both counters.\n",
    "\n",
    "In theory, you might expect a single line to be better, but it has some practical drawbacks: in order to maintain a single line, you would have to install rope barriers, and customers might be put off by what seems to be a longer line, even if it moves faster.\n",
    "\n",
    "So you'd like to check whether the single line is really better and by how much.  Simulation can help answer this question.\n",
    "\n",
    "As we did in the bikeshare model, we'll assume that a customer is equally likely to arrive during any timestep.  I'll denote this probability using the Greek letter lambda, $\\lambda$, or the variable name `lam`.  The value of $\\lambda$ probably varies from day to day, so we'll have to consider a range of possibilities.\n",
    "\n",
    "Based on data from other stores, you know that it takes 5 minutes for a customer to check out, on average.  But checkout times are highly variable: most customers take less than 5 minutes, but some take substantially more.  A simple way to model this variability is to assume that when a customer is checking out, they have the same probability of finishing up during each time step.  I'll denote this probability using the Greek letter mu, $\\mu$, or the variable name `mu`.\n",
    "\n",
    "If we choose $\\mu=1/5$, the average number of time steps for each checkout will be 5 minutes, which is consistent with the data."
   ]
  },
  {
   "cell_type": "markdown",
   "metadata": {},
   "source": [
    "### One server, one queue\n",
    "\n",
    "Write a function called `make_system` that takes `lam` and `mu` as parameters and returns a `System` object with variables `lam`, `mu`, and `duration`.  Set `duration`, which is the number of time steps to simulate, to 10 hours, expressed in minutes. "
   ]
  },
  {
   "cell_type": "code",
   "execution_count": 3,
   "metadata": {},
   "outputs": [],
   "source": [
    "# Solution goes here\r\n",
    "def make_system(lam,mu):   \r\n",
    "    # lam denotes the prob that a customer arrive\r\n",
    "    # mu denotes the prob that a customer finished checkout\r\n",
    "    System = State(lam=lam,mu=mu,duration = 10*60)\r\n",
    "    return System"
   ]
  },
  {
   "cell_type": "markdown",
   "metadata": {},
   "source": [
    "Test this function by creating a `System` object with `lam=1/8` and `mu=1/5`."
   ]
  },
  {
   "cell_type": "code",
   "execution_count": 206,
   "metadata": {},
   "outputs": [
    {
     "data": {
      "text/html": "<div>\n<style scoped>\n    .dataframe tbody tr th:only-of-type {\n        vertical-align: middle;\n    }\n\n    .dataframe tbody tr th {\n        vertical-align: top;\n    }\n\n    .dataframe thead th {\n        text-align: right;\n    }\n</style>\n<table border=\"1\" class=\"dataframe\">\n  <thead>\n    <tr style=\"text-align: right;\">\n      <th></th>\n      <th>values</th>\n    </tr>\n  </thead>\n  <tbody>\n    <tr>\n      <th>lam</th>\n      <td>0.125</td>\n    </tr>\n    <tr>\n      <th>mu</th>\n      <td>0.200</td>\n    </tr>\n    <tr>\n      <th>duration</th>\n      <td>600.000</td>\n    </tr>\n  </tbody>\n</table>\n</div>",
      "text/plain": "lam           0.125\nmu            0.200\nduration    600.000\ndtype: float64"
     },
     "execution_count": 206,
     "metadata": {},
     "output_type": "execute_result"
    }
   ],
   "source": [
    "System = make_system(1/8,1/5)\r\n",
    "System"
   ]
  },
  {
   "cell_type": "markdown",
   "metadata": {},
   "source": [
    "Write an update function that takes as parameters `x`, which is the total number of customer in the store, including the one checking out; `t`, which is the number of minutes that have elapsed in the simulation, and `system`, which is a `System` object.\n",
    "\n",
    "If there's a customer checking out, it should use `flip` to decide whether they are done.  And it should use `flip` to decide if a new customer has arrived.\n",
    "\n",
    "It should return the total number of customers at the end of the time step.\n"
   ]
  },
  {
   "cell_type": "code",
   "execution_count": 15,
   "metadata": {},
   "outputs": [
    {
     "name": "stdout",
     "output_type": "stream",
     "text": [
      "\u001b[1;31mSignature:\u001b[0m \u001b[0mflip\u001b[0m\u001b[1;33m(\u001b[0m\u001b[0mp\u001b[0m\u001b[1;33m=\u001b[0m\u001b[1;36m0.5\u001b[0m\u001b[1;33m)\u001b[0m\u001b[1;33m\u001b[0m\u001b[1;33m\u001b[0m\u001b[0m\n",
      "\u001b[1;31mDocstring:\u001b[0m\n",
      "Flips a coin with the given probability.\n",
      "\n",
      "p: float 0-1\n",
      "\n",
      "returns: boolean (True or False)\n",
      "\u001b[1;31mFile:\u001b[0m      g:\\anaconda\\lib\\site-packages\\modsim\\modsim.py\n",
      "\u001b[1;31mType:\u001b[0m      function\n"
     ]
    }
   ],
   "source": [
    "flip?"
   ]
  },
  {
   "cell_type": "code",
   "execution_count": 5,
   "metadata": {},
   "outputs": [],
   "source": [
    "# Solution goes here\r\n",
    "def update_func_1(x,t,system):\r\n",
    "    t += 1\r\n",
    "    if x>0:\r\n",
    "        if flip(system.mu):\r\n",
    "            x -= 1\r\n",
    "    if flip(system.lam):\r\n",
    "        x += 1\r\n",
    "\r\n",
    "    return x"
   ]
  },
  {
   "cell_type": "markdown",
   "metadata": {},
   "source": [
    "Test your function by calling it with `x=1`, `t=0`, and the `System` object you created.  If you run it a few times, you should see different results."
   ]
  },
  {
   "cell_type": "code",
   "execution_count": 6,
   "metadata": {},
   "outputs": [
    {
     "data": {
      "text/plain": "0"
     },
     "execution_count": 6,
     "metadata": {},
     "output_type": "execute_result"
    }
   ],
   "source": [
    "# Solution goes here\r\n",
    "update_func_1(1,0,System)"
   ]
  },
  {
   "cell_type": "markdown",
   "metadata": {},
   "source": [
    "Now we can run the simulation.  Here's a version of `run_simulation` that creates a `TimeSeries` with the total number of customers in the store, including the one checking out."
   ]
  },
  {
   "cell_type": "code",
   "execution_count": 7,
   "metadata": {},
   "outputs": [],
   "source": [
    "def run_simulation(system, update_func):\n",
    "    \"\"\"Simulate a queueing system.\n",
    "    \n",
    "    system: System object\n",
    "    update_func: function object\n",
    "    \"\"\"\n",
    "    x = 0\n",
    "    results = TimeSeries()\n",
    "    results[0] = x\n",
    "    \n",
    "    for t in linrange(0, system.duration):\n",
    "        x = update_func(x, t, system)\n",
    "        results[t+1] = x\n",
    "\n",
    "    return results"
   ]
  },
  {
   "cell_type": "markdown",
   "metadata": {},
   "source": [
    "Call `run_simulation` with your update function and plot the results."
   ]
  },
  {
   "cell_type": "code",
   "execution_count": 8,
   "metadata": {},
   "outputs": [
    {
     "data": {
      "text/html": "<div>\n<style scoped>\n    .dataframe tbody tr th:only-of-type {\n        vertical-align: middle;\n    }\n\n    .dataframe tbody tr th {\n        vertical-align: top;\n    }\n\n    .dataframe thead th {\n        text-align: right;\n    }\n</style>\n<table border=\"1\" class=\"dataframe\">\n  <thead>\n    <tr style=\"text-align: right;\">\n      <th></th>\n      <th>values</th>\n    </tr>\n  </thead>\n  <tbody>\n    <tr>\n      <th>0</th>\n      <td>0</td>\n    </tr>\n    <tr>\n      <th>1</th>\n      <td>0</td>\n    </tr>\n    <tr>\n      <th>2</th>\n      <td>0</td>\n    </tr>\n    <tr>\n      <th>3</th>\n      <td>0</td>\n    </tr>\n    <tr>\n      <th>4</th>\n      <td>0</td>\n    </tr>\n    <tr>\n      <th>5</th>\n      <td>0</td>\n    </tr>\n    <tr>\n      <th>6</th>\n      <td>1</td>\n    </tr>\n    <tr>\n      <th>7</th>\n      <td>1</td>\n    </tr>\n    <tr>\n      <th>8</th>\n      <td>1</td>\n    </tr>\n    <tr>\n      <th>9</th>\n      <td>2</td>\n    </tr>\n    <tr>\n      <th>...</th>\n      <td>...</td>\n    </tr>\n    <tr>\n      <th>591</th>\n      <td>0</td>\n    </tr>\n    <tr>\n      <th>592</th>\n      <td>0</td>\n    </tr>\n    <tr>\n      <th>593</th>\n      <td>0</td>\n    </tr>\n    <tr>\n      <th>594</th>\n      <td>0</td>\n    </tr>\n    <tr>\n      <th>595</th>\n      <td>0</td>\n    </tr>\n    <tr>\n      <th>596</th>\n      <td>0</td>\n    </tr>\n    <tr>\n      <th>597</th>\n      <td>0</td>\n    </tr>\n    <tr>\n      <th>598</th>\n      <td>0</td>\n    </tr>\n    <tr>\n      <th>599</th>\n      <td>0</td>\n    </tr>\n    <tr>\n      <th>600</th>\n      <td>0</td>\n    </tr>\n  </tbody>\n</table>\n<p>601 rows × 1 columns</p>\n</div>",
      "text/plain": "0      0\n1      0\n2      0\n3      0\n4      0\n5      0\n6      1\n7      1\n8      1\n9      2\n      ..\n591    0\n592    0\n593    0\n594    0\n595    0\n596    0\n597    0\n598    0\n599    0\n600    0\nLength: 601, dtype: int64"
     },
     "execution_count": 8,
     "metadata": {},
     "output_type": "execute_result"
    }
   ],
   "source": [
    "# Solution goes here\r\n",
    "run_simulation(System,update_func_1)"
   ]
  },
  {
   "cell_type": "code",
   "execution_count": 9,
   "metadata": {},
   "outputs": [
    {
     "data": {
      "text/plain": "[<matplotlib.lines.Line2D at 0x2b273cab048>]"
     },
     "execution_count": 9,
     "metadata": {},
     "output_type": "execute_result"
    },
    {
     "data": {
      "image/png": "[encoded data removed]",
      "text/plain": "<Figure size 432x288 with 1 Axes>"
     },
     "metadata": {
      "needs_background": "light"
     },
     "output_type": "display_data"
    }
   ],
   "source": [
    "plot(run_simulation(System,update_func_1))"
   ]
  },
  {
   "cell_type": "markdown",
   "metadata": {},
   "source": [
    "After the simulation, we can compute `L`, which is the average number of customers in the system, and `W`, which is the average time customers spend in the store.  `L` and `W` are related by Little's Law:\n",
    "\n",
    "$L = \\lambda W$\n",
    "\n",
    "Where $\\lambda$ is the arrival rate.  Here's a function that computes them."
   ]
  },
  {
   "cell_type": "code",
   "execution_count": 10,
   "metadata": {},
   "outputs": [],
   "source": [
    "def compute_metrics(results, system):\r\n",
    "    \"\"\"Compute average number of customers and wait time.\r\n",
    "    \r\n",
    "    results: TimeSeries of queue lengths\r\n",
    "    system: System object\r\n",
    "    \r\n",
    "    returns: L, W\r\n",
    "    \"\"\"\r\n",
    "    L = results.mean()\r\n",
    "    W = L / system.mu\r\n",
    "    return L, W"
   ]
  },
  {
   "cell_type": "markdown",
   "metadata": {},
   "source": [
    "Call `compute_metrics` with the results from your simulation."
   ]
  },
  {
   "cell_type": "code",
   "execution_count": 11,
   "metadata": {},
   "outputs": [
    {
     "data": {
      "text/plain": "(1.2845257903494176, 6.422628951747088)"
     },
     "execution_count": 11,
     "metadata": {},
     "output_type": "execute_result"
    }
   ],
   "source": [
    "# Solution goes here\r\n",
    "compute_metrics(run_simulation(System,update_func_1),System)"
   ]
  },
  {
   "cell_type": "markdown",
   "metadata": {},
   "source": [
    "### Parameter sweep\n",
    "\n",
    "Since we don't know the actual value of $\\lambda$, we can sweep through a range of possibilities, from 10% to 80% of the completion rate, $\\mu$.  (If customers arrive faster than the completion rate, the queue grows without bound.  In that case the metrics `L` and `W` just depend on how long the store is open.)\n",
    "\n",
    "Create an array of values for `lam`."
   ]
  },
  {
   "cell_type": "markdown",
   "metadata": {},
   "source": [
    "Write a function that takes an array of values for `lam`, a single value for `mu`, and an update function.\n",
    "\n",
    "For each value of `lam`, it should run a simulation, compute `L` and `W`, and store the value of `W` in a `SweepSeries`.\n",
    "\n",
    "It should return the `SweepSeries`."
   ]
  },
  {
   "cell_type": "code",
   "execution_count": 12,
   "metadata": {},
   "outputs": [
    {
     "data": {
      "text/html": "<div>\n<style scoped>\n    .dataframe tbody tr th:only-of-type {\n        vertical-align: middle;\n    }\n\n    .dataframe tbody tr th {\n        vertical-align: top;\n    }\n\n    .dataframe thead th {\n        text-align: right;\n    }\n</style>\n<table border=\"1\" class=\"dataframe\">\n  <thead>\n    <tr style=\"text-align: right;\">\n      <th></th>\n      <th>0</th>\n      <th>1</th>\n      <th>2</th>\n      <th>3</th>\n      <th>4</th>\n      <th>5</th>\n      <th>6</th>\n      <th>7</th>\n    </tr>\n  </thead>\n  <tbody>\n    <tr>\n      <th>0</th>\n      <td>0.02</td>\n      <td>0.04</td>\n      <td>0.06</td>\n      <td>0.08</td>\n      <td>0.1</td>\n      <td>0.12</td>\n      <td>0.14</td>\n      <td>0.16</td>\n    </tr>\n    <tr>\n      <th>1</th>\n      <td>0.20</td>\n      <td>0.20</td>\n      <td>0.20</td>\n      <td>0.20</td>\n      <td>0.2</td>\n      <td>0.20</td>\n      <td>0.20</td>\n      <td>0.20</td>\n    </tr>\n  </tbody>\n</table>\n</div>",
      "text/plain": "      0     1     2     3    4     5     6     7\n0  0.02  0.04  0.06  0.08  0.1  0.12  0.14  0.16\n1  0.20  0.20  0.20  0.20  0.2  0.20  0.20  0.20"
     },
     "execution_count": 12,
     "metadata": {},
     "output_type": "execute_result"
    }
   ],
   "source": [
    "# Solution goes here\r\n",
    "def create_lam_spectrum(mu):\r\n",
    "    lam_list = DataFrame()\r\n",
    "    for i in range(8):\r\n",
    "        lam_list[i] = (0.1*(i+1)*mu,mu)\r\n",
    "    return lam_list\r\n",
    "\r\n",
    "create_lam_spectrum(1/5)"
   ]
  },
  {
   "cell_type": "code",
   "execution_count": 13,
   "metadata": {},
   "outputs": [
    {
     "data": {
      "text/plain": "0    0.16\n1    0.20\nName: 7, dtype: float64"
     },
     "execution_count": 13,
     "metadata": {},
     "output_type": "execute_result"
    }
   ],
   "source": [
    "lam_mu_list = create_lam_spectrum(1/5)\r\n",
    "lam_mu_list[7]"
   ]
  },
  {
   "cell_type": "code",
   "execution_count": 14,
   "metadata": {},
   "outputs": [
    {
     "data": {
      "text/plain": "Int64Index([0, 1, 2, 3, 4, 5, 6, 7], dtype='int64')"
     },
     "execution_count": 14,
     "metadata": {},
     "output_type": "execute_result"
    }
   ],
   "source": [
    "lam_mu_list.columns"
   ]
  },
  {
   "cell_type": "markdown",
   "metadata": {},
   "source": [
    "Call your function to generate a `SweepSeries`, and plot it."
   ]
  },
  {
   "cell_type": "code",
   "execution_count": 18,
   "metadata": {},
   "outputs": [
    {
     "data": {
      "text/html": "<div>\n<style scoped>\n    .dataframe tbody tr th:only-of-type {\n        vertical-align: middle;\n    }\n\n    .dataframe tbody tr th {\n        vertical-align: top;\n    }\n\n    .dataframe thead th {\n        text-align: right;\n    }\n</style>\n<table border=\"1\" class=\"dataframe\">\n  <thead>\n    <tr style=\"text-align: right;\">\n      <th></th>\n      <th>values</th>\n    </tr>\n  </thead>\n  <tbody>\n    <tr>\n      <th>0</th>\n      <td>0.391015</td>\n    </tr>\n    <tr>\n      <th>1</th>\n      <td>0.773710</td>\n    </tr>\n    <tr>\n      <th>2</th>\n      <td>1.763727</td>\n    </tr>\n    <tr>\n      <th>3</th>\n      <td>2.296173</td>\n    </tr>\n    <tr>\n      <th>4</th>\n      <td>3.976705</td>\n    </tr>\n    <tr>\n      <th>5</th>\n      <td>6.256240</td>\n    </tr>\n    <tr>\n      <th>6</th>\n      <td>5.349418</td>\n    </tr>\n    <tr>\n      <th>7</th>\n      <td>8.785358</td>\n    </tr>\n  </tbody>\n</table>\n</div>",
      "text/plain": "0    0.391015\n1    0.773710\n2    1.763727\n3    2.296173\n4    3.976705\n5    6.256240\n6    5.349418\n7    8.785358\ndtype: float64"
     },
     "execution_count": 18,
     "metadata": {},
     "output_type": "execute_result"
    }
   ],
   "source": [
    "# Solution goes here\r\n",
    "def generate_SweepSeries(lam_mu_list,update_func_1):\r\n",
    "    L_values = TimeSeries()\r\n",
    "    W_values = TimeSeries()\r\n",
    "\r\n",
    "    for i in lam_mu_list.columns:\r\n",
    "        System = make_system(lam_mu_list[i][0],lam_mu_list[i][1])\r\n",
    "        \r\n",
    "        L_values[i],W_values[i] = compute_metrics(run_simulation(System,update_func_1),System)\r\n",
    "\r\n",
    "\r\n",
    "    return W_values\r\n",
    "\r\n",
    "W_values = generate_SweepSeries(lam_mu_list,update_func_1)\r\n"
   ]
  },
  {
   "cell_type": "code",
   "execution_count": 13,
   "metadata": {},
   "outputs": [],
   "source": [
    "# Solution goes here"
   ]
  },
  {
   "cell_type": "markdown",
   "metadata": {},
   "source": [
    "If we imagine that this range of values represents arrival rates on different days, we can use the average value of `W`, for a range of values of `lam`, to compare different queueing strategies."
   ]
  },
  {
   "cell_type": "code",
   "execution_count": 19,
   "metadata": {},
   "outputs": [
    {
     "data": {
      "text/plain": "3.6990432612312807"
     },
     "execution_count": 19,
     "metadata": {},
     "output_type": "execute_result"
    }
   ],
   "source": [
    "W_avg = W_values.mean()"
   ]
  },
  {
   "cell_type": "markdown",
   "metadata": {},
   "source": [
    "### Analysis\n",
    "\n",
    "The model I chose for this system is a common model in queueing theory, in part because many of its properties can be derived analytically.\n",
    "\n",
    "In particular, we can derive the average time in the store as a function of $\\mu$ and $\\lambda$:\n",
    "\n",
    "$W = 1 / (\\mu - \\lambda)$\n",
    "\n",
    "The following function plots the theoretical value of $W$ as a function of $\\lambda$."
   ]
  },
  {
   "cell_type": "code",
   "execution_count": 20,
   "metadata": {},
   "outputs": [],
   "source": [
    "def plot_W(lam_array, mu):\n",
    "    \"\"\"Plot the theoretical mean wait time.\n",
    "    \n",
    "    lam_array: array of values for `lam`\n",
    "    mu: probability of finishing a checkout\n",
    "    \"\"\"\n",
    "    W = 1 / (mu - lam_array)\n",
    "    plot(lam_array, W, 'g-')"
   ]
  },
  {
   "cell_type": "markdown",
   "metadata": {},
   "source": [
    "Use this function to plot the theoretical results, then plot your simulation results again on the same graph.  How do they compare?"
   ]
  },
  {
   "cell_type": "code",
   "execution_count": 21,
   "metadata": {},
   "outputs": [
    {
     "data": {
      "image/png": "[encoded data removed]",
      "text/plain": "<Figure size 432x288 with 1 Axes>"
     },
     "metadata": {
      "needs_background": "light"
     },
     "output_type": "display_data"
    }
   ],
   "source": [
    "# Solution goes here\r\n",
    "plot_W(lam_mu_list.loc[0],lam_mu_list.loc[1])"
   ]
  },
  {
   "cell_type": "markdown",
   "metadata": {},
   "source": [
    "### Multiple servers\n",
    "\n",
    "Now let's try the other two queueing strategies:\n",
    "\n",
    "1.  One queue with two checkout counters.\n",
    "2.  Two queues, one for each counter.\n",
    "\n",
    "The following figure shows the three scenarios:\n",
    "\n",
    "![](diagrams/queue.png)\n",
    "\n",
    "Write an update function for one queue with two servers."
   ]
  },
  {
   "cell_type": "code",
   "execution_count": 200,
   "metadata": {},
   "outputs": [],
   "source": [
    "# Solution goes here\r\n",
    "def update_func_2(x,t,system):\r\n",
    "    t += 1\r\n",
    "    if x==1:\r\n",
    "        if np.random.binomial(1,system.mu):\r\n",
    "            x -= 1\r\n",
    "    if x>1:\r\n",
    "        if np.random.binomial(1,system.mu):\r\n",
    "            x -= 1\r\n",
    "        if np.random.binomial(1,system.mu):\r\n",
    "            x -= 1\r\n",
    "    \r\n",
    "    if np.random.binomial(1,system.lam):\r\n",
    "        x += 1\r\n",
    "\r\n",
    "    return x\r\n",
    "\r\n"
   ]
  },
  {
   "cell_type": "code",
   "execution_count": 56,
   "metadata": {},
   "outputs": [
    {
     "data": {
      "text/html": "<div>\n<style scoped>\n    .dataframe tbody tr th:only-of-type {\n        vertical-align: middle;\n    }\n\n    .dataframe tbody tr th {\n        vertical-align: top;\n    }\n\n    .dataframe thead th {\n        text-align: right;\n    }\n</style>\n<table border=\"1\" class=\"dataframe\">\n  <thead>\n    <tr style=\"text-align: right;\">\n      <th></th>\n      <th>values</th>\n    </tr>\n  </thead>\n  <tbody>\n    <tr>\n      <th>lam</th>\n      <td>0</td>\n    </tr>\n    <tr>\n      <th>mu</th>\n      <td>1</td>\n    </tr>\n    <tr>\n      <th>duration</th>\n      <td>600</td>\n    </tr>\n  </tbody>\n</table>\n</div>",
      "text/plain": "lam           0\nmu            1\nduration    600\ndtype: int64"
     },
     "execution_count": 56,
     "metadata": {},
     "output_type": "execute_result"
    }
   ],
   "source": [
    "System2 = State(lam = 0, mu = 1, duration = 600)"
   ]
  },
  {
   "cell_type": "markdown",
   "metadata": {},
   "source": [
    "Use this update function to simulate the system, plot the results, and print the metrics."
   ]
  },
  {
   "cell_type": "code",
   "execution_count": 231,
   "metadata": {},
   "outputs": [
    {
     "data": {
      "text/plain": "[<matplotlib.lines.Line2D at 0x2b27a010ba8>]"
     },
     "execution_count": 231,
     "metadata": {},
     "output_type": "execute_result"
    },
    {
     "data": {
      "image/png": "[encoded data removed]",
      "text/plain": "<Figure size 432x288 with 1 Axes>"
     },
     "metadata": {
      "needs_background": "light"
     },
     "output_type": "display_data"
    }
   ],
   "source": [
    "run_simulation(System,update_func_2)\r\n",
    "plot(run_simulation(System,update_func_2))"
   ]
  },
  {
   "cell_type": "markdown",
   "metadata": {},
   "source": [
    "Since we have two checkout counters now, we can consider values for $\\lambda$ that exceed $\\mu$.\n",
    "\n",
    "Create a new array of values for `lam` from 10% to 160% of `mu`."
   ]
  },
  {
   "cell_type": "code",
   "execution_count": 235,
   "metadata": {},
   "outputs": [
    {
     "data": {
      "text/plain": "[0.020000000000000004,\n 0.04000000000000001,\n 0.06000000000000001,\n 0.08000000000000002,\n 0.1,\n 0.12000000000000002,\n 0.14,\n 0.16000000000000003,\n 0.18000000000000002,\n 0.2,\n 0.22000000000000003,\n 0.24000000000000005,\n 0.26,\n 0.28,\n 0.30000000000000004,\n 0.32000000000000006]"
     },
     "execution_count": 235,
     "metadata": {},
     "output_type": "execute_result"
    }
   ],
   "source": [
    "# Solution goes here\r\n",
    "def generate_lam_spectrum_new(mu):\r\n",
    "    return [(i+1)*0.1*mu for i in range(16)]\r\n",
    "\r\n",
    "new_lam_list = generate_lam_spectrum_new(System.mu)"
   ]
  },
  {
   "cell_type": "markdown",
   "metadata": {},
   "source": [
    "Use your sweep function to simulate the two server, one queue scenario with a range of values for `lam`.\n",
    "\n",
    "Plot the results and print the average value of `W` across all values of `lam`."
   ]
  },
  {
   "cell_type": "code",
   "execution_count": 20,
   "metadata": {},
   "outputs": [],
   "source": [
    "# Solution goes here\r\n",
    "\r\n",
    "\r\n",
    "\r\n",
    "# POSTPONED\r\n",
    "generate_SweepSeries()"
   ]
  },
  {
   "cell_type": "code",
   "execution_count": 21,
   "metadata": {},
   "outputs": [],
   "source": [
    "# Solution goes here"
   ]
  },
  {
   "cell_type": "markdown",
   "metadata": {},
   "source": [
    "### Multiple queues\n",
    "\n",
    "To simulate the scenario with two separate queues, we need two state variables to keep track of customers in each queue.\n",
    "\n",
    "Write an update function that takes `x1`, `x2`, `t`, and `system` as parameters and returns `x1` and `x2` as return values.  f you are not sure how to return more than one return value, see `compute_metrics`.\n",
    "\n",
    "When a customer arrives, which queue do they join?"
   ]
  },
  {
   "cell_type": "code",
   "execution_count": 237,
   "metadata": {},
   "outputs": [],
   "source": [
    "def update_func_3(x1,x2,t,system):\r\n",
    "    t+=1\r\n",
    "    \r\n",
    "    for x in (x1,x2):\r\n",
    "        if x > 0:\r\n",
    "            if np.random.binomial(1,system.mu):\r\n",
    "                x -= 1\r\n",
    "        if np.random.binomial(1,system.lam):\r\n",
    "                x += 1    \r\n",
    "\r\n",
    "    return x1,x2\r\n",
    "\r\n",
    "\r\n",
    "    # if x1 > 0:\r\n",
    "    #     if np.random.binomial(1,system.mu):\r\n",
    "    #         x1 -= 1\r\n",
    "    # if np.random.binomial(1,system.lam):\r\n",
    "    #         x1 += 1\r\n",
    "    \r\n",
    "    # if x2 > 0:\r\n",
    "    #     if np.random.binomial(1,system.mu):\r\n",
    "    #         x2 -= 1\r\n",
    "    # if np.random.binomial(1,system.lam):\r\n",
    "    #         x2 += 1\r\n",
    "    "
   ]
  },
  {
   "cell_type": "markdown",
   "metadata": {},
   "source": [
    "Write a version of `run_simulation` that works with this update function."
   ]
  },
  {
   "cell_type": "code",
   "execution_count": 23,
   "metadata": {},
   "outputs": [],
   "source": [
    "# Solution goes here"
   ]
  },
  {
   "cell_type": "markdown",
   "metadata": {},
   "source": [
    "Test your functions by running a simulation with a single value of `lam`."
   ]
  },
  {
   "cell_type": "code",
   "execution_count": 24,
   "metadata": {},
   "outputs": [],
   "source": [
    "# Solution goes here"
   ]
  },
  {
   "cell_type": "markdown",
   "metadata": {},
   "source": [
    "Sweep a range of values for `lam`, plot the results, and print the average wait time across all values of `lam`.\n",
    "\n",
    "How do the results compare to the scenario with two servers and one queue."
   ]
  },
  {
   "cell_type": "code",
   "execution_count": 25,
   "metadata": {},
   "outputs": [],
   "source": [
    "# Solution goes here"
   ]
  },
  {
   "cell_type": "code",
   "execution_count": 26,
   "metadata": {},
   "outputs": [],
   "source": [
    "# Solution goes here"
   ]
  },
  {
   "cell_type": "code",
   "execution_count": 27,
   "metadata": {},
   "outputs": [],
   "source": [
    "# Solution goes here"
   ]
  },
  {
   "cell_type": "code",
   "execution_count": null,
   "metadata": {},
   "outputs": [],
   "source": []
  }
 ],
 "metadata": {
  "kernelspec": {
   "display_name": "Python 3",
   "language": "python",
   "name": "python3"
  },
  "language_info": {
   "codemirror_mode": {
    "name": "ipython",
    "version": 3
   },
   "file_extension": ".py",
   "mimetype": "text/x-python",
   "name": "python",
   "nbconvert_exporter": "python",
   "pygments_lexer": "ipython3",
   "version": "3.7.1"
  }
 },
 "nbformat": 4,
 "nbformat_minor": 2
}